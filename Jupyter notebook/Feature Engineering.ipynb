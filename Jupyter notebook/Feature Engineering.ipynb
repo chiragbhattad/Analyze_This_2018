{
 "cells": [
  {
   "cell_type": "code",
   "execution_count": 234,
   "metadata": {},
   "outputs": [
    {
     "name": "stdout",
     "output_type": "stream",
     "text": [
      "height has been deprecated.\n",
      "\n"
     ]
    }
   ],
   "source": [
    "import pandas as pd\n",
    "import numpy as np\n",
    "import matplotlib.pyplot as plt\n",
    "from sklearn.preprocessing import StandardScaler\n",
    "from sklearn.model_selection import train_test_split\n",
    "from sklearn.ensemble import RandomForestClassifier\n",
    "import xgboost as xgb\n",
    "from xgboost.sklearn import XGBClassifier\n",
    "from sklearn.model_selection import GridSearchCV\n",
    "from sklearn.metrics import roc_auc_score\n",
    "from sklearn.decomposition import PCA\n",
    "from sklearn.cluster import DBSCAN\n",
    "from sklearn.preprocessing import MinMaxScaler\n",
    "from sklearn.neural_network import MLPClassifier\n",
    "import lightgbm as lgb\n",
    "from scipy.stats import norm, skew\n",
    "from scipy.special import boxcox1p\n",
    "import keras\n",
    "from keras.models import Sequential\n",
    "from keras.layers import Dense\n",
    "from sklearn.metrics import confusion_matrix\n",
    "from keras.layers import Dense, Dropout, Activation\n",
    "from keras.optimizers import SGD\n",
    "from keras.layers import Conv1D, GlobalAveragePooling1D, MaxPooling1D\n",
    "%matplotlib inline\n",
    "\n",
    "pd.set_option('display.height', 1000)\n",
    "pd.set_option('display.max_rows', 500)\n",
    "pd.set_option('display.max_columns', 500)\n",
    "pd.set_option('display.width', 1000)"
   ]
  },
  {
   "cell_type": "code",
   "execution_count": 235,
   "metadata": {},
   "outputs": [
    {
     "name": "stdout",
     "output_type": "stream",
     "text": [
      "/Users/chiragbhattad/Downloads/Analyze_This_2018\n"
     ]
    }
   ],
   "source": [
    "cd \"/Users/chiragbhattad/Downloads/Analyze_This_2018\""
   ]
  },
  {
   "cell_type": "code",
   "execution_count": 236,
   "metadata": {
    "collapsed": true
   },
   "outputs": [],
   "source": [
    "data = pd.read_csv('Training_dataset_Original.csv')\n",
    "data.drop(['application_key'],axis=1, inplace=True)\n",
    "# data.drop(['mvar47'], axis=1, inplace=True)"
   ]
  },
  {
   "cell_type": "code",
   "execution_count": 237,
   "metadata": {
    "collapsed": true
   },
   "outputs": [],
   "source": [
    "# cols = data.columns\n",
    "\n",
    "# for i in cols:\n",
    "#     count = data[i].isnull().sum()\n",
    "#     if count>20000:\n",
    "#         data.drop([i], axis=1, inplace=True)"
   ]
  },
  {
   "cell_type": "code",
   "execution_count": 238,
   "metadata": {},
   "outputs": [
    {
     "name": "stdout",
     "output_type": "stream",
     "text": [
      "48\n"
     ]
    }
   ],
   "source": [
    "new_cols = data.columns\n",
    "print(len(new_cols))"
   ]
  },
  {
   "cell_type": "code",
   "execution_count": 239,
   "metadata": {},
   "outputs": [
    {
     "name": "stdout",
     "output_type": "stream",
     "text": [
      "\n"
     ]
    }
   ],
   "source": [
    "data.fillna(value=data.median(axis=0), inplace=True)\n",
    "print()"
   ]
  },
  {
   "cell_type": "code",
   "execution_count": 240,
   "metadata": {
    "collapsed": true
   },
   "outputs": [],
   "source": [
    "numeric_feats = list(data.dtypes[data.dtypes != \"object\"].index)\n",
    "numeric_feats.remove('default_ind')\n",
    "# numeric_feats.remove('mvar1')\n",
    "# numeric_feats.remove('mvar2')\n",
    "# numeric_feats.remove('mvar16')\n",
    "# numeric_feats.remove('mvar17')\n",
    "# numeric_feats.remove('mvar18')\n",
    "# numeric_feats.remove('mvar19')\n",
    "# numeric_feats.remove('mvar20')\n",
    "# numeric_feats.remove('mvar30')\n",
    "# numeric_feats.remove('mvar31')\n",
    "# numeric_feats.remove('mvar35')\n",
    "# numeric_feats.remove('mvar36')\n",
    "# numeric_feats.remove('mvar39')\n",
    "# numeric_feats.remove('mvar40')\n",
    "# numeric_feats.remove('mvar41')\n",
    "# numeric_feats.remove('mvar42')\n",
    "# numeric_feats.remove('mvar47')"
   ]
  },
  {
   "cell_type": "code",
   "execution_count": 241,
   "metadata": {},
   "outputs": [
    {
     "name": "stdout",
     "output_type": "stream",
     "text": [
      "\n",
      "Skew in numerical features: \n",
      "\n"
     ]
    },
    {
     "data": {
      "text/html": [
       "<div>\n",
       "<style>\n",
       "    .dataframe thead tr:only-child th {\n",
       "        text-align: right;\n",
       "    }\n",
       "\n",
       "    .dataframe thead th {\n",
       "        text-align: left;\n",
       "    }\n",
       "\n",
       "    .dataframe tbody tr th {\n",
       "        vertical-align: top;\n",
       "    }\n",
       "</style>\n",
       "<table border=\"1\" class=\"dataframe\">\n",
       "  <thead>\n",
       "    <tr style=\"text-align: right;\">\n",
       "      <th></th>\n",
       "      <th>Skew</th>\n",
       "    </tr>\n",
       "  </thead>\n",
       "  <tbody>\n",
       "    <tr>\n",
       "      <th>mvar14</th>\n",
       "      <td>105.896380</td>\n",
       "    </tr>\n",
       "    <tr>\n",
       "      <th>mvar13</th>\n",
       "      <td>51.215625</td>\n",
       "    </tr>\n",
       "    <tr>\n",
       "      <th>mvar24</th>\n",
       "      <td>41.626102</td>\n",
       "    </tr>\n",
       "    <tr>\n",
       "      <th>mvar7</th>\n",
       "      <td>33.305702</td>\n",
       "    </tr>\n",
       "    <tr>\n",
       "      <th>mvar10</th>\n",
       "      <td>15.446177</td>\n",
       "    </tr>\n",
       "  </tbody>\n",
       "</table>\n",
       "</div>"
      ],
      "text/plain": [
       "              Skew\n",
       "mvar14  105.896380\n",
       "mvar13   51.215625\n",
       "mvar24   41.626102\n",
       "mvar7    33.305702\n",
       "mvar10   15.446177"
      ]
     },
     "execution_count": 241,
     "metadata": {},
     "output_type": "execute_result"
    }
   ],
   "source": [
    "skewed_feats = data[numeric_feats].apply(lambda x: skew(x.dropna())).sort_values(ascending=False)\n",
    "print(\"\\nSkew in numerical features: \\n\")\n",
    "skewness = pd.DataFrame({'Skew' :skewed_feats})\n",
    "skewness.head()"
   ]
  },
  {
   "cell_type": "code",
   "execution_count": 242,
   "metadata": {},
   "outputs": [
    {
     "name": "stdout",
     "output_type": "stream",
     "text": [
      "There are 46 skewed numerical features to Box Cox transform\n"
     ]
    }
   ],
   "source": [
    "skewness = skewness[abs(skewness) > 1]\n",
    "print(\"There are {} skewed numerical features to Box Cox transform\".format(skewness.shape[0]))\n",
    "skewed_features = skewness.index\n",
    "lam = 0.175\n",
    "for feat in skewed_features:\n",
    "    #data[feat] += 1\n",
    "    data[feat] = boxcox1p(data[feat], lam)"
   ]
  },
  {
   "cell_type": "code",
   "execution_count": 243,
   "metadata": {
    "collapsed": true
   },
   "outputs": [],
   "source": [
    "# C=0  L=1\n",
    "\n",
    "data['mvar47'].replace(to_replace='C', value=0, inplace=True)\n",
    "data['mvar47'].replace(to_replace='L', value=1, inplace=True)"
   ]
  },
  {
   "cell_type": "markdown",
   "metadata": {},
   "source": [
    "## Scale the data"
   ]
  },
  {
   "cell_type": "code",
   "execution_count": 244,
   "metadata": {
    "collapsed": true
   },
   "outputs": [],
   "source": [
    "feature = data.columns[:-1]\n",
    "target = data.columns[-1]\n",
    "X = data[feature]\n",
    "y = data[target]"
   ]
  },
  {
   "cell_type": "code",
   "execution_count": 245,
   "metadata": {
    "collapsed": true
   },
   "outputs": [],
   "source": [
    "sc = StandardScaler()\n",
    "X = sc.fit_transform(X)"
   ]
  },
  {
   "cell_type": "code",
   "execution_count": 246,
   "metadata": {
    "collapsed": true
   },
   "outputs": [],
   "source": [
    "# data.corr()\n",
    "# look = data.corr()>0.8\n",
    "# data['mvar19'] = data['mvar19'] + data['mvar20']\n",
    "# data.drop(['mvar20'], axis=1, inplace=True)\n",
    "# data['mvar32'] = data['mvar29'] + data['mvar32'] + data['mvar37']\n",
    "# data.drop(['mvar29'], axis=1, inplace=True)\n",
    "# data.drop(['mvar37'], axis=1, inplace=True)"
   ]
  },
  {
   "cell_type": "code",
   "execution_count": 247,
   "metadata": {
    "collapsed": true
   },
   "outputs": [],
   "source": [
    "# quantiles_list = [0, 0.25, 0.5, 0.75, 1]\n",
    "# for cols in numeric_feats:\n",
    "#     quantiles = data[cols].quantile(quantiles_list)\n",
    "#     plt.hist(data[cols], bins=50)\n",
    "#     for quantile in quantiles:\n",
    "#         plt.axvline(quantile, c='r')\n",
    "# plt.show()"
   ]
  },
  {
   "cell_type": "markdown",
   "metadata": {},
   "source": [
    "## Skewness removal of Leaderboard dataset"
   ]
  },
  {
   "cell_type": "code",
   "execution_count": 248,
   "metadata": {
    "collapsed": true
   },
   "outputs": [],
   "source": [
    "lead_data = pd.read_csv('Leaderboard_dataset.csv')"
   ]
  },
  {
   "cell_type": "code",
   "execution_count": 249,
   "metadata": {
    "collapsed": true
   },
   "outputs": [],
   "source": [
    "lead_cols = ['application_key']+ list(data.columns)[:-1]\n",
    "lead_data = lead_data[lead_cols]"
   ]
  },
  {
   "cell_type": "code",
   "execution_count": 250,
   "metadata": {},
   "outputs": [
    {
     "name": "stdout",
     "output_type": "stream",
     "text": [
      "\n"
     ]
    }
   ],
   "source": [
    "lead_data.fillna(value=lead_data.median(axis=0), inplace=True)\n",
    "print(\"\")"
   ]
  },
  {
   "cell_type": "code",
   "execution_count": 251,
   "metadata": {
    "collapsed": true
   },
   "outputs": [],
   "source": [
    "numeric_feats1 = list(lead_data.dtypes[lead_data.dtypes != \"object\"].index)\n",
    "# numeric_feats1.remove('mvar47')\n",
    "numeric_feats1.remove('application_key')\n",
    "# numeric_feats1.remove('mvar1')\n",
    "# numeric_feats1.remove('mvar2')\n",
    "# numeric_feats1.remove('mvar16')\n",
    "# numeric_feats1.remove('mvar17')\n",
    "# numeric_feats1.remove('mvar18')\n",
    "# numeric_feats1.remove('mvar19')\n",
    "# numeric_feats1.remove('mvar20')\n",
    "# numeric_feats1.remove('mvar30')\n",
    "# numeric_feats1.remove('mvar31')\n",
    "# numeric_feats1.remove('mvar35')\n",
    "# numeric_feats1.remove('mvar36')\n",
    "# numeric_feats1.remove('mvar39')\n",
    "# numeric_feats1.remove('mvar40')\n",
    "# numeric_feats1.remove('mvar41')\n",
    "# numeric_feats1.remove('mvar42')"
   ]
  },
  {
   "cell_type": "code",
   "execution_count": 252,
   "metadata": {},
   "outputs": [
    {
     "name": "stdout",
     "output_type": "stream",
     "text": [
      "\n",
      "Skew in numerical features: \n",
      "\n"
     ]
    },
    {
     "data": {
      "text/html": [
       "<div>\n",
       "<style>\n",
       "    .dataframe thead tr:only-child th {\n",
       "        text-align: right;\n",
       "    }\n",
       "\n",
       "    .dataframe thead th {\n",
       "        text-align: left;\n",
       "    }\n",
       "\n",
       "    .dataframe tbody tr th {\n",
       "        vertical-align: top;\n",
       "    }\n",
       "</style>\n",
       "<table border=\"1\" class=\"dataframe\">\n",
       "  <thead>\n",
       "    <tr style=\"text-align: right;\">\n",
       "      <th></th>\n",
       "      <th>Skew</th>\n",
       "    </tr>\n",
       "  </thead>\n",
       "  <tbody>\n",
       "    <tr>\n",
       "      <th>mvar14</th>\n",
       "      <td>153.271851</td>\n",
       "    </tr>\n",
       "    <tr>\n",
       "      <th>mvar11</th>\n",
       "      <td>78.962244</td>\n",
       "    </tr>\n",
       "    <tr>\n",
       "      <th>mvar7</th>\n",
       "      <td>53.248164</td>\n",
       "    </tr>\n",
       "    <tr>\n",
       "      <th>mvar24</th>\n",
       "      <td>38.179394</td>\n",
       "    </tr>\n",
       "    <tr>\n",
       "      <th>mvar10</th>\n",
       "      <td>24.884558</td>\n",
       "    </tr>\n",
       "  </tbody>\n",
       "</table>\n",
       "</div>"
      ],
      "text/plain": [
       "              Skew\n",
       "mvar14  153.271851\n",
       "mvar11   78.962244\n",
       "mvar7    53.248164\n",
       "mvar24   38.179394\n",
       "mvar10   24.884558"
      ]
     },
     "execution_count": 252,
     "metadata": {},
     "output_type": "execute_result"
    }
   ],
   "source": [
    "skewed_feats1 = lead_data[numeric_feats1].apply(lambda x: skew(x.dropna())).sort_values(ascending=False)\n",
    "print(\"\\nSkew in numerical features: \\n\")\n",
    "skewness1 = pd.DataFrame({'Skew' :skewed_feats1})\n",
    "skewness1.head()"
   ]
  },
  {
   "cell_type": "code",
   "execution_count": 253,
   "metadata": {},
   "outputs": [
    {
     "name": "stdout",
     "output_type": "stream",
     "text": [
      "There are 46 skewed numerical features to Box Cox transform\n"
     ]
    }
   ],
   "source": [
    "skewness1 = skewness1[abs(skewness1) > 1]\n",
    "print(\"There are {} skewed numerical features to Box Cox transform\".format(skewness1.shape[0]))\n",
    "\n",
    "from scipy.special import boxcox1p\n",
    "skewed_features1 = skewness1.index\n",
    "lam = 0.175\n",
    "for feat in skewed_features1:\n",
    "    #data[feat] += 1\n",
    "    lead_data[feat] = boxcox1p(lead_data[feat], lam)"
   ]
  },
  {
   "cell_type": "code",
   "execution_count": 254,
   "metadata": {
    "collapsed": true
   },
   "outputs": [],
   "source": [
    "lead_data['mvar47'].replace(to_replace='C', value=0, inplace=True)\n",
    "lead_data['mvar47'].replace(to_replace='L', value=1, inplace=True)"
   ]
  },
  {
   "cell_type": "code",
   "execution_count": 255,
   "metadata": {
    "collapsed": true
   },
   "outputs": [],
   "source": [
    "X_train, X_test, y_train, y_test = train_test_split(X, y, test_size=0.2, random_state=1)"
   ]
  },
  {
   "cell_type": "markdown",
   "metadata": {},
   "source": [
    "## Model"
   ]
  },
  {
   "cell_type": "code",
   "execution_count": 256,
   "metadata": {},
   "outputs": [
    {
     "name": "stdout",
     "output_type": "stream",
     "text": [
      "Fitting 2 folds for each of 1 candidates, totalling 2 fits\n"
     ]
    },
    {
     "name": "stderr",
     "output_type": "stream",
     "text": [
      "[Parallel(n_jobs=1)]: Done   2 out of   2 | elapsed:  1.5min finished\n"
     ]
    },
    {
     "data": {
      "text/plain": [
       "GridSearchCV(cv=2, error_score='raise',\n",
       "       estimator=XGBClassifier(base_score=0.5, booster='gbtree', colsample_bylevel=1,\n",
       "       colsample_bytree=1, gamma=0, learning_rate=0.1, max_delta_step=0,\n",
       "       max_depth=3, min_child_weight=1, missing=None, n_estimators=100,\n",
       "       n_jobs=-1, nthread=None, objective='binary:logistic',\n",
       "       random_state=1, reg_alpha=0, reg_lambda=1, scale_pos_weight=1,\n",
       "       seed=None, silent=False, subsample=1),\n",
       "       fit_params={}, iid=True, n_jobs=1,\n",
       "       param_grid={'booster': ['gbtree'], 'colsample_bylevel': [0.8], 'colsample_bytree': [0.8], 'subsample': [0.8], 'max_delta_step': [0], 'max_depth': [6], 'min_child_weight': [1], 'n_estimators': [310], 'learning_rate': [0.05], 'gamma': [5], 'reg_lambda': [23]},\n",
       "       pre_dispatch='2*n_jobs', refit=True, return_train_score=True,\n",
       "       scoring='roc_auc', verbose=1)"
      ]
     },
     "execution_count": 256,
     "metadata": {},
     "output_type": "execute_result"
    }
   ],
   "source": [
    "xgb = XGBClassifier(n_jobs=-1, silent=False, random_state=1, objective=\"binary:logistic\", )\n",
    "# 'learning_rate':[0.01, 0.05, 0.1, 0.2],\n",
    "param_grid = {'booster': [\"gbtree\"],\n",
    "              'colsample_bylevel': [0.8],\n",
    "              'colsample_bytree': [0.8],\n",
    "              'subsample': [0.8],\n",
    "              'max_delta_step':[0],\n",
    "              'max_depth': [6],\n",
    "              'min_child_weight': [1],\n",
    "              'n_estimators': [310],\n",
    "              'learning_rate': [0.05],\n",
    "              'gamma': [5],\n",
    "              'reg_lambda': [23],\n",
    "             }\n",
    "\n",
    "\n",
    "\n",
    "CV_xgb = GridSearchCV(estimator=xgb, param_grid=param_grid,scoring='roc_auc', cv=2, verbose=1)\n",
    "CV_xgb.fit(X, y)"
   ]
  },
  {
   "cell_type": "code",
   "execution_count": 257,
   "metadata": {
    "collapsed": true
   },
   "outputs": [],
   "source": [
    "# param_grid = {'booster': [\"gbtree\"],\n",
    "#               'colsample_bylevel': [0.8],\n",
    "#               'colsample_bytree': [0.8],\n",
    "#               'subsample': [0.8],\n",
    "#               'max_delta_step':[0],\n",
    "#               'max_depth': [6],\n",
    "#               'min_child_weight': [1],\n",
    "#               'n_estimators': [300],\n",
    "#               'learning_rate': [0.05],\n",
    "#               'gamma': [45],\n",
    "#               'reg_lambda': [23]\n",
    "#              }"
   ]
  },
  {
   "cell_type": "code",
   "execution_count": 258,
   "metadata": {},
   "outputs": [
    {
     "name": "stdout",
     "output_type": "stream",
     "text": [
      "0.8682414284639046\n",
      "0.870156026732264\n"
     ]
    }
   ],
   "source": [
    "train_score = CV_xgb.score(X_train, y_train)\n",
    "test_score = CV_xgb.score(X_test, y_test)\n",
    "\n",
    "print(train_score)\n",
    "print(test_score)"
   ]
  },
  {
   "cell_type": "markdown",
   "metadata": {},
   "source": [
    "## Running the model on Leaderboard dataset"
   ]
  },
  {
   "cell_type": "code",
   "execution_count": 259,
   "metadata": {
    "collapsed": true
   },
   "outputs": [],
   "source": [
    "X_lead = lead_data[lead_data.columns[1:]]\n",
    "# X_lead = X_lead.as_matrix()"
   ]
  },
  {
   "cell_type": "code",
   "execution_count": 260,
   "metadata": {
    "collapsed": true
   },
   "outputs": [],
   "source": [
    "X_lead = sc.fit_transform(X_lead)\n",
    "# X_lead = pca.transform(X_lead)"
   ]
  },
  {
   "cell_type": "code",
   "execution_count": 261,
   "metadata": {},
   "outputs": [
    {
     "data": {
      "text/plain": [
       "(25000, 2)"
      ]
     },
     "execution_count": 261,
     "metadata": {},
     "output_type": "execute_result"
    }
   ],
   "source": [
    "# predictions = classifier.predict(X_lead)\n",
    "predictions = CV_xgb.predict_proba(X_lead)\n",
    "predictions.shape"
   ]
  },
  {
   "cell_type": "code",
   "execution_count": 262,
   "metadata": {
    "collapsed": true
   },
   "outputs": [],
   "source": [
    "predictions = predictions[:,1]\n",
    "sub = pd.DataFrame()\n",
    "sub['app_id'] = lead_data['application_key']\n",
    "sub['pred'] = pd.Series(predictions)\n",
    "# sub['pred'] = predictions"
   ]
  },
  {
   "cell_type": "code",
   "execution_count": 263,
   "metadata": {
    "collapsed": true
   },
   "outputs": [],
   "source": [
    "sub.sort_values(by=['pred'],ascending=True, inplace=True)\n",
    "sub['pred'] = [1 if x >=0.50 else 0 for x in sub['pred']]"
   ]
  },
  {
   "cell_type": "code",
   "execution_count": 264,
   "metadata": {
    "collapsed": true
   },
   "outputs": [],
   "source": [
    "np.savetxt('Etching_coders_IITMadras_371.csv',sub,fmt='%5d', delimiter=\",\")"
   ]
  },
  {
   "cell_type": "code",
   "execution_count": null,
   "metadata": {
    "collapsed": true
   },
   "outputs": [],
   "source": []
  },
  {
   "cell_type": "markdown",
   "metadata": {},
   "source": [
    "# Evaluation Dataset:"
   ]
  },
  {
   "cell_type": "code",
   "execution_count": 265,
   "metadata": {
    "collapsed": true
   },
   "outputs": [],
   "source": [
    "eval_data = pd.read_csv('Evaluation_dataset.csv')\n",
    "eval_cols = ['application_key']+ list(data.columns)[:-1]\n",
    "eval_data = eval_data[eval_cols]"
   ]
  },
  {
   "cell_type": "code",
   "execution_count": 266,
   "metadata": {},
   "outputs": [
    {
     "name": "stdout",
     "output_type": "stream",
     "text": [
      "\n"
     ]
    }
   ],
   "source": [
    "eval_data.fillna(value=eval_data.median(axis=0), inplace=True)\n",
    "print(\"\")"
   ]
  },
  {
   "cell_type": "markdown",
   "metadata": {},
   "source": [
    "### PCA for Eval dataset"
   ]
  },
  {
   "cell_type": "code",
   "execution_count": 267,
   "metadata": {
    "collapsed": true
   },
   "outputs": [],
   "source": [
    "numeric_feats2 = list(eval_data.dtypes[eval_data.dtypes != \"object\"].index)\n",
    "# numeric_feats1.remove('mvar47')\n",
    "numeric_feats2.remove('application_key')"
   ]
  },
  {
   "cell_type": "code",
   "execution_count": 268,
   "metadata": {},
   "outputs": [
    {
     "name": "stdout",
     "output_type": "stream",
     "text": [
      "\n",
      "Skew in numerical features: \n",
      "\n"
     ]
    },
    {
     "data": {
      "text/html": [
       "<div>\n",
       "<style>\n",
       "    .dataframe thead tr:only-child th {\n",
       "        text-align: right;\n",
       "    }\n",
       "\n",
       "    .dataframe thead th {\n",
       "        text-align: left;\n",
       "    }\n",
       "\n",
       "    .dataframe tbody tr th {\n",
       "        vertical-align: top;\n",
       "    }\n",
       "</style>\n",
       "<table border=\"1\" class=\"dataframe\">\n",
       "  <thead>\n",
       "    <tr style=\"text-align: right;\">\n",
       "      <th></th>\n",
       "      <th>Skew</th>\n",
       "    </tr>\n",
       "  </thead>\n",
       "  <tbody>\n",
       "    <tr>\n",
       "      <th>mvar14</th>\n",
       "      <td>104.977239</td>\n",
       "    </tr>\n",
       "    <tr>\n",
       "      <th>mvar13</th>\n",
       "      <td>74.917028</td>\n",
       "    </tr>\n",
       "    <tr>\n",
       "      <th>mvar24</th>\n",
       "      <td>49.228692</td>\n",
       "    </tr>\n",
       "    <tr>\n",
       "      <th>mvar15</th>\n",
       "      <td>19.514943</td>\n",
       "    </tr>\n",
       "    <tr>\n",
       "      <th>mvar11</th>\n",
       "      <td>14.346505</td>\n",
       "    </tr>\n",
       "  </tbody>\n",
       "</table>\n",
       "</div>"
      ],
      "text/plain": [
       "              Skew\n",
       "mvar14  104.977239\n",
       "mvar13   74.917028\n",
       "mvar24   49.228692\n",
       "mvar15   19.514943\n",
       "mvar11   14.346505"
      ]
     },
     "execution_count": 268,
     "metadata": {},
     "output_type": "execute_result"
    }
   ],
   "source": [
    "skewed_feats2 = eval_data[numeric_feats2].apply(lambda x: skew(x.dropna())).sort_values(ascending=False)\n",
    "print(\"\\nSkew in numerical features: \\n\")\n",
    "skewness2 = pd.DataFrame({'Skew' :skewed_feats2})\n",
    "skewness2.head()"
   ]
  },
  {
   "cell_type": "code",
   "execution_count": 269,
   "metadata": {},
   "outputs": [
    {
     "name": "stdout",
     "output_type": "stream",
     "text": [
      "There are 46 skewed numerical features to Box Cox transform\n"
     ]
    }
   ],
   "source": [
    "skewness2 = skewness2[abs(skewness2) > 1]\n",
    "print(\"There are {} skewed numerical features to Box Cox transform\".format(skewness2.shape[0]))\n",
    "\n",
    "from scipy.special import boxcox1p\n",
    "skewed_features2 = skewness2.index\n",
    "lam = 0.175\n",
    "for feat in skewed_features2:\n",
    "    #data[feat] += 1\n",
    "    eval_data[feat] = boxcox1p(eval_data[feat], lam)"
   ]
  },
  {
   "cell_type": "code",
   "execution_count": 270,
   "metadata": {
    "collapsed": true
   },
   "outputs": [],
   "source": [
    "eval_data['mvar47'].replace(to_replace='C', value=0, inplace=True)\n",
    "eval_data['mvar47'].replace(to_replace='L', value=1, inplace=True)"
   ]
  },
  {
   "cell_type": "code",
   "execution_count": 271,
   "metadata": {
    "collapsed": true
   },
   "outputs": [],
   "source": [
    "sc2 = StandardScaler()\n",
    "eval_X = sc2.fit_transform(eval_data)"
   ]
  },
  {
   "cell_type": "code",
   "execution_count": 272,
   "metadata": {
    "collapsed": true
   },
   "outputs": [],
   "source": [
    "pca2 = PCA(n_components=2, random_state=1)\n",
    "principal_components2 = pca2.fit_transform(eval_X)"
   ]
  },
  {
   "cell_type": "code",
   "execution_count": 273,
   "metadata": {},
   "outputs": [
    {
     "data": {
      "text/plain": [
       "<matplotlib.collections.PathCollection at 0x14e59aba8>"
      ]
     },
     "execution_count": 273,
     "metadata": {},
     "output_type": "execute_result"
    },
    {
     "data": {
      "image/png": "[encoded data removed]",
      "text/plain": [
       "<matplotlib.figure.Figure at 0x14d9530b8>"
      ]
     },
     "metadata": {},
     "output_type": "display_data"
    }
   ],
   "source": [
    "plt.scatter(principal_components2[:,0],principal_components2[:,1])"
   ]
  },
  {
   "cell_type": "code",
   "execution_count": 274,
   "metadata": {
    "collapsed": true
   },
   "outputs": [],
   "source": [
    "X_eval = eval_data[eval_data.columns[1:]]\n",
    "# X_eval = X_eval.as_matrix()"
   ]
  },
  {
   "cell_type": "code",
   "execution_count": 275,
   "metadata": {
    "collapsed": true
   },
   "outputs": [],
   "source": [
    "X_eval = sc.fit_transform(X_eval)\n",
    "# X_eval = pca.transform(X_eval)"
   ]
  },
  {
   "cell_type": "code",
   "execution_count": 276,
   "metadata": {},
   "outputs": [
    {
     "data": {
      "text/plain": [
       "(25000, 2)"
      ]
     },
     "execution_count": 276,
     "metadata": {},
     "output_type": "execute_result"
    }
   ],
   "source": [
    "# eval_pred = classifier.predict(X_eval)\n",
    "eval_pred = CV_xgb.predict_proba(X_eval)\n",
    "eval_pred.shape"
   ]
  },
  {
   "cell_type": "code",
   "execution_count": 277,
   "metadata": {
    "collapsed": true
   },
   "outputs": [],
   "source": [
    "eval_pred = eval_pred[:,1]\n",
    "sub_eval = pd.DataFrame()\n",
    "sub_eval['app_id'] = eval_data['application_key']\n",
    "sub_eval['pred'] = pd.Series(eval_pred)\n",
    "# sub_eval['pred'] = eval_pred"
   ]
  },
  {
   "cell_type": "code",
   "execution_count": 278,
   "metadata": {
    "collapsed": true
   },
   "outputs": [],
   "source": [
    "sub_eval.sort_values(by=['pred'],ascending=True, inplace=True)\n",
    "sub_eval['pred'] = [1 if x >=0.50 else 0 for x in sub_eval['pred']]"
   ]
  },
  {
   "cell_type": "code",
   "execution_count": 279,
   "metadata": {
    "collapsed": true
   },
   "outputs": [],
   "source": [
    "np.savetxt('Etching_coders_IITMadras_Evaluation_dataset.csv', sub_eval, fmt='%5d', delimiter=\",\")"
   ]
  },
  {
   "cell_type": "code",
   "execution_count": null,
   "metadata": {
    "collapsed": true
   },
   "outputs": [],
   "source": []
  }
 ],
 "metadata": {
  "kernelspec": {
   "display_name": "Python 3",
   "language": "python",
   "name": "python3"
  },
  "language_info": {
   "codemirror_mode": {
    "name": "ipython",
    "version": 3
   },
   "file_extension": ".py",
   "mimetype": "text/x-python",
   "name": "python",
   "nbconvert_exporter": "python",
   "pygments_lexer": "ipython3",
   "version": "3.6.1"
  }
 },
 "nbformat": 4,
 "nbformat_minor": 2
}
