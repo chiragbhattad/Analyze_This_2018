{
 "cells": [
  {
   "cell_type": "code",
   "execution_count": 1,
   "metadata": {},
   "outputs": [
    {
     "name": "stdout",
     "output_type": "stream",
     "text": [
      "height has been deprecated.\n",
      "\n"
     ]
    }
   ],
   "source": [
    "import pandas as pd\n",
    "import numpy as np\n",
    "import matplotlib.pyplot as plt\n",
    "from sklearn.preprocessing import StandardScaler\n",
    "from sklearn.model_selection import train_test_split\n",
    "from sklearn.ensemble import RandomForestClassifier\n",
    "import xgboost as xgb\n",
    "from xgboost.sklearn import XGBClassifier\n",
    "from sklearn.linear_model import LogisticRegression\n",
    "from sklearn.model_selection import GridSearchCV\n",
    "from sklearn.metrics import roc_auc_score\n",
    "from sklearn.ensemble import AdaBoostClassifier\n",
    "from sklearn.decomposition import PCA\n",
    "from sklearn.cluster import DBSCAN\n",
    "from sklearn.svm import SVC\n",
    "from sklearn.preprocessing import MinMaxScaler\n",
    "from sklearn.neural_network import MLPClassifier\n",
    "import lightgbm as lgb\n",
    "from scipy.stats import norm, skew\n",
    "%matplotlib inline\n",
    "\n",
    "pd.set_option('display.height', 1000)\n",
    "pd.set_option('display.max_rows', 500)\n",
    "pd.set_option('display.max_columns', 500)\n",
    "pd.set_option('display.width', 1000)"
   ]
  },
  {
   "cell_type": "code",
   "execution_count": 2,
   "metadata": {},
   "outputs": [
    {
     "name": "stdout",
     "output_type": "stream",
     "text": [
      "/Users/chiragbhattad/Downloads/Analyze_This_2018\n"
     ]
    }
   ],
   "source": [
    "cd \"/Users/chiragbhattad/Downloads/Analyze_This_2018\""
   ]
  },
  {
   "cell_type": "code",
   "execution_count": 3,
   "metadata": {
    "collapsed": true
   },
   "outputs": [],
   "source": [
    "data = pd.read_csv('Training_dataset_Original.csv')\n",
    "# data.head(10)"
   ]
  },
  {
   "cell_type": "code",
   "execution_count": 4,
   "metadata": {},
   "outputs": [
    {
     "name": "stdout",
     "output_type": "stream",
     "text": [
      "19697\n"
     ]
    }
   ],
   "source": [
    "print(sum(list(data['default_ind'])))"
   ]
  },
  {
   "cell_type": "code",
   "execution_count": 5,
   "metadata": {
    "collapsed": true
   },
   "outputs": [],
   "source": [
    "data.drop(['application_key'],axis=1, inplace=True)\n",
    "# data.head()"
   ]
  },
  {
   "cell_type": "code",
   "execution_count": 6,
   "metadata": {
    "collapsed": true
   },
   "outputs": [],
   "source": [
    "# quantiles_list = [0, 0.25, 0.5, 0.75, 1]\n",
    "# quantiles = data['mvar14'].quantile(quantiles_list)\n",
    "# plt.hist(data['mvar14'], bins=50)\n",
    "# for quantile in quantiles:\n",
    "#     plt.axvline(quantile, c='r')\n",
    "# plt.show()"
   ]
  },
  {
   "cell_type": "code",
   "execution_count": 7,
   "metadata": {
    "collapsed": true
   },
   "outputs": [],
   "source": [
    "# data['mvar14'] = np.log((1+data['mvar14']))"
   ]
  },
  {
   "cell_type": "code",
   "execution_count": 8,
   "metadata": {
    "collapsed": true
   },
   "outputs": [],
   "source": [
    "# data['mvar14'] = data['mvar14']>5.0\n",
    "# data['mvar14'] = data['mvar14']<20.0"
   ]
  },
  {
   "cell_type": "markdown",
   "metadata": {},
   "source": [
    "## Delete useless features"
   ]
  },
  {
   "cell_type": "code",
   "execution_count": 9,
   "metadata": {
    "collapsed": true
   },
   "outputs": [],
   "source": [
    "# cols = data.columns\n",
    "\n",
    "# for i in cols:\n",
    "#     count = data[i].isnull().sum()\n",
    "#     if count>20000:\n",
    "#         data.drop([i], axis=1, inplace=True)\n",
    "# #     print (count)"
   ]
  },
  {
   "cell_type": "code",
   "execution_count": 10,
   "metadata": {},
   "outputs": [
    {
     "name": "stdout",
     "output_type": "stream",
     "text": [
      "48\n"
     ]
    }
   ],
   "source": [
    "new_cols = data.columns\n",
    "print(len(new_cols))"
   ]
  },
  {
   "cell_type": "markdown",
   "metadata": {},
   "source": [
    "## Replace NaN values with median"
   ]
  },
  {
   "cell_type": "code",
   "execution_count": 11,
   "metadata": {},
   "outputs": [
    {
     "name": "stdout",
     "output_type": "stream",
     "text": [
      "\n"
     ]
    }
   ],
   "source": [
    "data.fillna(value=data.median(axis=0), inplace=True)\n",
    "print()"
   ]
  },
  {
   "cell_type": "code",
   "execution_count": 12,
   "metadata": {},
   "outputs": [
    {
     "data": {
      "text/html": [
       "<div>\n",
       "<style>\n",
       "    .dataframe thead tr:only-child th {\n",
       "        text-align: right;\n",
       "    }\n",
       "\n",
       "    .dataframe thead th {\n",
       "        text-align: left;\n",
       "    }\n",
       "\n",
       "    .dataframe tbody tr th {\n",
       "        vertical-align: top;\n",
       "    }\n",
       "</style>\n",
       "<table border=\"1\" class=\"dataframe\">\n",
       "  <thead>\n",
       "    <tr style=\"text-align: right;\">\n",
       "      <th></th>\n",
       "      <th>mvar1</th>\n",
       "      <th>mvar2</th>\n",
       "      <th>mvar3</th>\n",
       "      <th>mvar4</th>\n",
       "      <th>mvar5</th>\n",
       "      <th>mvar6</th>\n",
       "      <th>mvar7</th>\n",
       "      <th>mvar8</th>\n",
       "      <th>mvar9</th>\n",
       "      <th>mvar10</th>\n",
       "      <th>mvar11</th>\n",
       "      <th>mvar12</th>\n",
       "      <th>mvar13</th>\n",
       "      <th>mvar14</th>\n",
       "      <th>mvar15</th>\n",
       "      <th>mvar16</th>\n",
       "      <th>mvar17</th>\n",
       "      <th>mvar18</th>\n",
       "      <th>mvar19</th>\n",
       "      <th>mvar20</th>\n",
       "      <th>mvar21</th>\n",
       "      <th>mvar22</th>\n",
       "      <th>mvar23</th>\n",
       "      <th>mvar24</th>\n",
       "      <th>mvar25</th>\n",
       "      <th>mvar26</th>\n",
       "      <th>mvar27</th>\n",
       "      <th>mvar28</th>\n",
       "      <th>mvar29</th>\n",
       "      <th>mvar30</th>\n",
       "      <th>mvar31</th>\n",
       "      <th>mvar32</th>\n",
       "      <th>mvar33</th>\n",
       "      <th>mvar34</th>\n",
       "      <th>mvar35</th>\n",
       "      <th>mvar36</th>\n",
       "      <th>mvar37</th>\n",
       "      <th>mvar38</th>\n",
       "      <th>mvar39</th>\n",
       "      <th>mvar40</th>\n",
       "      <th>mvar41</th>\n",
       "      <th>mvar42</th>\n",
       "      <th>mvar43</th>\n",
       "      <th>mvar44</th>\n",
       "      <th>mvar45</th>\n",
       "      <th>mvar46</th>\n",
       "      <th>default_ind</th>\n",
       "    </tr>\n",
       "  </thead>\n",
       "  <tbody>\n",
       "    <tr>\n",
       "      <th>mvar1</th>\n",
       "      <td>1.000000</td>\n",
       "      <td>-0.256224</td>\n",
       "      <td>-0.497789</td>\n",
       "      <td>-0.267180</td>\n",
       "      <td>-0.239676</td>\n",
       "      <td>0.399901</td>\n",
       "      <td>0.266474</td>\n",
       "      <td>0.557929</td>\n",
       "      <td>0.495168</td>\n",
       "      <td>0.414815</td>\n",
       "      <td>-0.182999</td>\n",
       "      <td>0.158849</td>\n",
       "      <td>0.223325</td>\n",
       "      <td>0.000025</td>\n",
       "      <td>0.181045</td>\n",
       "      <td>-0.204200</td>\n",
       "      <td>-0.204885</td>\n",
       "      <td>-0.202800</td>\n",
       "      <td>-0.132800</td>\n",
       "      <td>-0.120175</td>\n",
       "      <td>-0.530731</td>\n",
       "      <td>-0.384967</td>\n",
       "      <td>-0.313070</td>\n",
       "      <td>-0.132767</td>\n",
       "      <td>0.356824</td>\n",
       "      <td>0.401792</td>\n",
       "      <td>0.393735</td>\n",
       "      <td>0.660464</td>\n",
       "      <td>0.373299</td>\n",
       "      <td>0.091241</td>\n",
       "      <td>0.074459</td>\n",
       "      <td>0.432739</td>\n",
       "      <td>0.274166</td>\n",
       "      <td>-0.241621</td>\n",
       "      <td>-0.275538</td>\n",
       "      <td>-0.247504</td>\n",
       "      <td>0.354730</td>\n",
       "      <td>-0.169846</td>\n",
       "      <td>-0.221394</td>\n",
       "      <td>-0.142478</td>\n",
       "      <td>-0.116909</td>\n",
       "      <td>-0.698481</td>\n",
       "      <td>0.432683</td>\n",
       "      <td>0.008976</td>\n",
       "      <td>-0.128967</td>\n",
       "      <td>-0.252594</td>\n",
       "      <td>-0.404865</td>\n",
       "    </tr>\n",
       "    <tr>\n",
       "      <th>mvar2</th>\n",
       "      <td>-0.256224</td>\n",
       "      <td>1.000000</td>\n",
       "      <td>0.120972</td>\n",
       "      <td>0.089591</td>\n",
       "      <td>0.039859</td>\n",
       "      <td>-0.145104</td>\n",
       "      <td>-0.091945</td>\n",
       "      <td>-0.177353</td>\n",
       "      <td>-0.147461</td>\n",
       "      <td>-0.119838</td>\n",
       "      <td>0.053257</td>\n",
       "      <td>-0.020493</td>\n",
       "      <td>-0.061538</td>\n",
       "      <td>-0.003896</td>\n",
       "      <td>-0.062963</td>\n",
       "      <td>0.131279</td>\n",
       "      <td>0.140039</td>\n",
       "      <td>0.140076</td>\n",
       "      <td>0.176730</td>\n",
       "      <td>0.171926</td>\n",
       "      <td>0.196692</td>\n",
       "      <td>0.172477</td>\n",
       "      <td>0.165490</td>\n",
       "      <td>0.032139</td>\n",
       "      <td>-0.216607</td>\n",
       "      <td>-0.184211</td>\n",
       "      <td>-0.186190</td>\n",
       "      <td>-0.152629</td>\n",
       "      <td>-0.153542</td>\n",
       "      <td>-0.088066</td>\n",
       "      <td>-0.025938</td>\n",
       "      <td>-0.151759</td>\n",
       "      <td>-0.126813</td>\n",
       "      <td>0.068516</td>\n",
       "      <td>0.098702</td>\n",
       "      <td>0.157460</td>\n",
       "      <td>-0.133834</td>\n",
       "      <td>0.292163</td>\n",
       "      <td>0.054500</td>\n",
       "      <td>0.048748</td>\n",
       "      <td>0.080145</td>\n",
       "      <td>0.130698</td>\n",
       "      <td>0.021429</td>\n",
       "      <td>-0.089621</td>\n",
       "      <td>0.002842</td>\n",
       "      <td>0.087440</td>\n",
       "      <td>0.228661</td>\n",
       "    </tr>\n",
       "    <tr>\n",
       "      <th>mvar3</th>\n",
       "      <td>-0.497789</td>\n",
       "      <td>0.120972</td>\n",
       "      <td>1.000000</td>\n",
       "      <td>0.369375</td>\n",
       "      <td>0.658141</td>\n",
       "      <td>-0.127995</td>\n",
       "      <td>-0.085671</td>\n",
       "      <td>-0.193187</td>\n",
       "      <td>-0.191957</td>\n",
       "      <td>-0.145581</td>\n",
       "      <td>0.309079</td>\n",
       "      <td>-0.145556</td>\n",
       "      <td>-0.097108</td>\n",
       "      <td>-0.001201</td>\n",
       "      <td>-0.089337</td>\n",
       "      <td>0.021163</td>\n",
       "      <td>0.022951</td>\n",
       "      <td>0.022211</td>\n",
       "      <td>-0.057295</td>\n",
       "      <td>-0.062458</td>\n",
       "      <td>0.156883</td>\n",
       "      <td>0.111287</td>\n",
       "      <td>0.090184</td>\n",
       "      <td>0.155147</td>\n",
       "      <td>-0.084758</td>\n",
       "      <td>-0.083563</td>\n",
       "      <td>-0.080120</td>\n",
       "      <td>-0.311696</td>\n",
       "      <td>-0.069196</td>\n",
       "      <td>-0.005887</td>\n",
       "      <td>0.003419</td>\n",
       "      <td>-0.111922</td>\n",
       "      <td>-0.103181</td>\n",
       "      <td>0.096305</td>\n",
       "      <td>0.139943</td>\n",
       "      <td>0.370368</td>\n",
       "      <td>-0.059843</td>\n",
       "      <td>0.115334</td>\n",
       "      <td>0.111829</td>\n",
       "      <td>0.119495</td>\n",
       "      <td>0.028185</td>\n",
       "      <td>0.433876</td>\n",
       "      <td>-0.243478</td>\n",
       "      <td>-0.012192</td>\n",
       "      <td>0.117407</td>\n",
       "      <td>0.336369</td>\n",
       "      <td>0.194331</td>\n",
       "    </tr>\n",
       "    <tr>\n",
       "      <th>mvar4</th>\n",
       "      <td>-0.267180</td>\n",
       "      <td>0.089591</td>\n",
       "      <td>0.369375</td>\n",
       "      <td>1.000000</td>\n",
       "      <td>0.092213</td>\n",
       "      <td>-0.073698</td>\n",
       "      <td>-0.046230</td>\n",
       "      <td>-0.107875</td>\n",
       "      <td>-0.111055</td>\n",
       "      <td>-0.074035</td>\n",
       "      <td>0.079133</td>\n",
       "      <td>-0.076768</td>\n",
       "      <td>-0.055164</td>\n",
       "      <td>-0.001147</td>\n",
       "      <td>-0.052341</td>\n",
       "      <td>0.014615</td>\n",
       "      <td>0.011649</td>\n",
       "      <td>0.010996</td>\n",
       "      <td>-0.031016</td>\n",
       "      <td>-0.034603</td>\n",
       "      <td>0.096689</td>\n",
       "      <td>0.063556</td>\n",
       "      <td>0.048515</td>\n",
       "      <td>0.033257</td>\n",
       "      <td>-0.070114</td>\n",
       "      <td>-0.077120</td>\n",
       "      <td>-0.074050</td>\n",
       "      <td>-0.168538</td>\n",
       "      <td>-0.058533</td>\n",
       "      <td>-0.037572</td>\n",
       "      <td>-0.000853</td>\n",
       "      <td>-0.101510</td>\n",
       "      <td>-0.072950</td>\n",
       "      <td>0.098656</td>\n",
       "      <td>0.056339</td>\n",
       "      <td>0.144380</td>\n",
       "      <td>-0.083194</td>\n",
       "      <td>0.065211</td>\n",
       "      <td>0.111786</td>\n",
       "      <td>0.056148</td>\n",
       "      <td>-0.006371</td>\n",
       "      <td>0.211323</td>\n",
       "      <td>-0.129453</td>\n",
       "      <td>0.003141</td>\n",
       "      <td>0.057840</td>\n",
       "      <td>0.894530</td>\n",
       "      <td>0.140994</td>\n",
       "    </tr>\n",
       "    <tr>\n",
       "      <th>mvar5</th>\n",
       "      <td>-0.239676</td>\n",
       "      <td>0.039859</td>\n",
       "      <td>0.658141</td>\n",
       "      <td>0.092213</td>\n",
       "      <td>1.000000</td>\n",
       "      <td>-0.050649</td>\n",
       "      <td>-0.046862</td>\n",
       "      <td>-0.074270</td>\n",
       "      <td>-0.082461</td>\n",
       "      <td>-0.072075</td>\n",
       "      <td>0.220126</td>\n",
       "      <td>-0.064107</td>\n",
       "      <td>-0.041852</td>\n",
       "      <td>-0.002439</td>\n",
       "      <td>-0.050925</td>\n",
       "      <td>-0.007161</td>\n",
       "      <td>-0.009799</td>\n",
       "      <td>-0.010808</td>\n",
       "      <td>-0.049138</td>\n",
       "      <td>-0.052844</td>\n",
       "      <td>0.055456</td>\n",
       "      <td>0.042204</td>\n",
       "      <td>0.033595</td>\n",
       "      <td>0.014089</td>\n",
       "      <td>-0.059819</td>\n",
       "      <td>-0.065348</td>\n",
       "      <td>-0.061653</td>\n",
       "      <td>-0.119783</td>\n",
       "      <td>-0.052614</td>\n",
       "      <td>-0.017778</td>\n",
       "      <td>0.019544</td>\n",
       "      <td>-0.087713</td>\n",
       "      <td>-0.064957</td>\n",
       "      <td>0.017808</td>\n",
       "      <td>0.027257</td>\n",
       "      <td>0.238016</td>\n",
       "      <td>-0.071406</td>\n",
       "      <td>0.034754</td>\n",
       "      <td>0.048034</td>\n",
       "      <td>0.097982</td>\n",
       "      <td>0.025131</td>\n",
       "      <td>0.236858</td>\n",
       "      <td>-0.131708</td>\n",
       "      <td>-0.054259</td>\n",
       "      <td>-0.004505</td>\n",
       "      <td>0.086406</td>\n",
       "      <td>0.088262</td>\n",
       "    </tr>\n",
       "    <tr>\n",
       "      <th>mvar6</th>\n",
       "      <td>0.399901</td>\n",
       "      <td>-0.145104</td>\n",
       "      <td>-0.127995</td>\n",
       "      <td>-0.073698</td>\n",
       "      <td>-0.050649</td>\n",
       "      <td>1.000000</td>\n",
       "      <td>0.204073</td>\n",
       "      <td>0.508145</td>\n",
       "      <td>0.262408</td>\n",
       "      <td>0.252649</td>\n",
       "      <td>-0.042488</td>\n",
       "      <td>-0.024221</td>\n",
       "      <td>0.178367</td>\n",
       "      <td>-0.000507</td>\n",
       "      <td>0.129650</td>\n",
       "      <td>-0.126837</td>\n",
       "      <td>-0.126653</td>\n",
       "      <td>-0.125418</td>\n",
       "      <td>-0.192199</td>\n",
       "      <td>-0.186791</td>\n",
       "      <td>-0.384247</td>\n",
       "      <td>-0.203483</td>\n",
       "      <td>-0.165400</td>\n",
       "      <td>-0.055592</td>\n",
       "      <td>0.298217</td>\n",
       "      <td>0.235023</td>\n",
       "      <td>0.238068</td>\n",
       "      <td>0.309238</td>\n",
       "      <td>0.225762</td>\n",
       "      <td>0.056194</td>\n",
       "      <td>0.032575</td>\n",
       "      <td>0.162134</td>\n",
       "      <td>0.157500</td>\n",
       "      <td>-0.090964</td>\n",
       "      <td>-0.080174</td>\n",
       "      <td>-0.161491</td>\n",
       "      <td>0.122953</td>\n",
       "      <td>-0.160320</td>\n",
       "      <td>-0.063900</td>\n",
       "      <td>-0.042801</td>\n",
       "      <td>-0.040819</td>\n",
       "      <td>-0.221284</td>\n",
       "      <td>0.022749</td>\n",
       "      <td>0.109521</td>\n",
       "      <td>-0.038043</td>\n",
       "      <td>-0.064866</td>\n",
       "      <td>-0.165279</td>\n",
       "    </tr>\n",
       "    <tr>\n",
       "      <th>mvar7</th>\n",
       "      <td>0.266474</td>\n",
       "      <td>-0.091945</td>\n",
       "      <td>-0.085671</td>\n",
       "      <td>-0.046230</td>\n",
       "      <td>-0.046862</td>\n",
       "      <td>0.204073</td>\n",
       "      <td>1.000000</td>\n",
       "      <td>0.352788</td>\n",
       "      <td>0.318502</td>\n",
       "      <td>0.890262</td>\n",
       "      <td>-0.031559</td>\n",
       "      <td>0.132393</td>\n",
       "      <td>0.311282</td>\n",
       "      <td>0.002839</td>\n",
       "      <td>0.179809</td>\n",
       "      <td>-0.042668</td>\n",
       "      <td>-0.043984</td>\n",
       "      <td>-0.041448</td>\n",
       "      <td>-0.050458</td>\n",
       "      <td>-0.038165</td>\n",
       "      <td>-0.175925</td>\n",
       "      <td>-0.118996</td>\n",
       "      <td>-0.094892</td>\n",
       "      <td>-0.024759</td>\n",
       "      <td>0.232697</td>\n",
       "      <td>0.247975</td>\n",
       "      <td>0.249273</td>\n",
       "      <td>0.144767</td>\n",
       "      <td>0.235749</td>\n",
       "      <td>0.075879</td>\n",
       "      <td>0.033331</td>\n",
       "      <td>0.258701</td>\n",
       "      <td>0.181391</td>\n",
       "      <td>-0.006413</td>\n",
       "      <td>-0.052073</td>\n",
       "      <td>-0.040171</td>\n",
       "      <td>0.207731</td>\n",
       "      <td>-0.070082</td>\n",
       "      <td>-0.010221</td>\n",
       "      <td>-0.033467</td>\n",
       "      <td>-0.087158</td>\n",
       "      <td>-0.177534</td>\n",
       "      <td>0.130197</td>\n",
       "      <td>0.031780</td>\n",
       "      <td>0.014031</td>\n",
       "      <td>-0.044518</td>\n",
       "      <td>-0.115823</td>\n",
       "    </tr>\n",
       "    <tr>\n",
       "      <th>mvar8</th>\n",
       "      <td>0.557929</td>\n",
       "      <td>-0.177353</td>\n",
       "      <td>-0.193187</td>\n",
       "      <td>-0.107875</td>\n",
       "      <td>-0.074270</td>\n",
       "      <td>0.508145</td>\n",
       "      <td>0.352788</td>\n",
       "      <td>1.000000</td>\n",
       "      <td>0.571441</td>\n",
       "      <td>0.470110</td>\n",
       "      <td>-0.066809</td>\n",
       "      <td>0.210455</td>\n",
       "      <td>0.327796</td>\n",
       "      <td>0.000132</td>\n",
       "      <td>0.216510</td>\n",
       "      <td>-0.138929</td>\n",
       "      <td>-0.140377</td>\n",
       "      <td>-0.137670</td>\n",
       "      <td>-0.184307</td>\n",
       "      <td>-0.172544</td>\n",
       "      <td>-0.508073</td>\n",
       "      <td>-0.309313</td>\n",
       "      <td>-0.254818</td>\n",
       "      <td>-0.081182</td>\n",
       "      <td>0.355848</td>\n",
       "      <td>0.391618</td>\n",
       "      <td>0.406199</td>\n",
       "      <td>0.405040</td>\n",
       "      <td>0.351275</td>\n",
       "      <td>0.078683</td>\n",
       "      <td>0.038846</td>\n",
       "      <td>0.453863</td>\n",
       "      <td>0.207085</td>\n",
       "      <td>-0.116649</td>\n",
       "      <td>-0.109115</td>\n",
       "      <td>-0.141650</td>\n",
       "      <td>0.359472</td>\n",
       "      <td>-0.092813</td>\n",
       "      <td>-0.085849</td>\n",
       "      <td>-0.066272</td>\n",
       "      <td>-0.077451</td>\n",
       "      <td>-0.335091</td>\n",
       "      <td>0.242800</td>\n",
       "      <td>0.049789</td>\n",
       "      <td>-0.058665</td>\n",
       "      <td>-0.095564</td>\n",
       "      <td>-0.222252</td>\n",
       "    </tr>\n",
       "    <tr>\n",
       "      <th>mvar9</th>\n",
       "      <td>0.495168</td>\n",
       "      <td>-0.147461</td>\n",
       "      <td>-0.191957</td>\n",
       "      <td>-0.111055</td>\n",
       "      <td>-0.082461</td>\n",
       "      <td>0.262408</td>\n",
       "      <td>0.318502</td>\n",
       "      <td>0.571441</td>\n",
       "      <td>1.000000</td>\n",
       "      <td>0.509544</td>\n",
       "      <td>-0.068259</td>\n",
       "      <td>0.335414</td>\n",
       "      <td>0.254227</td>\n",
       "      <td>-0.000367</td>\n",
       "      <td>0.165126</td>\n",
       "      <td>-0.066124</td>\n",
       "      <td>-0.066811</td>\n",
       "      <td>-0.062790</td>\n",
       "      <td>-0.023999</td>\n",
       "      <td>-0.008424</td>\n",
       "      <td>-0.322452</td>\n",
       "      <td>-0.246372</td>\n",
       "      <td>-0.213551</td>\n",
       "      <td>-0.055809</td>\n",
       "      <td>0.292908</td>\n",
       "      <td>0.488583</td>\n",
       "      <td>0.491205</td>\n",
       "      <td>0.332080</td>\n",
       "      <td>0.419360</td>\n",
       "      <td>0.119694</td>\n",
       "      <td>0.045493</td>\n",
       "      <td>0.696259</td>\n",
       "      <td>0.253942</td>\n",
       "      <td>-0.065639</td>\n",
       "      <td>-0.092259</td>\n",
       "      <td>-0.033682</td>\n",
       "      <td>0.675585</td>\n",
       "      <td>0.025187</td>\n",
       "      <td>-0.060676</td>\n",
       "      <td>-0.070979</td>\n",
       "      <td>-0.097457</td>\n",
       "      <td>-0.359113</td>\n",
       "      <td>0.460809</td>\n",
       "      <td>-0.012852</td>\n",
       "      <td>-0.036389</td>\n",
       "      <td>-0.099353</td>\n",
       "      <td>-0.201922</td>\n",
       "    </tr>\n",
       "    <tr>\n",
       "      <th>mvar10</th>\n",
       "      <td>0.414815</td>\n",
       "      <td>-0.119838</td>\n",
       "      <td>-0.145581</td>\n",
       "      <td>-0.074035</td>\n",
       "      <td>-0.072075</td>\n",
       "      <td>0.252649</td>\n",
       "      <td>0.890262</td>\n",
       "      <td>0.470110</td>\n",
       "      <td>0.509544</td>\n",
       "      <td>1.000000</td>\n",
       "      <td>-0.058223</td>\n",
       "      <td>0.204354</td>\n",
       "      <td>0.407636</td>\n",
       "      <td>0.001690</td>\n",
       "      <td>0.199928</td>\n",
       "      <td>-0.060070</td>\n",
       "      <td>-0.060519</td>\n",
       "      <td>-0.056433</td>\n",
       "      <td>-0.054367</td>\n",
       "      <td>-0.035229</td>\n",
       "      <td>-0.261419</td>\n",
       "      <td>-0.182786</td>\n",
       "      <td>-0.153292</td>\n",
       "      <td>-0.043262</td>\n",
       "      <td>0.293530</td>\n",
       "      <td>0.368849</td>\n",
       "      <td>0.374308</td>\n",
       "      <td>0.237102</td>\n",
       "      <td>0.325775</td>\n",
       "      <td>0.099162</td>\n",
       "      <td>0.047323</td>\n",
       "      <td>0.414759</td>\n",
       "      <td>0.234848</td>\n",
       "      <td>-0.016487</td>\n",
       "      <td>-0.073864</td>\n",
       "      <td>-0.005355</td>\n",
       "      <td>0.342225</td>\n",
       "      <td>-0.035202</td>\n",
       "      <td>-0.021480</td>\n",
       "      <td>-0.068118</td>\n",
       "      <td>-0.136946</td>\n",
       "      <td>-0.296217</td>\n",
       "      <td>0.312703</td>\n",
       "      <td>-0.016528</td>\n",
       "      <td>-0.001456</td>\n",
       "      <td>-0.070006</td>\n",
       "      <td>-0.171549</td>\n",
       "    </tr>\n",
       "    <tr>\n",
       "      <th>mvar11</th>\n",
       "      <td>-0.182999</td>\n",
       "      <td>0.053257</td>\n",
       "      <td>0.309079</td>\n",
       "      <td>0.079133</td>\n",
       "      <td>0.220126</td>\n",
       "      <td>-0.042488</td>\n",
       "      <td>-0.031559</td>\n",
       "      <td>-0.066809</td>\n",
       "      <td>-0.068259</td>\n",
       "      <td>-0.058223</td>\n",
       "      <td>1.000000</td>\n",
       "      <td>-0.055936</td>\n",
       "      <td>-0.035785</td>\n",
       "      <td>0.001691</td>\n",
       "      <td>-0.029684</td>\n",
       "      <td>-0.013023</td>\n",
       "      <td>-0.015590</td>\n",
       "      <td>-0.015106</td>\n",
       "      <td>-0.050059</td>\n",
       "      <td>-0.052128</td>\n",
       "      <td>0.038778</td>\n",
       "      <td>0.027514</td>\n",
       "      <td>0.020736</td>\n",
       "      <td>0.055980</td>\n",
       "      <td>-0.025308</td>\n",
       "      <td>-0.026751</td>\n",
       "      <td>-0.023671</td>\n",
       "      <td>-0.111182</td>\n",
       "      <td>-0.011745</td>\n",
       "      <td>0.014661</td>\n",
       "      <td>0.019086</td>\n",
       "      <td>-0.040207</td>\n",
       "      <td>-0.045480</td>\n",
       "      <td>-0.003600</td>\n",
       "      <td>0.009196</td>\n",
       "      <td>0.204270</td>\n",
       "      <td>-0.015090</td>\n",
       "      <td>0.119386</td>\n",
       "      <td>0.012509</td>\n",
       "      <td>0.037817</td>\n",
       "      <td>0.017839</td>\n",
       "      <td>0.204368</td>\n",
       "      <td>-0.115304</td>\n",
       "      <td>0.020811</td>\n",
       "      <td>0.035552</td>\n",
       "      <td>0.072442</td>\n",
       "      <td>0.076630</td>\n",
       "    </tr>\n",
       "    <tr>\n",
       "      <th>mvar12</th>\n",
       "      <td>0.158849</td>\n",
       "      <td>-0.020493</td>\n",
       "      <td>-0.145556</td>\n",
       "      <td>-0.076768</td>\n",
       "      <td>-0.064107</td>\n",
       "      <td>-0.024221</td>\n",
       "      <td>0.132393</td>\n",
       "      <td>0.210455</td>\n",
       "      <td>0.335414</td>\n",
       "      <td>0.204354</td>\n",
       "      <td>-0.055936</td>\n",
       "      <td>1.000000</td>\n",
       "      <td>0.228062</td>\n",
       "      <td>0.000022</td>\n",
       "      <td>0.105911</td>\n",
       "      <td>0.144906</td>\n",
       "      <td>0.148369</td>\n",
       "      <td>0.152121</td>\n",
       "      <td>0.384198</td>\n",
       "      <td>0.396271</td>\n",
       "      <td>0.147575</td>\n",
       "      <td>0.092799</td>\n",
       "      <td>0.068530</td>\n",
       "      <td>-0.006057</td>\n",
       "      <td>0.204952</td>\n",
       "      <td>0.258391</td>\n",
       "      <td>0.263621</td>\n",
       "      <td>0.140584</td>\n",
       "      <td>0.211871</td>\n",
       "      <td>0.063974</td>\n",
       "      <td>0.044985</td>\n",
       "      <td>0.356762</td>\n",
       "      <td>0.091179</td>\n",
       "      <td>0.026930</td>\n",
       "      <td>-0.037558</td>\n",
       "      <td>0.165483</td>\n",
       "      <td>0.278888</td>\n",
       "      <td>0.061366</td>\n",
       "      <td>-0.005767</td>\n",
       "      <td>-0.071851</td>\n",
       "      <td>-0.082254</td>\n",
       "      <td>-0.263226</td>\n",
       "      <td>0.358437</td>\n",
       "      <td>-0.220895</td>\n",
       "      <td>-0.025688</td>\n",
       "      <td>-0.070912</td>\n",
       "      <td>-0.069526</td>\n",
       "    </tr>\n",
       "    <tr>\n",
       "      <th>mvar13</th>\n",
       "      <td>0.223325</td>\n",
       "      <td>-0.061538</td>\n",
       "      <td>-0.097108</td>\n",
       "      <td>-0.055164</td>\n",
       "      <td>-0.041852</td>\n",
       "      <td>0.178367</td>\n",
       "      <td>0.311282</td>\n",
       "      <td>0.327796</td>\n",
       "      <td>0.254227</td>\n",
       "      <td>0.407636</td>\n",
       "      <td>-0.035785</td>\n",
       "      <td>0.228062</td>\n",
       "      <td>1.000000</td>\n",
       "      <td>0.000857</td>\n",
       "      <td>0.120574</td>\n",
       "      <td>-0.013012</td>\n",
       "      <td>-0.015460</td>\n",
       "      <td>-0.011291</td>\n",
       "      <td>-0.007255</td>\n",
       "      <td>0.009310</td>\n",
       "      <td>-0.131889</td>\n",
       "      <td>-0.070712</td>\n",
       "      <td>-0.065386</td>\n",
       "      <td>-0.026656</td>\n",
       "      <td>0.152679</td>\n",
       "      <td>0.176026</td>\n",
       "      <td>0.181035</td>\n",
       "      <td>0.151399</td>\n",
       "      <td>0.149588</td>\n",
       "      <td>0.036372</td>\n",
       "      <td>0.020484</td>\n",
       "      <td>0.202099</td>\n",
       "      <td>0.085205</td>\n",
       "      <td>-0.027346</td>\n",
       "      <td>-0.040335</td>\n",
       "      <td>-0.016966</td>\n",
       "      <td>0.159354</td>\n",
       "      <td>-0.021741</td>\n",
       "      <td>-0.029312</td>\n",
       "      <td>-0.029231</td>\n",
       "      <td>-0.047965</td>\n",
       "      <td>-0.167998</td>\n",
       "      <td>0.151016</td>\n",
       "      <td>-0.034873</td>\n",
       "      <td>-0.024339</td>\n",
       "      <td>-0.049876</td>\n",
       "      <td>-0.094293</td>\n",
       "    </tr>\n",
       "    <tr>\n",
       "      <th>mvar14</th>\n",
       "      <td>0.000025</td>\n",
       "      <td>-0.003896</td>\n",
       "      <td>-0.001201</td>\n",
       "      <td>-0.001147</td>\n",
       "      <td>-0.002439</td>\n",
       "      <td>-0.000507</td>\n",
       "      <td>0.002839</td>\n",
       "      <td>0.000132</td>\n",
       "      <td>-0.000367</td>\n",
       "      <td>0.001690</td>\n",
       "      <td>0.001691</td>\n",
       "      <td>0.000022</td>\n",
       "      <td>0.000857</td>\n",
       "      <td>1.000000</td>\n",
       "      <td>0.000543</td>\n",
       "      <td>-0.001283</td>\n",
       "      <td>-0.001848</td>\n",
       "      <td>-0.000496</td>\n",
       "      <td>-0.003641</td>\n",
       "      <td>-0.003402</td>\n",
       "      <td>-0.001899</td>\n",
       "      <td>-0.000802</td>\n",
       "      <td>-0.002648</td>\n",
       "      <td>-0.000885</td>\n",
       "      <td>0.002048</td>\n",
       "      <td>-0.000700</td>\n",
       "      <td>-0.000087</td>\n",
       "      <td>-0.003639</td>\n",
       "      <td>0.003485</td>\n",
       "      <td>0.003668</td>\n",
       "      <td>0.005208</td>\n",
       "      <td>-0.000869</td>\n",
       "      <td>0.004650</td>\n",
       "      <td>-0.002953</td>\n",
       "      <td>0.001659</td>\n",
       "      <td>-0.005553</td>\n",
       "      <td>-0.001003</td>\n",
       "      <td>-0.004393</td>\n",
       "      <td>-0.001965</td>\n",
       "      <td>0.000211</td>\n",
       "      <td>-0.000112</td>\n",
       "      <td>0.003209</td>\n",
       "      <td>-0.005764</td>\n",
       "      <td>0.004351</td>\n",
       "      <td>-0.001926</td>\n",
       "      <td>-0.001183</td>\n",
       "      <td>0.006686</td>\n",
       "    </tr>\n",
       "    <tr>\n",
       "      <th>mvar15</th>\n",
       "      <td>0.181045</td>\n",
       "      <td>-0.062963</td>\n",
       "      <td>-0.089337</td>\n",
       "      <td>-0.052341</td>\n",
       "      <td>-0.050925</td>\n",
       "      <td>0.129650</td>\n",
       "      <td>0.179809</td>\n",
       "      <td>0.216510</td>\n",
       "      <td>0.165126</td>\n",
       "      <td>0.199928</td>\n",
       "      <td>-0.029684</td>\n",
       "      <td>0.105911</td>\n",
       "      <td>0.120574</td>\n",
       "      <td>0.000543</td>\n",
       "      <td>1.000000</td>\n",
       "      <td>-0.029500</td>\n",
       "      <td>-0.031098</td>\n",
       "      <td>-0.028894</td>\n",
       "      <td>-0.039340</td>\n",
       "      <td>-0.031487</td>\n",
       "      <td>-0.114144</td>\n",
       "      <td>-0.082429</td>\n",
       "      <td>-0.067511</td>\n",
       "      <td>-0.007137</td>\n",
       "      <td>0.154320</td>\n",
       "      <td>0.134556</td>\n",
       "      <td>0.135363</td>\n",
       "      <td>0.113146</td>\n",
       "      <td>0.129573</td>\n",
       "      <td>0.039157</td>\n",
       "      <td>0.025125</td>\n",
       "      <td>0.152796</td>\n",
       "      <td>0.065601</td>\n",
       "      <td>-0.023514</td>\n",
       "      <td>-0.045270</td>\n",
       "      <td>-0.092417</td>\n",
       "      <td>0.119991</td>\n",
       "      <td>-0.079982</td>\n",
       "      <td>-0.029596</td>\n",
       "      <td>-0.031207</td>\n",
       "      <td>-0.055378</td>\n",
       "      <td>-0.144195</td>\n",
       "      <td>0.049157</td>\n",
       "      <td>0.045750</td>\n",
       "      <td>0.005575</td>\n",
       "      <td>-0.051564</td>\n",
       "      <td>-0.103745</td>\n",
       "    </tr>\n",
       "    <tr>\n",
       "      <th>mvar16</th>\n",
       "      <td>-0.204200</td>\n",
       "      <td>0.131279</td>\n",
       "      <td>0.021163</td>\n",
       "      <td>0.014615</td>\n",
       "      <td>-0.007161</td>\n",
       "      <td>-0.126837</td>\n",
       "      <td>-0.042668</td>\n",
       "      <td>-0.138929</td>\n",
       "      <td>-0.066124</td>\n",
       "      <td>-0.060070</td>\n",
       "      <td>-0.013023</td>\n",
       "      <td>0.144906</td>\n",
       "      <td>-0.013012</td>\n",
       "      <td>-0.001283</td>\n",
       "      <td>-0.029500</td>\n",
       "      <td>1.000000</td>\n",
       "      <td>0.936789</td>\n",
       "      <td>0.928001</td>\n",
       "      <td>0.523010</td>\n",
       "      <td>0.515199</td>\n",
       "      <td>0.405650</td>\n",
       "      <td>0.375102</td>\n",
       "      <td>0.327701</td>\n",
       "      <td>0.054470</td>\n",
       "      <td>-0.089832</td>\n",
       "      <td>-0.061792</td>\n",
       "      <td>-0.069848</td>\n",
       "      <td>-0.106357</td>\n",
       "      <td>-0.033966</td>\n",
       "      <td>-0.034261</td>\n",
       "      <td>-0.000271</td>\n",
       "      <td>-0.024960</td>\n",
       "      <td>-0.035154</td>\n",
       "      <td>0.285844</td>\n",
       "      <td>0.264110</td>\n",
       "      <td>0.186561</td>\n",
       "      <td>-0.037800</td>\n",
       "      <td>0.149713</td>\n",
       "      <td>0.227894</td>\n",
       "      <td>0.015623</td>\n",
       "      <td>0.009422</td>\n",
       "      <td>-0.028395</td>\n",
       "      <td>0.087803</td>\n",
       "      <td>-0.165451</td>\n",
       "      <td>0.016017</td>\n",
       "      <td>0.014641</td>\n",
       "      <td>0.187542</td>\n",
       "    </tr>\n",
       "    <tr>\n",
       "      <th>mvar17</th>\n",
       "      <td>-0.204885</td>\n",
       "      <td>0.140039</td>\n",
       "      <td>0.022951</td>\n",
       "      <td>0.011649</td>\n",
       "      <td>-0.009799</td>\n",
       "      <td>-0.126653</td>\n",
       "      <td>-0.043984</td>\n",
       "      <td>-0.140377</td>\n",
       "      <td>-0.066811</td>\n",
       "      <td>-0.060519</td>\n",
       "      <td>-0.015590</td>\n",
       "      <td>0.148369</td>\n",
       "      <td>-0.015460</td>\n",
       "      <td>-0.001848</td>\n",
       "      <td>-0.031098</td>\n",
       "      <td>0.936789</td>\n",
       "      <td>1.000000</td>\n",
       "      <td>0.989820</td>\n",
       "      <td>0.581130</td>\n",
       "      <td>0.571708</td>\n",
       "      <td>0.389362</td>\n",
       "      <td>0.377631</td>\n",
       "      <td>0.332334</td>\n",
       "      <td>0.053665</td>\n",
       "      <td>-0.091679</td>\n",
       "      <td>-0.058922</td>\n",
       "      <td>-0.069544</td>\n",
       "      <td>-0.110717</td>\n",
       "      <td>-0.030536</td>\n",
       "      <td>-0.034212</td>\n",
       "      <td>-0.000480</td>\n",
       "      <td>-0.024494</td>\n",
       "      <td>-0.031894</td>\n",
       "      <td>0.327764</td>\n",
       "      <td>0.267198</td>\n",
       "      <td>0.218350</td>\n",
       "      <td>-0.037048</td>\n",
       "      <td>0.179506</td>\n",
       "      <td>0.257854</td>\n",
       "      <td>0.015753</td>\n",
       "      <td>0.009107</td>\n",
       "      <td>-0.035366</td>\n",
       "      <td>0.112221</td>\n",
       "      <td>-0.175386</td>\n",
       "      <td>0.015438</td>\n",
       "      <td>0.012281</td>\n",
       "      <td>0.191107</td>\n",
       "    </tr>\n",
       "    <tr>\n",
       "      <th>mvar18</th>\n",
       "      <td>-0.202800</td>\n",
       "      <td>0.140076</td>\n",
       "      <td>0.022211</td>\n",
       "      <td>0.010996</td>\n",
       "      <td>-0.010808</td>\n",
       "      <td>-0.125418</td>\n",
       "      <td>-0.041448</td>\n",
       "      <td>-0.137670</td>\n",
       "      <td>-0.062790</td>\n",
       "      <td>-0.056433</td>\n",
       "      <td>-0.015106</td>\n",
       "      <td>0.152121</td>\n",
       "      <td>-0.011291</td>\n",
       "      <td>-0.000496</td>\n",
       "      <td>-0.028894</td>\n",
       "      <td>0.928001</td>\n",
       "      <td>0.989820</td>\n",
       "      <td>1.000000</td>\n",
       "      <td>0.577585</td>\n",
       "      <td>0.576132</td>\n",
       "      <td>0.387297</td>\n",
       "      <td>0.380733</td>\n",
       "      <td>0.330548</td>\n",
       "      <td>0.053998</td>\n",
       "      <td>-0.087578</td>\n",
       "      <td>-0.054629</td>\n",
       "      <td>-0.064453</td>\n",
       "      <td>-0.109416</td>\n",
       "      <td>-0.027625</td>\n",
       "      <td>-0.033300</td>\n",
       "      <td>-0.000172</td>\n",
       "      <td>-0.020751</td>\n",
       "      <td>-0.029187</td>\n",
       "      <td>0.327781</td>\n",
       "      <td>0.265002</td>\n",
       "      <td>0.219234</td>\n",
       "      <td>-0.033094</td>\n",
       "      <td>0.178141</td>\n",
       "      <td>0.257707</td>\n",
       "      <td>0.015685</td>\n",
       "      <td>0.008347</td>\n",
       "      <td>-0.038520</td>\n",
       "      <td>0.114633</td>\n",
       "      <td>-0.176983</td>\n",
       "      <td>0.016329</td>\n",
       "      <td>0.011682</td>\n",
       "      <td>0.190354</td>\n",
       "    </tr>\n",
       "    <tr>\n",
       "      <th>mvar19</th>\n",
       "      <td>-0.132800</td>\n",
       "      <td>0.176730</td>\n",
       "      <td>-0.057295</td>\n",
       "      <td>-0.031016</td>\n",
       "      <td>-0.049138</td>\n",
       "      <td>-0.192199</td>\n",
       "      <td>-0.050458</td>\n",
       "      <td>-0.184307</td>\n",
       "      <td>-0.023999</td>\n",
       "      <td>-0.054367</td>\n",
       "      <td>-0.050059</td>\n",
       "      <td>0.384198</td>\n",
       "      <td>-0.007255</td>\n",
       "      <td>-0.003641</td>\n",
       "      <td>-0.039340</td>\n",
       "      <td>0.523010</td>\n",
       "      <td>0.581130</td>\n",
       "      <td>0.577585</td>\n",
       "      <td>1.000000</td>\n",
       "      <td>0.986422</td>\n",
       "      <td>0.446330</td>\n",
       "      <td>0.412915</td>\n",
       "      <td>0.369526</td>\n",
       "      <td>0.050469</td>\n",
       "      <td>-0.092118</td>\n",
       "      <td>-0.013596</td>\n",
       "      <td>-0.027770</td>\n",
       "      <td>-0.085168</td>\n",
       "      <td>-0.000776</td>\n",
       "      <td>-0.027030</td>\n",
       "      <td>0.023068</td>\n",
       "      <td>0.062341</td>\n",
       "      <td>-0.017872</td>\n",
       "      <td>0.249427</td>\n",
       "      <td>0.156492</td>\n",
       "      <td>0.389575</td>\n",
       "      <td>0.034192</td>\n",
       "      <td>0.296717</td>\n",
       "      <td>0.147198</td>\n",
       "      <td>-0.007268</td>\n",
       "      <td>-0.013023</td>\n",
       "      <td>-0.177348</td>\n",
       "      <td>0.370443</td>\n",
       "      <td>-0.310236</td>\n",
       "      <td>-0.002499</td>\n",
       "      <td>-0.033072</td>\n",
       "      <td>0.133316</td>\n",
       "    </tr>\n",
       "    <tr>\n",
       "      <th>mvar20</th>\n",
       "      <td>-0.120175</td>\n",
       "      <td>0.171926</td>\n",
       "      <td>-0.062458</td>\n",
       "      <td>-0.034603</td>\n",
       "      <td>-0.052844</td>\n",
       "      <td>-0.186791</td>\n",
       "      <td>-0.038165</td>\n",
       "      <td>-0.172544</td>\n",
       "      <td>-0.008424</td>\n",
       "      <td>-0.035229</td>\n",
       "      <td>-0.052128</td>\n",
       "      <td>0.396271</td>\n",
       "      <td>0.009310</td>\n",
       "      <td>-0.003402</td>\n",
       "      <td>-0.031487</td>\n",
       "      <td>0.515199</td>\n",
       "      <td>0.571708</td>\n",
       "      <td>0.576132</td>\n",
       "      <td>0.986422</td>\n",
       "      <td>1.000000</td>\n",
       "      <td>0.440163</td>\n",
       "      <td>0.420103</td>\n",
       "      <td>0.362716</td>\n",
       "      <td>0.050449</td>\n",
       "      <td>-0.073076</td>\n",
       "      <td>0.005430</td>\n",
       "      <td>-0.008397</td>\n",
       "      <td>-0.079764</td>\n",
       "      <td>0.017093</td>\n",
       "      <td>-0.020079</td>\n",
       "      <td>0.025703</td>\n",
       "      <td>0.079908</td>\n",
       "      <td>-0.002676</td>\n",
       "      <td>0.251679</td>\n",
       "      <td>0.149977</td>\n",
       "      <td>0.391973</td>\n",
       "      <td>0.049251</td>\n",
       "      <td>0.290778</td>\n",
       "      <td>0.147476</td>\n",
       "      <td>-0.009555</td>\n",
       "      <td>-0.017146</td>\n",
       "      <td>-0.189862</td>\n",
       "      <td>0.381490</td>\n",
       "      <td>-0.315182</td>\n",
       "      <td>-0.000735</td>\n",
       "      <td>-0.036666</td>\n",
       "      <td>0.126589</td>\n",
       "    </tr>\n",
       "    <tr>\n",
       "      <th>mvar21</th>\n",
       "      <td>-0.530731</td>\n",
       "      <td>0.196692</td>\n",
       "      <td>0.156883</td>\n",
       "      <td>0.096689</td>\n",
       "      <td>0.055456</td>\n",
       "      <td>-0.384247</td>\n",
       "      <td>-0.175925</td>\n",
       "      <td>-0.508073</td>\n",
       "      <td>-0.322452</td>\n",
       "      <td>-0.261419</td>\n",
       "      <td>0.038778</td>\n",
       "      <td>0.147575</td>\n",
       "      <td>-0.131889</td>\n",
       "      <td>-0.001899</td>\n",
       "      <td>-0.114144</td>\n",
       "      <td>0.405650</td>\n",
       "      <td>0.389362</td>\n",
       "      <td>0.387297</td>\n",
       "      <td>0.446330</td>\n",
       "      <td>0.440163</td>\n",
       "      <td>1.000000</td>\n",
       "      <td>0.583106</td>\n",
       "      <td>0.489048</td>\n",
       "      <td>0.121671</td>\n",
       "      <td>-0.231006</td>\n",
       "      <td>-0.252309</td>\n",
       "      <td>-0.260915</td>\n",
       "      <td>-0.322668</td>\n",
       "      <td>-0.212007</td>\n",
       "      <td>-0.056478</td>\n",
       "      <td>-0.019507</td>\n",
       "      <td>-0.263446</td>\n",
       "      <td>-0.149660</td>\n",
       "      <td>0.200533</td>\n",
       "      <td>0.222457</td>\n",
       "      <td>0.196601</td>\n",
       "      <td>-0.223027</td>\n",
       "      <td>0.117289</td>\n",
       "      <td>0.150667</td>\n",
       "      <td>0.052140</td>\n",
       "      <td>0.043238</td>\n",
       "      <td>0.224702</td>\n",
       "      <td>-0.117240</td>\n",
       "      <td>-0.149035</td>\n",
       "      <td>0.052839</td>\n",
       "      <td>0.087332</td>\n",
       "      <td>0.266044</td>\n",
       "    </tr>\n",
       "    <tr>\n",
       "      <th>mvar22</th>\n",
       "      <td>-0.384967</td>\n",
       "      <td>0.172477</td>\n",
       "      <td>0.111287</td>\n",
       "      <td>0.063556</td>\n",
       "      <td>0.042204</td>\n",
       "      <td>-0.203483</td>\n",
       "      <td>-0.118996</td>\n",
       "      <td>-0.309313</td>\n",
       "      <td>-0.246372</td>\n",
       "      <td>-0.182786</td>\n",
       "      <td>0.027514</td>\n",
       "      <td>0.092799</td>\n",
       "      <td>-0.070712</td>\n",
       "      <td>-0.000802</td>\n",
       "      <td>-0.082429</td>\n",
       "      <td>0.375102</td>\n",
       "      <td>0.377631</td>\n",
       "      <td>0.380733</td>\n",
       "      <td>0.412915</td>\n",
       "      <td>0.420103</td>\n",
       "      <td>0.583106</td>\n",
       "      <td>1.000000</td>\n",
       "      <td>0.772839</td>\n",
       "      <td>0.100887</td>\n",
       "      <td>-0.184385</td>\n",
       "      <td>-0.201878</td>\n",
       "      <td>-0.206180</td>\n",
       "      <td>-0.213918</td>\n",
       "      <td>-0.157067</td>\n",
       "      <td>-0.058088</td>\n",
       "      <td>-0.017719</td>\n",
       "      <td>-0.213847</td>\n",
       "      <td>-0.121844</td>\n",
       "      <td>0.175125</td>\n",
       "      <td>0.235821</td>\n",
       "      <td>0.181737</td>\n",
       "      <td>-0.198223</td>\n",
       "      <td>0.106557</td>\n",
       "      <td>0.139333</td>\n",
       "      <td>0.046172</td>\n",
       "      <td>0.049635</td>\n",
       "      <td>0.161221</td>\n",
       "      <td>-0.093595</td>\n",
       "      <td>-0.149875</td>\n",
       "      <td>0.018453</td>\n",
       "      <td>0.058734</td>\n",
       "      <td>0.240052</td>\n",
       "    </tr>\n",
       "    <tr>\n",
       "      <th>mvar23</th>\n",
       "      <td>-0.313070</td>\n",
       "      <td>0.165490</td>\n",
       "      <td>0.090184</td>\n",
       "      <td>0.048515</td>\n",
       "      <td>0.033595</td>\n",
       "      <td>-0.165400</td>\n",
       "      <td>-0.094892</td>\n",
       "      <td>-0.254818</td>\n",
       "      <td>-0.213551</td>\n",
       "      <td>-0.153292</td>\n",
       "      <td>0.020736</td>\n",
       "      <td>0.068530</td>\n",
       "      <td>-0.065386</td>\n",
       "      <td>-0.002648</td>\n",
       "      <td>-0.067511</td>\n",
       "      <td>0.327701</td>\n",
       "      <td>0.332334</td>\n",
       "      <td>0.330548</td>\n",
       "      <td>0.369526</td>\n",
       "      <td>0.362716</td>\n",
       "      <td>0.489048</td>\n",
       "      <td>0.772839</td>\n",
       "      <td>1.000000</td>\n",
       "      <td>0.081864</td>\n",
       "      <td>-0.165644</td>\n",
       "      <td>-0.177186</td>\n",
       "      <td>-0.182765</td>\n",
       "      <td>-0.173115</td>\n",
       "      <td>-0.131954</td>\n",
       "      <td>-0.046064</td>\n",
       "      <td>-0.016129</td>\n",
       "      <td>-0.188471</td>\n",
       "      <td>-0.103721</td>\n",
       "      <td>0.140278</td>\n",
       "      <td>0.189578</td>\n",
       "      <td>0.147108</td>\n",
       "      <td>-0.175396</td>\n",
       "      <td>0.087748</td>\n",
       "      <td>0.116769</td>\n",
       "      <td>0.038255</td>\n",
       "      <td>0.050573</td>\n",
       "      <td>0.127144</td>\n",
       "      <td>-0.082070</td>\n",
       "      <td>-0.128118</td>\n",
       "      <td>0.011790</td>\n",
       "      <td>0.043297</td>\n",
       "      <td>0.210584</td>\n",
       "    </tr>\n",
       "    <tr>\n",
       "      <th>mvar24</th>\n",
       "      <td>-0.132767</td>\n",
       "      <td>0.032139</td>\n",
       "      <td>0.155147</td>\n",
       "      <td>0.033257</td>\n",
       "      <td>0.014089</td>\n",
       "      <td>-0.055592</td>\n",
       "      <td>-0.024759</td>\n",
       "      <td>-0.081182</td>\n",
       "      <td>-0.055809</td>\n",
       "      <td>-0.043262</td>\n",
       "      <td>0.055980</td>\n",
       "      <td>-0.006057</td>\n",
       "      <td>-0.026656</td>\n",
       "      <td>-0.000885</td>\n",
       "      <td>-0.007137</td>\n",
       "      <td>0.054470</td>\n",
       "      <td>0.053665</td>\n",
       "      <td>0.053998</td>\n",
       "      <td>0.050469</td>\n",
       "      <td>0.050449</td>\n",
       "      <td>0.121671</td>\n",
       "      <td>0.100887</td>\n",
       "      <td>0.081864</td>\n",
       "      <td>1.000000</td>\n",
       "      <td>-0.001688</td>\n",
       "      <td>-0.000693</td>\n",
       "      <td>0.003450</td>\n",
       "      <td>-0.083514</td>\n",
       "      <td>-0.002729</td>\n",
       "      <td>0.015613</td>\n",
       "      <td>0.011279</td>\n",
       "      <td>0.010264</td>\n",
       "      <td>-0.017110</td>\n",
       "      <td>0.033570</td>\n",
       "      <td>0.081787</td>\n",
       "      <td>0.066458</td>\n",
       "      <td>0.020941</td>\n",
       "      <td>0.012337</td>\n",
       "      <td>0.028173</td>\n",
       "      <td>0.017697</td>\n",
       "      <td>0.000748</td>\n",
       "      <td>0.062631</td>\n",
       "      <td>-0.047366</td>\n",
       "      <td>0.000074</td>\n",
       "      <td>0.047393</td>\n",
       "      <td>0.034351</td>\n",
       "      <td>0.041257</td>\n",
       "    </tr>\n",
       "    <tr>\n",
       "      <th>mvar25</th>\n",
       "      <td>0.356824</td>\n",
       "      <td>-0.216607</td>\n",
       "      <td>-0.084758</td>\n",
       "      <td>-0.070114</td>\n",
       "      <td>-0.059819</td>\n",
       "      <td>0.298217</td>\n",
       "      <td>0.232697</td>\n",
       "      <td>0.355848</td>\n",
       "      <td>0.292908</td>\n",
       "      <td>0.293530</td>\n",
       "      <td>-0.025308</td>\n",
       "      <td>0.204952</td>\n",
       "      <td>0.152679</td>\n",
       "      <td>0.002048</td>\n",
       "      <td>0.154320</td>\n",
       "      <td>-0.089832</td>\n",
       "      <td>-0.091679</td>\n",
       "      <td>-0.087578</td>\n",
       "      <td>-0.092118</td>\n",
       "      <td>-0.073076</td>\n",
       "      <td>-0.231006</td>\n",
       "      <td>-0.184385</td>\n",
       "      <td>-0.165644</td>\n",
       "      <td>-0.001688</td>\n",
       "      <td>1.000000</td>\n",
       "      <td>0.684238</td>\n",
       "      <td>0.716855</td>\n",
       "      <td>0.163016</td>\n",
       "      <td>0.637094</td>\n",
       "      <td>0.187979</td>\n",
       "      <td>0.074833</td>\n",
       "      <td>0.600296</td>\n",
       "      <td>0.334823</td>\n",
       "      <td>-0.026541</td>\n",
       "      <td>-0.151635</td>\n",
       "      <td>-0.094151</td>\n",
       "      <td>0.386206</td>\n",
       "      <td>-0.307111</td>\n",
       "      <td>-0.031409</td>\n",
       "      <td>-0.053020</td>\n",
       "      <td>-0.103011</td>\n",
       "      <td>-0.223481</td>\n",
       "      <td>0.071462</td>\n",
       "      <td>0.069956</td>\n",
       "      <td>0.054588</td>\n",
       "      <td>-0.068361</td>\n",
       "      <td>-0.211500</td>\n",
       "    </tr>\n",
       "    <tr>\n",
       "      <th>mvar26</th>\n",
       "      <td>0.401792</td>\n",
       "      <td>-0.184211</td>\n",
       "      <td>-0.083563</td>\n",
       "      <td>-0.077120</td>\n",
       "      <td>-0.065348</td>\n",
       "      <td>0.235023</td>\n",
       "      <td>0.247975</td>\n",
       "      <td>0.391618</td>\n",
       "      <td>0.488583</td>\n",
       "      <td>0.368849</td>\n",
       "      <td>-0.026751</td>\n",
       "      <td>0.258391</td>\n",
       "      <td>0.176026</td>\n",
       "      <td>-0.000700</td>\n",
       "      <td>0.134556</td>\n",
       "      <td>-0.061792</td>\n",
       "      <td>-0.058922</td>\n",
       "      <td>-0.054629</td>\n",
       "      <td>-0.013596</td>\n",
       "      <td>0.005430</td>\n",
       "      <td>-0.252309</td>\n",
       "      <td>-0.201878</td>\n",
       "      <td>-0.177186</td>\n",
       "      <td>-0.000693</td>\n",
       "      <td>0.684238</td>\n",
       "      <td>1.000000</td>\n",
       "      <td>0.903026</td>\n",
       "      <td>0.180070</td>\n",
       "      <td>0.643467</td>\n",
       "      <td>0.187151</td>\n",
       "      <td>0.065537</td>\n",
       "      <td>0.684857</td>\n",
       "      <td>0.359309</td>\n",
       "      <td>-0.013022</td>\n",
       "      <td>-0.122690</td>\n",
       "      <td>-0.010353</td>\n",
       "      <td>0.530314</td>\n",
       "      <td>-0.171745</td>\n",
       "      <td>-0.029486</td>\n",
       "      <td>-0.055868</td>\n",
       "      <td>-0.108993</td>\n",
       "      <td>-0.284449</td>\n",
       "      <td>0.275448</td>\n",
       "      <td>0.012102</td>\n",
       "      <td>0.034948</td>\n",
       "      <td>-0.072943</td>\n",
       "      <td>-0.207597</td>\n",
       "    </tr>\n",
       "    <tr>\n",
       "      <th>mvar27</th>\n",
       "      <td>0.393735</td>\n",
       "      <td>-0.186190</td>\n",
       "      <td>-0.080120</td>\n",
       "      <td>-0.074050</td>\n",
       "      <td>-0.061653</td>\n",
       "      <td>0.238068</td>\n",
       "      <td>0.249273</td>\n",
       "      <td>0.406199</td>\n",
       "      <td>0.491205</td>\n",
       "      <td>0.374308</td>\n",
       "      <td>-0.023671</td>\n",
       "      <td>0.263621</td>\n",
       "      <td>0.181035</td>\n",
       "      <td>-0.000087</td>\n",
       "      <td>0.135363</td>\n",
       "      <td>-0.069848</td>\n",
       "      <td>-0.069544</td>\n",
       "      <td>-0.064453</td>\n",
       "      <td>-0.027770</td>\n",
       "      <td>-0.008397</td>\n",
       "      <td>-0.260915</td>\n",
       "      <td>-0.206180</td>\n",
       "      <td>-0.182765</td>\n",
       "      <td>0.003450</td>\n",
       "      <td>0.716855</td>\n",
       "      <td>0.903026</td>\n",
       "      <td>1.000000</td>\n",
       "      <td>0.191132</td>\n",
       "      <td>0.581535</td>\n",
       "      <td>0.182403</td>\n",
       "      <td>0.065305</td>\n",
       "      <td>0.698810</td>\n",
       "      <td>0.339897</td>\n",
       "      <td>-0.021455</td>\n",
       "      <td>-0.134378</td>\n",
       "      <td>-0.016089</td>\n",
       "      <td>0.530182</td>\n",
       "      <td>-0.184533</td>\n",
       "      <td>-0.033720</td>\n",
       "      <td>-0.056864</td>\n",
       "      <td>-0.111095</td>\n",
       "      <td>-0.270420</td>\n",
       "      <td>0.255495</td>\n",
       "      <td>0.018435</td>\n",
       "      <td>0.031034</td>\n",
       "      <td>-0.070531</td>\n",
       "      <td>-0.203962</td>\n",
       "    </tr>\n",
       "    <tr>\n",
       "      <th>mvar28</th>\n",
       "      <td>0.660464</td>\n",
       "      <td>-0.152629</td>\n",
       "      <td>-0.311696</td>\n",
       "      <td>-0.168538</td>\n",
       "      <td>-0.119783</td>\n",
       "      <td>0.309238</td>\n",
       "      <td>0.144767</td>\n",
       "      <td>0.405040</td>\n",
       "      <td>0.332080</td>\n",
       "      <td>0.237102</td>\n",
       "      <td>-0.111182</td>\n",
       "      <td>0.140584</td>\n",
       "      <td>0.151399</td>\n",
       "      <td>-0.003639</td>\n",
       "      <td>0.113146</td>\n",
       "      <td>-0.106357</td>\n",
       "      <td>-0.110717</td>\n",
       "      <td>-0.109416</td>\n",
       "      <td>-0.085168</td>\n",
       "      <td>-0.079764</td>\n",
       "      <td>-0.322668</td>\n",
       "      <td>-0.213918</td>\n",
       "      <td>-0.173115</td>\n",
       "      <td>-0.083514</td>\n",
       "      <td>0.163016</td>\n",
       "      <td>0.180070</td>\n",
       "      <td>0.191132</td>\n",
       "      <td>1.000000</td>\n",
       "      <td>0.101430</td>\n",
       "      <td>-0.007124</td>\n",
       "      <td>-0.006130</td>\n",
       "      <td>0.201425</td>\n",
       "      <td>0.144261</td>\n",
       "      <td>-0.213780</td>\n",
       "      <td>-0.165713</td>\n",
       "      <td>-0.200772</td>\n",
       "      <td>0.126099</td>\n",
       "      <td>-0.122172</td>\n",
       "      <td>-0.132069</td>\n",
       "      <td>-0.079974</td>\n",
       "      <td>-0.038972</td>\n",
       "      <td>-0.473193</td>\n",
       "      <td>0.211597</td>\n",
       "      <td>0.042089</td>\n",
       "      <td>-0.102659</td>\n",
       "      <td>-0.148859</td>\n",
       "      <td>-0.220259</td>\n",
       "    </tr>\n",
       "    <tr>\n",
       "      <th>mvar29</th>\n",
       "      <td>0.373299</td>\n",
       "      <td>-0.153542</td>\n",
       "      <td>-0.069196</td>\n",
       "      <td>-0.058533</td>\n",
       "      <td>-0.052614</td>\n",
       "      <td>0.225762</td>\n",
       "      <td>0.235749</td>\n",
       "      <td>0.351275</td>\n",
       "      <td>0.419360</td>\n",
       "      <td>0.325775</td>\n",
       "      <td>-0.011745</td>\n",
       "      <td>0.211871</td>\n",
       "      <td>0.149588</td>\n",
       "      <td>0.003485</td>\n",
       "      <td>0.129573</td>\n",
       "      <td>-0.033966</td>\n",
       "      <td>-0.030536</td>\n",
       "      <td>-0.027625</td>\n",
       "      <td>-0.000776</td>\n",
       "      <td>0.017093</td>\n",
       "      <td>-0.212007</td>\n",
       "      <td>-0.157067</td>\n",
       "      <td>-0.131954</td>\n",
       "      <td>-0.002729</td>\n",
       "      <td>0.637094</td>\n",
       "      <td>0.643467</td>\n",
       "      <td>0.581535</td>\n",
       "      <td>0.101430</td>\n",
       "      <td>1.000000</td>\n",
       "      <td>0.228166</td>\n",
       "      <td>0.229254</td>\n",
       "      <td>0.616197</td>\n",
       "      <td>0.413399</td>\n",
       "      <td>0.004739</td>\n",
       "      <td>-0.073329</td>\n",
       "      <td>-0.011060</td>\n",
       "      <td>0.482506</td>\n",
       "      <td>-0.112326</td>\n",
       "      <td>-0.011838</td>\n",
       "      <td>-0.023481</td>\n",
       "      <td>-0.091255</td>\n",
       "      <td>-0.308342</td>\n",
       "      <td>0.236194</td>\n",
       "      <td>0.014575</td>\n",
       "      <td>0.056823</td>\n",
       "      <td>-0.061359</td>\n",
       "      <td>-0.209512</td>\n",
       "    </tr>\n",
       "    <tr>\n",
       "      <th>mvar30</th>\n",
       "      <td>0.091241</td>\n",
       "      <td>-0.088066</td>\n",
       "      <td>-0.005887</td>\n",
       "      <td>-0.037572</td>\n",
       "      <td>-0.017778</td>\n",
       "      <td>0.056194</td>\n",
       "      <td>0.075879</td>\n",
       "      <td>0.078683</td>\n",
       "      <td>0.119694</td>\n",
       "      <td>0.099162</td>\n",
       "      <td>0.014661</td>\n",
       "      <td>0.063974</td>\n",
       "      <td>0.036372</td>\n",
       "      <td>0.003668</td>\n",
       "      <td>0.039157</td>\n",
       "      <td>-0.034261</td>\n",
       "      <td>-0.034212</td>\n",
       "      <td>-0.033300</td>\n",
       "      <td>-0.027030</td>\n",
       "      <td>-0.020079</td>\n",
       "      <td>-0.056478</td>\n",
       "      <td>-0.058088</td>\n",
       "      <td>-0.046064</td>\n",
       "      <td>0.015613</td>\n",
       "      <td>0.187979</td>\n",
       "      <td>0.187151</td>\n",
       "      <td>0.182403</td>\n",
       "      <td>-0.007124</td>\n",
       "      <td>0.228166</td>\n",
       "      <td>1.000000</td>\n",
       "      <td>0.060931</td>\n",
       "      <td>0.187074</td>\n",
       "      <td>0.132388</td>\n",
       "      <td>-0.022483</td>\n",
       "      <td>-0.045031</td>\n",
       "      <td>-0.038958</td>\n",
       "      <td>0.195150</td>\n",
       "      <td>-0.118730</td>\n",
       "      <td>-0.023776</td>\n",
       "      <td>-0.009600</td>\n",
       "      <td>-0.086337</td>\n",
       "      <td>-0.045648</td>\n",
       "      <td>0.010533</td>\n",
       "      <td>0.026881</td>\n",
       "      <td>0.055816</td>\n",
       "      <td>-0.051049</td>\n",
       "      <td>-0.088764</td>\n",
       "    </tr>\n",
       "    <tr>\n",
       "      <th>mvar31</th>\n",
       "      <td>0.074459</td>\n",
       "      <td>-0.025938</td>\n",
       "      <td>0.003419</td>\n",
       "      <td>-0.000853</td>\n",
       "      <td>0.019544</td>\n",
       "      <td>0.032575</td>\n",
       "      <td>0.033331</td>\n",
       "      <td>0.038846</td>\n",
       "      <td>0.045493</td>\n",
       "      <td>0.047323</td>\n",
       "      <td>0.019086</td>\n",
       "      <td>0.044985</td>\n",
       "      <td>0.020484</td>\n",
       "      <td>0.005208</td>\n",
       "      <td>0.025125</td>\n",
       "      <td>-0.000271</td>\n",
       "      <td>-0.000480</td>\n",
       "      <td>-0.000172</td>\n",
       "      <td>0.023068</td>\n",
       "      <td>0.025703</td>\n",
       "      <td>-0.019507</td>\n",
       "      <td>-0.017719</td>\n",
       "      <td>-0.016129</td>\n",
       "      <td>0.011279</td>\n",
       "      <td>0.074833</td>\n",
       "      <td>0.065537</td>\n",
       "      <td>0.065305</td>\n",
       "      <td>-0.006130</td>\n",
       "      <td>0.229254</td>\n",
       "      <td>0.060931</td>\n",
       "      <td>1.000000</td>\n",
       "      <td>0.067737</td>\n",
       "      <td>0.052643</td>\n",
       "      <td>0.010407</td>\n",
       "      <td>-0.024742</td>\n",
       "      <td>-0.006892</td>\n",
       "      <td>0.077928</td>\n",
       "      <td>-0.057277</td>\n",
       "      <td>0.004775</td>\n",
       "      <td>0.015884</td>\n",
       "      <td>-0.024589</td>\n",
       "      <td>-0.064818</td>\n",
       "      <td>0.040076</td>\n",
       "      <td>0.055698</td>\n",
       "      <td>0.026974</td>\n",
       "      <td>-0.006533</td>\n",
       "      <td>-0.064825</td>\n",
       "    </tr>\n",
       "    <tr>\n",
       "      <th>mvar32</th>\n",
       "      <td>0.432739</td>\n",
       "      <td>-0.151759</td>\n",
       "      <td>-0.111922</td>\n",
       "      <td>-0.101510</td>\n",
       "      <td>-0.087713</td>\n",
       "      <td>0.162134</td>\n",
       "      <td>0.258701</td>\n",
       "      <td>0.453863</td>\n",
       "      <td>0.696259</td>\n",
       "      <td>0.414759</td>\n",
       "      <td>-0.040207</td>\n",
       "      <td>0.356762</td>\n",
       "      <td>0.202099</td>\n",
       "      <td>-0.000869</td>\n",
       "      <td>0.152796</td>\n",
       "      <td>-0.024960</td>\n",
       "      <td>-0.024494</td>\n",
       "      <td>-0.020751</td>\n",
       "      <td>0.062341</td>\n",
       "      <td>0.079908</td>\n",
       "      <td>-0.263446</td>\n",
       "      <td>-0.213847</td>\n",
       "      <td>-0.188471</td>\n",
       "      <td>0.010264</td>\n",
       "      <td>0.600296</td>\n",
       "      <td>0.684857</td>\n",
       "      <td>0.698810</td>\n",
       "      <td>0.201425</td>\n",
       "      <td>0.616197</td>\n",
       "      <td>0.187074</td>\n",
       "      <td>0.067737</td>\n",
       "      <td>1.000000</td>\n",
       "      <td>0.324232</td>\n",
       "      <td>-0.013339</td>\n",
       "      <td>-0.098081</td>\n",
       "      <td>0.031071</td>\n",
       "      <td>0.870176</td>\n",
       "      <td>-0.064546</td>\n",
       "      <td>-0.036645</td>\n",
       "      <td>-0.067578</td>\n",
       "      <td>-0.110273</td>\n",
       "      <td>-0.338380</td>\n",
       "      <td>0.427259</td>\n",
       "      <td>-0.035483</td>\n",
       "      <td>0.012815</td>\n",
       "      <td>-0.095225</td>\n",
       "      <td>-0.217618</td>\n",
       "    </tr>\n",
       "    <tr>\n",
       "      <th>mvar33</th>\n",
       "      <td>0.274166</td>\n",
       "      <td>-0.126813</td>\n",
       "      <td>-0.103181</td>\n",
       "      <td>-0.072950</td>\n",
       "      <td>-0.064957</td>\n",
       "      <td>0.157500</td>\n",
       "      <td>0.181391</td>\n",
       "      <td>0.207085</td>\n",
       "      <td>0.253942</td>\n",
       "      <td>0.234848</td>\n",
       "      <td>-0.045480</td>\n",
       "      <td>0.091179</td>\n",
       "      <td>0.085205</td>\n",
       "      <td>0.004650</td>\n",
       "      <td>0.065601</td>\n",
       "      <td>-0.035154</td>\n",
       "      <td>-0.031894</td>\n",
       "      <td>-0.029187</td>\n",
       "      <td>-0.017872</td>\n",
       "      <td>-0.002676</td>\n",
       "      <td>-0.149660</td>\n",
       "      <td>-0.121844</td>\n",
       "      <td>-0.103721</td>\n",
       "      <td>-0.017110</td>\n",
       "      <td>0.334823</td>\n",
       "      <td>0.359309</td>\n",
       "      <td>0.339897</td>\n",
       "      <td>0.144261</td>\n",
       "      <td>0.413399</td>\n",
       "      <td>0.132388</td>\n",
       "      <td>0.052643</td>\n",
       "      <td>0.324232</td>\n",
       "      <td>1.000000</td>\n",
       "      <td>-0.010572</td>\n",
       "      <td>-0.057634</td>\n",
       "      <td>-0.067833</td>\n",
       "      <td>0.257426</td>\n",
       "      <td>-0.123428</td>\n",
       "      <td>-0.014719</td>\n",
       "      <td>-0.013296</td>\n",
       "      <td>-0.051891</td>\n",
       "      <td>-0.196492</td>\n",
       "      <td>0.118174</td>\n",
       "      <td>0.048296</td>\n",
       "      <td>0.047306</td>\n",
       "      <td>-0.074289</td>\n",
       "      <td>-0.140643</td>\n",
       "    </tr>\n",
       "    <tr>\n",
       "      <th>mvar34</th>\n",
       "      <td>-0.241621</td>\n",
       "      <td>0.068516</td>\n",
       "      <td>0.096305</td>\n",
       "      <td>0.098656</td>\n",
       "      <td>0.017808</td>\n",
       "      <td>-0.090964</td>\n",
       "      <td>-0.006413</td>\n",
       "      <td>-0.116649</td>\n",
       "      <td>-0.065639</td>\n",
       "      <td>-0.016487</td>\n",
       "      <td>-0.003600</td>\n",
       "      <td>0.026930</td>\n",
       "      <td>-0.027346</td>\n",
       "      <td>-0.002953</td>\n",
       "      <td>-0.023514</td>\n",
       "      <td>0.285844</td>\n",
       "      <td>0.327764</td>\n",
       "      <td>0.327781</td>\n",
       "      <td>0.249427</td>\n",
       "      <td>0.251679</td>\n",
       "      <td>0.200533</td>\n",
       "      <td>0.175125</td>\n",
       "      <td>0.140278</td>\n",
       "      <td>0.033570</td>\n",
       "      <td>-0.026541</td>\n",
       "      <td>-0.013022</td>\n",
       "      <td>-0.021455</td>\n",
       "      <td>-0.213780</td>\n",
       "      <td>0.004739</td>\n",
       "      <td>-0.022483</td>\n",
       "      <td>0.010407</td>\n",
       "      <td>-0.013339</td>\n",
       "      <td>-0.010572</td>\n",
       "      <td>1.000000</td>\n",
       "      <td>0.339062</td>\n",
       "      <td>0.165374</td>\n",
       "      <td>-0.015327</td>\n",
       "      <td>0.095968</td>\n",
       "      <td>0.640239</td>\n",
       "      <td>0.024920</td>\n",
       "      <td>-0.026985</td>\n",
       "      <td>-0.009342</td>\n",
       "      <td>-0.012284</td>\n",
       "      <td>-0.091473</td>\n",
       "      <td>0.066719</td>\n",
       "      <td>0.047340</td>\n",
       "      <td>0.152558</td>\n",
       "    </tr>\n",
       "    <tr>\n",
       "      <th>mvar35</th>\n",
       "      <td>-0.275538</td>\n",
       "      <td>0.098702</td>\n",
       "      <td>0.139943</td>\n",
       "      <td>0.056339</td>\n",
       "      <td>0.027257</td>\n",
       "      <td>-0.080174</td>\n",
       "      <td>-0.052073</td>\n",
       "      <td>-0.109115</td>\n",
       "      <td>-0.092259</td>\n",
       "      <td>-0.073864</td>\n",
       "      <td>0.009196</td>\n",
       "      <td>-0.037558</td>\n",
       "      <td>-0.040335</td>\n",
       "      <td>0.001659</td>\n",
       "      <td>-0.045270</td>\n",
       "      <td>0.264110</td>\n",
       "      <td>0.267198</td>\n",
       "      <td>0.265002</td>\n",
       "      <td>0.156492</td>\n",
       "      <td>0.149977</td>\n",
       "      <td>0.222457</td>\n",
       "      <td>0.235821</td>\n",
       "      <td>0.189578</td>\n",
       "      <td>0.081787</td>\n",
       "      <td>-0.151635</td>\n",
       "      <td>-0.122690</td>\n",
       "      <td>-0.134378</td>\n",
       "      <td>-0.165713</td>\n",
       "      <td>-0.073329</td>\n",
       "      <td>-0.045031</td>\n",
       "      <td>-0.024742</td>\n",
       "      <td>-0.098081</td>\n",
       "      <td>-0.057634</td>\n",
       "      <td>0.339062</td>\n",
       "      <td>1.000000</td>\n",
       "      <td>0.115748</td>\n",
       "      <td>-0.099040</td>\n",
       "      <td>0.160893</td>\n",
       "      <td>0.214265</td>\n",
       "      <td>0.030233</td>\n",
       "      <td>0.020190</td>\n",
       "      <td>0.115815</td>\n",
       "      <td>-0.070022</td>\n",
       "      <td>-0.050804</td>\n",
       "      <td>0.008621</td>\n",
       "      <td>0.069351</td>\n",
       "      <td>0.183194</td>\n",
       "    </tr>\n",
       "    <tr>\n",
       "      <th>mvar36</th>\n",
       "      <td>-0.247504</td>\n",
       "      <td>0.157460</td>\n",
       "      <td>0.370368</td>\n",
       "      <td>0.144380</td>\n",
       "      <td>0.238016</td>\n",
       "      <td>-0.161491</td>\n",
       "      <td>-0.040171</td>\n",
       "      <td>-0.141650</td>\n",
       "      <td>-0.033682</td>\n",
       "      <td>-0.005355</td>\n",
       "      <td>0.204270</td>\n",
       "      <td>0.165483</td>\n",
       "      <td>-0.016966</td>\n",
       "      <td>-0.005553</td>\n",
       "      <td>-0.092417</td>\n",
       "      <td>0.186561</td>\n",
       "      <td>0.218350</td>\n",
       "      <td>0.219234</td>\n",
       "      <td>0.389575</td>\n",
       "      <td>0.391973</td>\n",
       "      <td>0.196601</td>\n",
       "      <td>0.181737</td>\n",
       "      <td>0.147108</td>\n",
       "      <td>0.066458</td>\n",
       "      <td>-0.094151</td>\n",
       "      <td>-0.010353</td>\n",
       "      <td>-0.016089</td>\n",
       "      <td>-0.200772</td>\n",
       "      <td>-0.011060</td>\n",
       "      <td>-0.038958</td>\n",
       "      <td>-0.006892</td>\n",
       "      <td>0.031071</td>\n",
       "      <td>-0.067833</td>\n",
       "      <td>0.165374</td>\n",
       "      <td>0.115748</td>\n",
       "      <td>1.000000</td>\n",
       "      <td>0.025414</td>\n",
       "      <td>0.567960</td>\n",
       "      <td>0.127581</td>\n",
       "      <td>0.104753</td>\n",
       "      <td>-0.026591</td>\n",
       "      <td>0.084019</td>\n",
       "      <td>0.433294</td>\n",
       "      <td>-0.436436</td>\n",
       "      <td>0.039047</td>\n",
       "      <td>0.134060</td>\n",
       "      <td>0.167260</td>\n",
       "    </tr>\n",
       "    <tr>\n",
       "      <th>mvar37</th>\n",
       "      <td>0.354730</td>\n",
       "      <td>-0.133834</td>\n",
       "      <td>-0.059843</td>\n",
       "      <td>-0.083194</td>\n",
       "      <td>-0.071406</td>\n",
       "      <td>0.122953</td>\n",
       "      <td>0.207731</td>\n",
       "      <td>0.359472</td>\n",
       "      <td>0.675585</td>\n",
       "      <td>0.342225</td>\n",
       "      <td>-0.015090</td>\n",
       "      <td>0.278888</td>\n",
       "      <td>0.159354</td>\n",
       "      <td>-0.001003</td>\n",
       "      <td>0.119991</td>\n",
       "      <td>-0.037800</td>\n",
       "      <td>-0.037048</td>\n",
       "      <td>-0.033094</td>\n",
       "      <td>0.034192</td>\n",
       "      <td>0.049251</td>\n",
       "      <td>-0.223027</td>\n",
       "      <td>-0.198223</td>\n",
       "      <td>-0.175396</td>\n",
       "      <td>0.020941</td>\n",
       "      <td>0.386206</td>\n",
       "      <td>0.530314</td>\n",
       "      <td>0.530182</td>\n",
       "      <td>0.126099</td>\n",
       "      <td>0.482506</td>\n",
       "      <td>0.195150</td>\n",
       "      <td>0.077928</td>\n",
       "      <td>0.870176</td>\n",
       "      <td>0.257426</td>\n",
       "      <td>-0.015327</td>\n",
       "      <td>-0.099040</td>\n",
       "      <td>0.025414</td>\n",
       "      <td>1.000000</td>\n",
       "      <td>-0.045607</td>\n",
       "      <td>-0.033764</td>\n",
       "      <td>-0.069766</td>\n",
       "      <td>-0.098190</td>\n",
       "      <td>-0.285644</td>\n",
       "      <td>0.382414</td>\n",
       "      <td>-0.014084</td>\n",
       "      <td>0.026972</td>\n",
       "      <td>-0.078978</td>\n",
       "      <td>-0.208157</td>\n",
       "    </tr>\n",
       "    <tr>\n",
       "      <th>mvar38</th>\n",
       "      <td>-0.169846</td>\n",
       "      <td>0.292163</td>\n",
       "      <td>0.115334</td>\n",
       "      <td>0.065211</td>\n",
       "      <td>0.034754</td>\n",
       "      <td>-0.160320</td>\n",
       "      <td>-0.070082</td>\n",
       "      <td>-0.092813</td>\n",
       "      <td>0.025187</td>\n",
       "      <td>-0.035202</td>\n",
       "      <td>0.119386</td>\n",
       "      <td>0.061366</td>\n",
       "      <td>-0.021741</td>\n",
       "      <td>-0.004393</td>\n",
       "      <td>-0.079982</td>\n",
       "      <td>0.149713</td>\n",
       "      <td>0.179506</td>\n",
       "      <td>0.178141</td>\n",
       "      <td>0.296717</td>\n",
       "      <td>0.290778</td>\n",
       "      <td>0.117289</td>\n",
       "      <td>0.106557</td>\n",
       "      <td>0.087748</td>\n",
       "      <td>0.012337</td>\n",
       "      <td>-0.307111</td>\n",
       "      <td>-0.171745</td>\n",
       "      <td>-0.184533</td>\n",
       "      <td>-0.122172</td>\n",
       "      <td>-0.112326</td>\n",
       "      <td>-0.118730</td>\n",
       "      <td>-0.057277</td>\n",
       "      <td>-0.064546</td>\n",
       "      <td>-0.123428</td>\n",
       "      <td>0.095968</td>\n",
       "      <td>0.160893</td>\n",
       "      <td>0.567960</td>\n",
       "      <td>-0.045607</td>\n",
       "      <td>1.000000</td>\n",
       "      <td>0.062353</td>\n",
       "      <td>0.044918</td>\n",
       "      <td>0.089232</td>\n",
       "      <td>0.008361</td>\n",
       "      <td>0.432942</td>\n",
       "      <td>-0.266445</td>\n",
       "      <td>-0.035280</td>\n",
       "      <td>0.068073</td>\n",
       "      <td>0.151345</td>\n",
       "    </tr>\n",
       "    <tr>\n",
       "      <th>mvar39</th>\n",
       "      <td>-0.221394</td>\n",
       "      <td>0.054500</td>\n",
       "      <td>0.111829</td>\n",
       "      <td>0.111786</td>\n",
       "      <td>0.048034</td>\n",
       "      <td>-0.063900</td>\n",
       "      <td>-0.010221</td>\n",
       "      <td>-0.085849</td>\n",
       "      <td>-0.060676</td>\n",
       "      <td>-0.021480</td>\n",
       "      <td>0.012509</td>\n",
       "      <td>-0.005767</td>\n",
       "      <td>-0.029312</td>\n",
       "      <td>-0.001965</td>\n",
       "      <td>-0.029596</td>\n",
       "      <td>0.227894</td>\n",
       "      <td>0.257854</td>\n",
       "      <td>0.257707</td>\n",
       "      <td>0.147198</td>\n",
       "      <td>0.147476</td>\n",
       "      <td>0.150667</td>\n",
       "      <td>0.139333</td>\n",
       "      <td>0.116769</td>\n",
       "      <td>0.028173</td>\n",
       "      <td>-0.031409</td>\n",
       "      <td>-0.029486</td>\n",
       "      <td>-0.033720</td>\n",
       "      <td>-0.132069</td>\n",
       "      <td>-0.011838</td>\n",
       "      <td>-0.023776</td>\n",
       "      <td>0.004775</td>\n",
       "      <td>-0.036645</td>\n",
       "      <td>-0.014719</td>\n",
       "      <td>0.640239</td>\n",
       "      <td>0.214265</td>\n",
       "      <td>0.127581</td>\n",
       "      <td>-0.033764</td>\n",
       "      <td>0.062353</td>\n",
       "      <td>1.000000</td>\n",
       "      <td>0.040485</td>\n",
       "      <td>-0.008123</td>\n",
       "      <td>0.049175</td>\n",
       "      <td>-0.046403</td>\n",
       "      <td>-0.065034</td>\n",
       "      <td>0.105196</td>\n",
       "      <td>0.087992</td>\n",
       "      <td>0.133283</td>\n",
       "    </tr>\n",
       "    <tr>\n",
       "      <th>mvar40</th>\n",
       "      <td>-0.142478</td>\n",
       "      <td>0.048748</td>\n",
       "      <td>0.119495</td>\n",
       "      <td>0.056148</td>\n",
       "      <td>0.097982</td>\n",
       "      <td>-0.042801</td>\n",
       "      <td>-0.033467</td>\n",
       "      <td>-0.066272</td>\n",
       "      <td>-0.070979</td>\n",
       "      <td>-0.068118</td>\n",
       "      <td>0.037817</td>\n",
       "      <td>-0.071851</td>\n",
       "      <td>-0.029231</td>\n",
       "      <td>0.000211</td>\n",
       "      <td>-0.031207</td>\n",
       "      <td>0.015623</td>\n",
       "      <td>0.015753</td>\n",
       "      <td>0.015685</td>\n",
       "      <td>-0.007268</td>\n",
       "      <td>-0.009555</td>\n",
       "      <td>0.052140</td>\n",
       "      <td>0.046172</td>\n",
       "      <td>0.038255</td>\n",
       "      <td>0.017697</td>\n",
       "      <td>-0.053020</td>\n",
       "      <td>-0.055868</td>\n",
       "      <td>-0.056864</td>\n",
       "      <td>-0.079974</td>\n",
       "      <td>-0.023481</td>\n",
       "      <td>-0.009600</td>\n",
       "      <td>0.015884</td>\n",
       "      <td>-0.067578</td>\n",
       "      <td>-0.013296</td>\n",
       "      <td>0.024920</td>\n",
       "      <td>0.030233</td>\n",
       "      <td>0.104753</td>\n",
       "      <td>-0.069766</td>\n",
       "      <td>0.044918</td>\n",
       "      <td>0.040485</td>\n",
       "      <td>1.000000</td>\n",
       "      <td>0.032473</td>\n",
       "      <td>0.113904</td>\n",
       "      <td>-0.051984</td>\n",
       "      <td>-0.057196</td>\n",
       "      <td>0.009579</td>\n",
       "      <td>0.053857</td>\n",
       "      <td>0.080534</td>\n",
       "    </tr>\n",
       "    <tr>\n",
       "      <th>mvar41</th>\n",
       "      <td>-0.116909</td>\n",
       "      <td>0.080145</td>\n",
       "      <td>0.028185</td>\n",
       "      <td>-0.006371</td>\n",
       "      <td>0.025131</td>\n",
       "      <td>-0.040819</td>\n",
       "      <td>-0.087158</td>\n",
       "      <td>-0.077451</td>\n",
       "      <td>-0.097457</td>\n",
       "      <td>-0.136946</td>\n",
       "      <td>0.017839</td>\n",
       "      <td>-0.082254</td>\n",
       "      <td>-0.047965</td>\n",
       "      <td>-0.000112</td>\n",
       "      <td>-0.055378</td>\n",
       "      <td>0.009422</td>\n",
       "      <td>0.009107</td>\n",
       "      <td>0.008347</td>\n",
       "      <td>-0.013023</td>\n",
       "      <td>-0.017146</td>\n",
       "      <td>0.043238</td>\n",
       "      <td>0.049635</td>\n",
       "      <td>0.050573</td>\n",
       "      <td>0.000748</td>\n",
       "      <td>-0.103011</td>\n",
       "      <td>-0.108993</td>\n",
       "      <td>-0.111095</td>\n",
       "      <td>-0.038972</td>\n",
       "      <td>-0.091255</td>\n",
       "      <td>-0.086337</td>\n",
       "      <td>-0.024589</td>\n",
       "      <td>-0.110273</td>\n",
       "      <td>-0.051891</td>\n",
       "      <td>-0.026985</td>\n",
       "      <td>0.020190</td>\n",
       "      <td>-0.026591</td>\n",
       "      <td>-0.098190</td>\n",
       "      <td>0.089232</td>\n",
       "      <td>-0.008123</td>\n",
       "      <td>0.032473</td>\n",
       "      <td>1.000000</td>\n",
       "      <td>0.095050</td>\n",
       "      <td>-0.082355</td>\n",
       "      <td>0.041007</td>\n",
       "      <td>-0.013482</td>\n",
       "      <td>0.003077</td>\n",
       "      <td>0.072854</td>\n",
       "    </tr>\n",
       "    <tr>\n",
       "      <th>mvar42</th>\n",
       "      <td>-0.698481</td>\n",
       "      <td>0.130698</td>\n",
       "      <td>0.433876</td>\n",
       "      <td>0.211323</td>\n",
       "      <td>0.236858</td>\n",
       "      <td>-0.221284</td>\n",
       "      <td>-0.177534</td>\n",
       "      <td>-0.335091</td>\n",
       "      <td>-0.359113</td>\n",
       "      <td>-0.296217</td>\n",
       "      <td>0.204368</td>\n",
       "      <td>-0.263226</td>\n",
       "      <td>-0.167998</td>\n",
       "      <td>0.003209</td>\n",
       "      <td>-0.144195</td>\n",
       "      <td>-0.028395</td>\n",
       "      <td>-0.035366</td>\n",
       "      <td>-0.038520</td>\n",
       "      <td>-0.177348</td>\n",
       "      <td>-0.189862</td>\n",
       "      <td>0.224702</td>\n",
       "      <td>0.161221</td>\n",
       "      <td>0.127144</td>\n",
       "      <td>0.062631</td>\n",
       "      <td>-0.223481</td>\n",
       "      <td>-0.284449</td>\n",
       "      <td>-0.270420</td>\n",
       "      <td>-0.473193</td>\n",
       "      <td>-0.308342</td>\n",
       "      <td>-0.045648</td>\n",
       "      <td>-0.064818</td>\n",
       "      <td>-0.338380</td>\n",
       "      <td>-0.196492</td>\n",
       "      <td>-0.009342</td>\n",
       "      <td>0.115815</td>\n",
       "      <td>0.084019</td>\n",
       "      <td>-0.285644</td>\n",
       "      <td>0.008361</td>\n",
       "      <td>0.049175</td>\n",
       "      <td>0.113904</td>\n",
       "      <td>0.095050</td>\n",
       "      <td>1.000000</td>\n",
       "      <td>-0.537763</td>\n",
       "      <td>0.126094</td>\n",
       "      <td>0.053715</td>\n",
       "      <td>0.201812</td>\n",
       "      <td>0.325019</td>\n",
       "    </tr>\n",
       "    <tr>\n",
       "      <th>mvar43</th>\n",
       "      <td>0.432683</td>\n",
       "      <td>0.021429</td>\n",
       "      <td>-0.243478</td>\n",
       "      <td>-0.129453</td>\n",
       "      <td>-0.131708</td>\n",
       "      <td>0.022749</td>\n",
       "      <td>0.130197</td>\n",
       "      <td>0.242800</td>\n",
       "      <td>0.460809</td>\n",
       "      <td>0.312703</td>\n",
       "      <td>-0.115304</td>\n",
       "      <td>0.358437</td>\n",
       "      <td>0.151016</td>\n",
       "      <td>-0.005764</td>\n",
       "      <td>0.049157</td>\n",
       "      <td>0.087803</td>\n",
       "      <td>0.112221</td>\n",
       "      <td>0.114633</td>\n",
       "      <td>0.370443</td>\n",
       "      <td>0.381490</td>\n",
       "      <td>-0.117240</td>\n",
       "      <td>-0.093595</td>\n",
       "      <td>-0.082070</td>\n",
       "      <td>-0.047366</td>\n",
       "      <td>0.071462</td>\n",
       "      <td>0.275448</td>\n",
       "      <td>0.255495</td>\n",
       "      <td>0.211597</td>\n",
       "      <td>0.236194</td>\n",
       "      <td>0.010533</td>\n",
       "      <td>0.040076</td>\n",
       "      <td>0.427259</td>\n",
       "      <td>0.118174</td>\n",
       "      <td>-0.012284</td>\n",
       "      <td>-0.070022</td>\n",
       "      <td>0.433294</td>\n",
       "      <td>0.382414</td>\n",
       "      <td>0.432942</td>\n",
       "      <td>-0.046403</td>\n",
       "      <td>-0.051984</td>\n",
       "      <td>-0.082355</td>\n",
       "      <td>-0.537763</td>\n",
       "      <td>1.000000</td>\n",
       "      <td>-0.369716</td>\n",
       "      <td>-0.064666</td>\n",
       "      <td>-0.120456</td>\n",
       "      <td>-0.168029</td>\n",
       "    </tr>\n",
       "    <tr>\n",
       "      <th>mvar44</th>\n",
       "      <td>0.008976</td>\n",
       "      <td>-0.089621</td>\n",
       "      <td>-0.012192</td>\n",
       "      <td>0.003141</td>\n",
       "      <td>-0.054259</td>\n",
       "      <td>0.109521</td>\n",
       "      <td>0.031780</td>\n",
       "      <td>0.049789</td>\n",
       "      <td>-0.012852</td>\n",
       "      <td>-0.016528</td>\n",
       "      <td>0.020811</td>\n",
       "      <td>-0.220895</td>\n",
       "      <td>-0.034873</td>\n",
       "      <td>0.004351</td>\n",
       "      <td>0.045750</td>\n",
       "      <td>-0.165451</td>\n",
       "      <td>-0.175386</td>\n",
       "      <td>-0.176983</td>\n",
       "      <td>-0.310236</td>\n",
       "      <td>-0.315182</td>\n",
       "      <td>-0.149035</td>\n",
       "      <td>-0.149875</td>\n",
       "      <td>-0.128118</td>\n",
       "      <td>0.000074</td>\n",
       "      <td>0.069956</td>\n",
       "      <td>0.012102</td>\n",
       "      <td>0.018435</td>\n",
       "      <td>0.042089</td>\n",
       "      <td>0.014575</td>\n",
       "      <td>0.026881</td>\n",
       "      <td>0.055698</td>\n",
       "      <td>-0.035483</td>\n",
       "      <td>0.048296</td>\n",
       "      <td>-0.091473</td>\n",
       "      <td>-0.050804</td>\n",
       "      <td>-0.436436</td>\n",
       "      <td>-0.014084</td>\n",
       "      <td>-0.266445</td>\n",
       "      <td>-0.065034</td>\n",
       "      <td>-0.057196</td>\n",
       "      <td>0.041007</td>\n",
       "      <td>0.126094</td>\n",
       "      <td>-0.369716</td>\n",
       "      <td>1.000000</td>\n",
       "      <td>0.046534</td>\n",
       "      <td>0.003476</td>\n",
       "      <td>-0.056074</td>\n",
       "    </tr>\n",
       "    <tr>\n",
       "      <th>mvar45</th>\n",
       "      <td>-0.128967</td>\n",
       "      <td>0.002842</td>\n",
       "      <td>0.117407</td>\n",
       "      <td>0.057840</td>\n",
       "      <td>-0.004505</td>\n",
       "      <td>-0.038043</td>\n",
       "      <td>0.014031</td>\n",
       "      <td>-0.058665</td>\n",
       "      <td>-0.036389</td>\n",
       "      <td>-0.001456</td>\n",
       "      <td>0.035552</td>\n",
       "      <td>-0.025688</td>\n",
       "      <td>-0.024339</td>\n",
       "      <td>-0.001926</td>\n",
       "      <td>0.005575</td>\n",
       "      <td>0.016017</td>\n",
       "      <td>0.015438</td>\n",
       "      <td>0.016329</td>\n",
       "      <td>-0.002499</td>\n",
       "      <td>-0.000735</td>\n",
       "      <td>0.052839</td>\n",
       "      <td>0.018453</td>\n",
       "      <td>0.011790</td>\n",
       "      <td>0.047393</td>\n",
       "      <td>0.054588</td>\n",
       "      <td>0.034948</td>\n",
       "      <td>0.031034</td>\n",
       "      <td>-0.102659</td>\n",
       "      <td>0.056823</td>\n",
       "      <td>0.055816</td>\n",
       "      <td>0.026974</td>\n",
       "      <td>0.012815</td>\n",
       "      <td>0.047306</td>\n",
       "      <td>0.066719</td>\n",
       "      <td>0.008621</td>\n",
       "      <td>0.039047</td>\n",
       "      <td>0.026972</td>\n",
       "      <td>-0.035280</td>\n",
       "      <td>0.105196</td>\n",
       "      <td>0.009579</td>\n",
       "      <td>-0.013482</td>\n",
       "      <td>0.053715</td>\n",
       "      <td>-0.064666</td>\n",
       "      <td>0.046534</td>\n",
       "      <td>1.000000</td>\n",
       "      <td>0.054552</td>\n",
       "      <td>0.042685</td>\n",
       "    </tr>\n",
       "    <tr>\n",
       "      <th>mvar46</th>\n",
       "      <td>-0.252594</td>\n",
       "      <td>0.087440</td>\n",
       "      <td>0.336369</td>\n",
       "      <td>0.894530</td>\n",
       "      <td>0.086406</td>\n",
       "      <td>-0.064866</td>\n",
       "      <td>-0.044518</td>\n",
       "      <td>-0.095564</td>\n",
       "      <td>-0.099353</td>\n",
       "      <td>-0.070006</td>\n",
       "      <td>0.072442</td>\n",
       "      <td>-0.070912</td>\n",
       "      <td>-0.049876</td>\n",
       "      <td>-0.001183</td>\n",
       "      <td>-0.051564</td>\n",
       "      <td>0.014641</td>\n",
       "      <td>0.012281</td>\n",
       "      <td>0.011682</td>\n",
       "      <td>-0.033072</td>\n",
       "      <td>-0.036666</td>\n",
       "      <td>0.087332</td>\n",
       "      <td>0.058734</td>\n",
       "      <td>0.043297</td>\n",
       "      <td>0.034351</td>\n",
       "      <td>-0.068361</td>\n",
       "      <td>-0.072943</td>\n",
       "      <td>-0.070531</td>\n",
       "      <td>-0.148859</td>\n",
       "      <td>-0.061359</td>\n",
       "      <td>-0.051049</td>\n",
       "      <td>-0.006533</td>\n",
       "      <td>-0.095225</td>\n",
       "      <td>-0.074289</td>\n",
       "      <td>0.047340</td>\n",
       "      <td>0.069351</td>\n",
       "      <td>0.134060</td>\n",
       "      <td>-0.078978</td>\n",
       "      <td>0.068073</td>\n",
       "      <td>0.087992</td>\n",
       "      <td>0.053857</td>\n",
       "      <td>0.003077</td>\n",
       "      <td>0.201812</td>\n",
       "      <td>-0.120456</td>\n",
       "      <td>0.003476</td>\n",
       "      <td>0.054552</td>\n",
       "      <td>1.000000</td>\n",
       "      <td>0.141195</td>\n",
       "    </tr>\n",
       "    <tr>\n",
       "      <th>default_ind</th>\n",
       "      <td>-0.404865</td>\n",
       "      <td>0.228661</td>\n",
       "      <td>0.194331</td>\n",
       "      <td>0.140994</td>\n",
       "      <td>0.088262</td>\n",
       "      <td>-0.165279</td>\n",
       "      <td>-0.115823</td>\n",
       "      <td>-0.222252</td>\n",
       "      <td>-0.201922</td>\n",
       "      <td>-0.171549</td>\n",
       "      <td>0.076630</td>\n",
       "      <td>-0.069526</td>\n",
       "      <td>-0.094293</td>\n",
       "      <td>0.006686</td>\n",
       "      <td>-0.103745</td>\n",
       "      <td>0.187542</td>\n",
       "      <td>0.191107</td>\n",
       "      <td>0.190354</td>\n",
       "      <td>0.133316</td>\n",
       "      <td>0.126589</td>\n",
       "      <td>0.266044</td>\n",
       "      <td>0.240052</td>\n",
       "      <td>0.210584</td>\n",
       "      <td>0.041257</td>\n",
       "      <td>-0.211500</td>\n",
       "      <td>-0.207597</td>\n",
       "      <td>-0.203962</td>\n",
       "      <td>-0.220259</td>\n",
       "      <td>-0.209512</td>\n",
       "      <td>-0.088764</td>\n",
       "      <td>-0.064825</td>\n",
       "      <td>-0.217618</td>\n",
       "      <td>-0.140643</td>\n",
       "      <td>0.152558</td>\n",
       "      <td>0.183194</td>\n",
       "      <td>0.167260</td>\n",
       "      <td>-0.208157</td>\n",
       "      <td>0.151345</td>\n",
       "      <td>0.133283</td>\n",
       "      <td>0.080534</td>\n",
       "      <td>0.072854</td>\n",
       "      <td>0.325019</td>\n",
       "      <td>-0.168029</td>\n",
       "      <td>-0.056074</td>\n",
       "      <td>0.042685</td>\n",
       "      <td>0.141195</td>\n",
       "      <td>1.000000</td>\n",
       "    </tr>\n",
       "  </tbody>\n",
       "</table>\n",
       "</div>"
      ],
      "text/plain": [
       "                mvar1     mvar2     mvar3     mvar4     mvar5     mvar6     mvar7     mvar8     mvar9    mvar10    mvar11    mvar12    mvar13    mvar14    mvar15    mvar16    mvar17    mvar18    mvar19    mvar20    mvar21    mvar22    mvar23    mvar24    mvar25    mvar26    mvar27    mvar28    mvar29    mvar30    mvar31    mvar32    mvar33    mvar34    mvar35    mvar36    mvar37    mvar38    mvar39    mvar40    mvar41    mvar42    mvar43    mvar44    mvar45    mvar46  default_ind\n",
       "mvar1        1.000000 -0.256224 -0.497789 -0.267180 -0.239676  0.399901  0.266474  0.557929  0.495168  0.414815 -0.182999  0.158849  0.223325  0.000025  0.181045 -0.204200 -0.204885 -0.202800 -0.132800 -0.120175 -0.530731 -0.384967 -0.313070 -0.132767  0.356824  0.401792  0.393735  0.660464  0.373299  0.091241  0.074459  0.432739  0.274166 -0.241621 -0.275538 -0.247504  0.354730 -0.169846 -0.221394 -0.142478 -0.116909 -0.698481  0.432683  0.008976 -0.128967 -0.252594    -0.404865\n",
       "mvar2       -0.256224  1.000000  0.120972  0.089591  0.039859 -0.145104 -0.091945 -0.177353 -0.147461 -0.119838  0.053257 -0.020493 -0.061538 -0.003896 -0.062963  0.131279  0.140039  0.140076  0.176730  0.171926  0.196692  0.172477  0.165490  0.032139 -0.216607 -0.184211 -0.186190 -0.152629 -0.153542 -0.088066 -0.025938 -0.151759 -0.126813  0.068516  0.098702  0.157460 -0.133834  0.292163  0.054500  0.048748  0.080145  0.130698  0.021429 -0.089621  0.002842  0.087440     0.228661\n",
       "mvar3       -0.497789  0.120972  1.000000  0.369375  0.658141 -0.127995 -0.085671 -0.193187 -0.191957 -0.145581  0.309079 -0.145556 -0.097108 -0.001201 -0.089337  0.021163  0.022951  0.022211 -0.057295 -0.062458  0.156883  0.111287  0.090184  0.155147 -0.084758 -0.083563 -0.080120 -0.311696 -0.069196 -0.005887  0.003419 -0.111922 -0.103181  0.096305  0.139943  0.370368 -0.059843  0.115334  0.111829  0.119495  0.028185  0.433876 -0.243478 -0.012192  0.117407  0.336369     0.194331\n",
       "mvar4       -0.267180  0.089591  0.369375  1.000000  0.092213 -0.073698 -0.046230 -0.107875 -0.111055 -0.074035  0.079133 -0.076768 -0.055164 -0.001147 -0.052341  0.014615  0.011649  0.010996 -0.031016 -0.034603  0.096689  0.063556  0.048515  0.033257 -0.070114 -0.077120 -0.074050 -0.168538 -0.058533 -0.037572 -0.000853 -0.101510 -0.072950  0.098656  0.056339  0.144380 -0.083194  0.065211  0.111786  0.056148 -0.006371  0.211323 -0.129453  0.003141  0.057840  0.894530     0.140994\n",
       "mvar5       -0.239676  0.039859  0.658141  0.092213  1.000000 -0.050649 -0.046862 -0.074270 -0.082461 -0.072075  0.220126 -0.064107 -0.041852 -0.002439 -0.050925 -0.007161 -0.009799 -0.010808 -0.049138 -0.052844  0.055456  0.042204  0.033595  0.014089 -0.059819 -0.065348 -0.061653 -0.119783 -0.052614 -0.017778  0.019544 -0.087713 -0.064957  0.017808  0.027257  0.238016 -0.071406  0.034754  0.048034  0.097982  0.025131  0.236858 -0.131708 -0.054259 -0.004505  0.086406     0.088262\n",
       "mvar6        0.399901 -0.145104 -0.127995 -0.073698 -0.050649  1.000000  0.204073  0.508145  0.262408  0.252649 -0.042488 -0.024221  0.178367 -0.000507  0.129650 -0.126837 -0.126653 -0.125418 -0.192199 -0.186791 -0.384247 -0.203483 -0.165400 -0.055592  0.298217  0.235023  0.238068  0.309238  0.225762  0.056194  0.032575  0.162134  0.157500 -0.090964 -0.080174 -0.161491  0.122953 -0.160320 -0.063900 -0.042801 -0.040819 -0.221284  0.022749  0.109521 -0.038043 -0.064866    -0.165279\n",
       "mvar7        0.266474 -0.091945 -0.085671 -0.046230 -0.046862  0.204073  1.000000  0.352788  0.318502  0.890262 -0.031559  0.132393  0.311282  0.002839  0.179809 -0.042668 -0.043984 -0.041448 -0.050458 -0.038165 -0.175925 -0.118996 -0.094892 -0.024759  0.232697  0.247975  0.249273  0.144767  0.235749  0.075879  0.033331  0.258701  0.181391 -0.006413 -0.052073 -0.040171  0.207731 -0.070082 -0.010221 -0.033467 -0.087158 -0.177534  0.130197  0.031780  0.014031 -0.044518    -0.115823\n",
       "mvar8        0.557929 -0.177353 -0.193187 -0.107875 -0.074270  0.508145  0.352788  1.000000  0.571441  0.470110 -0.066809  0.210455  0.327796  0.000132  0.216510 -0.138929 -0.140377 -0.137670 -0.184307 -0.172544 -0.508073 -0.309313 -0.254818 -0.081182  0.355848  0.391618  0.406199  0.405040  0.351275  0.078683  0.038846  0.453863  0.207085 -0.116649 -0.109115 -0.141650  0.359472 -0.092813 -0.085849 -0.066272 -0.077451 -0.335091  0.242800  0.049789 -0.058665 -0.095564    -0.222252\n",
       "mvar9        0.495168 -0.147461 -0.191957 -0.111055 -0.082461  0.262408  0.318502  0.571441  1.000000  0.509544 -0.068259  0.335414  0.254227 -0.000367  0.165126 -0.066124 -0.066811 -0.062790 -0.023999 -0.008424 -0.322452 -0.246372 -0.213551 -0.055809  0.292908  0.488583  0.491205  0.332080  0.419360  0.119694  0.045493  0.696259  0.253942 -0.065639 -0.092259 -0.033682  0.675585  0.025187 -0.060676 -0.070979 -0.097457 -0.359113  0.460809 -0.012852 -0.036389 -0.099353    -0.201922\n",
       "mvar10       0.414815 -0.119838 -0.145581 -0.074035 -0.072075  0.252649  0.890262  0.470110  0.509544  1.000000 -0.058223  0.204354  0.407636  0.001690  0.199928 -0.060070 -0.060519 -0.056433 -0.054367 -0.035229 -0.261419 -0.182786 -0.153292 -0.043262  0.293530  0.368849  0.374308  0.237102  0.325775  0.099162  0.047323  0.414759  0.234848 -0.016487 -0.073864 -0.005355  0.342225 -0.035202 -0.021480 -0.068118 -0.136946 -0.296217  0.312703 -0.016528 -0.001456 -0.070006    -0.171549\n",
       "mvar11      -0.182999  0.053257  0.309079  0.079133  0.220126 -0.042488 -0.031559 -0.066809 -0.068259 -0.058223  1.000000 -0.055936 -0.035785  0.001691 -0.029684 -0.013023 -0.015590 -0.015106 -0.050059 -0.052128  0.038778  0.027514  0.020736  0.055980 -0.025308 -0.026751 -0.023671 -0.111182 -0.011745  0.014661  0.019086 -0.040207 -0.045480 -0.003600  0.009196  0.204270 -0.015090  0.119386  0.012509  0.037817  0.017839  0.204368 -0.115304  0.020811  0.035552  0.072442     0.076630\n",
       "mvar12       0.158849 -0.020493 -0.145556 -0.076768 -0.064107 -0.024221  0.132393  0.210455  0.335414  0.204354 -0.055936  1.000000  0.228062  0.000022  0.105911  0.144906  0.148369  0.152121  0.384198  0.396271  0.147575  0.092799  0.068530 -0.006057  0.204952  0.258391  0.263621  0.140584  0.211871  0.063974  0.044985  0.356762  0.091179  0.026930 -0.037558  0.165483  0.278888  0.061366 -0.005767 -0.071851 -0.082254 -0.263226  0.358437 -0.220895 -0.025688 -0.070912    -0.069526\n",
       "mvar13       0.223325 -0.061538 -0.097108 -0.055164 -0.041852  0.178367  0.311282  0.327796  0.254227  0.407636 -0.035785  0.228062  1.000000  0.000857  0.120574 -0.013012 -0.015460 -0.011291 -0.007255  0.009310 -0.131889 -0.070712 -0.065386 -0.026656  0.152679  0.176026  0.181035  0.151399  0.149588  0.036372  0.020484  0.202099  0.085205 -0.027346 -0.040335 -0.016966  0.159354 -0.021741 -0.029312 -0.029231 -0.047965 -0.167998  0.151016 -0.034873 -0.024339 -0.049876    -0.094293\n",
       "mvar14       0.000025 -0.003896 -0.001201 -0.001147 -0.002439 -0.000507  0.002839  0.000132 -0.000367  0.001690  0.001691  0.000022  0.000857  1.000000  0.000543 -0.001283 -0.001848 -0.000496 -0.003641 -0.003402 -0.001899 -0.000802 -0.002648 -0.000885  0.002048 -0.000700 -0.000087 -0.003639  0.003485  0.003668  0.005208 -0.000869  0.004650 -0.002953  0.001659 -0.005553 -0.001003 -0.004393 -0.001965  0.000211 -0.000112  0.003209 -0.005764  0.004351 -0.001926 -0.001183     0.006686\n",
       "mvar15       0.181045 -0.062963 -0.089337 -0.052341 -0.050925  0.129650  0.179809  0.216510  0.165126  0.199928 -0.029684  0.105911  0.120574  0.000543  1.000000 -0.029500 -0.031098 -0.028894 -0.039340 -0.031487 -0.114144 -0.082429 -0.067511 -0.007137  0.154320  0.134556  0.135363  0.113146  0.129573  0.039157  0.025125  0.152796  0.065601 -0.023514 -0.045270 -0.092417  0.119991 -0.079982 -0.029596 -0.031207 -0.055378 -0.144195  0.049157  0.045750  0.005575 -0.051564    -0.103745\n",
       "mvar16      -0.204200  0.131279  0.021163  0.014615 -0.007161 -0.126837 -0.042668 -0.138929 -0.066124 -0.060070 -0.013023  0.144906 -0.013012 -0.001283 -0.029500  1.000000  0.936789  0.928001  0.523010  0.515199  0.405650  0.375102  0.327701  0.054470 -0.089832 -0.061792 -0.069848 -0.106357 -0.033966 -0.034261 -0.000271 -0.024960 -0.035154  0.285844  0.264110  0.186561 -0.037800  0.149713  0.227894  0.015623  0.009422 -0.028395  0.087803 -0.165451  0.016017  0.014641     0.187542\n",
       "mvar17      -0.204885  0.140039  0.022951  0.011649 -0.009799 -0.126653 -0.043984 -0.140377 -0.066811 -0.060519 -0.015590  0.148369 -0.015460 -0.001848 -0.031098  0.936789  1.000000  0.989820  0.581130  0.571708  0.389362  0.377631  0.332334  0.053665 -0.091679 -0.058922 -0.069544 -0.110717 -0.030536 -0.034212 -0.000480 -0.024494 -0.031894  0.327764  0.267198  0.218350 -0.037048  0.179506  0.257854  0.015753  0.009107 -0.035366  0.112221 -0.175386  0.015438  0.012281     0.191107\n",
       "mvar18      -0.202800  0.140076  0.022211  0.010996 -0.010808 -0.125418 -0.041448 -0.137670 -0.062790 -0.056433 -0.015106  0.152121 -0.011291 -0.000496 -0.028894  0.928001  0.989820  1.000000  0.577585  0.576132  0.387297  0.380733  0.330548  0.053998 -0.087578 -0.054629 -0.064453 -0.109416 -0.027625 -0.033300 -0.000172 -0.020751 -0.029187  0.327781  0.265002  0.219234 -0.033094  0.178141  0.257707  0.015685  0.008347 -0.038520  0.114633 -0.176983  0.016329  0.011682     0.190354\n",
       "mvar19      -0.132800  0.176730 -0.057295 -0.031016 -0.049138 -0.192199 -0.050458 -0.184307 -0.023999 -0.054367 -0.050059  0.384198 -0.007255 -0.003641 -0.039340  0.523010  0.581130  0.577585  1.000000  0.986422  0.446330  0.412915  0.369526  0.050469 -0.092118 -0.013596 -0.027770 -0.085168 -0.000776 -0.027030  0.023068  0.062341 -0.017872  0.249427  0.156492  0.389575  0.034192  0.296717  0.147198 -0.007268 -0.013023 -0.177348  0.370443 -0.310236 -0.002499 -0.033072     0.133316\n",
       "mvar20      -0.120175  0.171926 -0.062458 -0.034603 -0.052844 -0.186791 -0.038165 -0.172544 -0.008424 -0.035229 -0.052128  0.396271  0.009310 -0.003402 -0.031487  0.515199  0.571708  0.576132  0.986422  1.000000  0.440163  0.420103  0.362716  0.050449 -0.073076  0.005430 -0.008397 -0.079764  0.017093 -0.020079  0.025703  0.079908 -0.002676  0.251679  0.149977  0.391973  0.049251  0.290778  0.147476 -0.009555 -0.017146 -0.189862  0.381490 -0.315182 -0.000735 -0.036666     0.126589\n",
       "mvar21      -0.530731  0.196692  0.156883  0.096689  0.055456 -0.384247 -0.175925 -0.508073 -0.322452 -0.261419  0.038778  0.147575 -0.131889 -0.001899 -0.114144  0.405650  0.389362  0.387297  0.446330  0.440163  1.000000  0.583106  0.489048  0.121671 -0.231006 -0.252309 -0.260915 -0.322668 -0.212007 -0.056478 -0.019507 -0.263446 -0.149660  0.200533  0.222457  0.196601 -0.223027  0.117289  0.150667  0.052140  0.043238  0.224702 -0.117240 -0.149035  0.052839  0.087332     0.266044\n",
       "mvar22      -0.384967  0.172477  0.111287  0.063556  0.042204 -0.203483 -0.118996 -0.309313 -0.246372 -0.182786  0.027514  0.092799 -0.070712 -0.000802 -0.082429  0.375102  0.377631  0.380733  0.412915  0.420103  0.583106  1.000000  0.772839  0.100887 -0.184385 -0.201878 -0.206180 -0.213918 -0.157067 -0.058088 -0.017719 -0.213847 -0.121844  0.175125  0.235821  0.181737 -0.198223  0.106557  0.139333  0.046172  0.049635  0.161221 -0.093595 -0.149875  0.018453  0.058734     0.240052\n",
       "mvar23      -0.313070  0.165490  0.090184  0.048515  0.033595 -0.165400 -0.094892 -0.254818 -0.213551 -0.153292  0.020736  0.068530 -0.065386 -0.002648 -0.067511  0.327701  0.332334  0.330548  0.369526  0.362716  0.489048  0.772839  1.000000  0.081864 -0.165644 -0.177186 -0.182765 -0.173115 -0.131954 -0.046064 -0.016129 -0.188471 -0.103721  0.140278  0.189578  0.147108 -0.175396  0.087748  0.116769  0.038255  0.050573  0.127144 -0.082070 -0.128118  0.011790  0.043297     0.210584\n",
       "mvar24      -0.132767  0.032139  0.155147  0.033257  0.014089 -0.055592 -0.024759 -0.081182 -0.055809 -0.043262  0.055980 -0.006057 -0.026656 -0.000885 -0.007137  0.054470  0.053665  0.053998  0.050469  0.050449  0.121671  0.100887  0.081864  1.000000 -0.001688 -0.000693  0.003450 -0.083514 -0.002729  0.015613  0.011279  0.010264 -0.017110  0.033570  0.081787  0.066458  0.020941  0.012337  0.028173  0.017697  0.000748  0.062631 -0.047366  0.000074  0.047393  0.034351     0.041257\n",
       "mvar25       0.356824 -0.216607 -0.084758 -0.070114 -0.059819  0.298217  0.232697  0.355848  0.292908  0.293530 -0.025308  0.204952  0.152679  0.002048  0.154320 -0.089832 -0.091679 -0.087578 -0.092118 -0.073076 -0.231006 -0.184385 -0.165644 -0.001688  1.000000  0.684238  0.716855  0.163016  0.637094  0.187979  0.074833  0.600296  0.334823 -0.026541 -0.151635 -0.094151  0.386206 -0.307111 -0.031409 -0.053020 -0.103011 -0.223481  0.071462  0.069956  0.054588 -0.068361    -0.211500\n",
       "mvar26       0.401792 -0.184211 -0.083563 -0.077120 -0.065348  0.235023  0.247975  0.391618  0.488583  0.368849 -0.026751  0.258391  0.176026 -0.000700  0.134556 -0.061792 -0.058922 -0.054629 -0.013596  0.005430 -0.252309 -0.201878 -0.177186 -0.000693  0.684238  1.000000  0.903026  0.180070  0.643467  0.187151  0.065537  0.684857  0.359309 -0.013022 -0.122690 -0.010353  0.530314 -0.171745 -0.029486 -0.055868 -0.108993 -0.284449  0.275448  0.012102  0.034948 -0.072943    -0.207597\n",
       "mvar27       0.393735 -0.186190 -0.080120 -0.074050 -0.061653  0.238068  0.249273  0.406199  0.491205  0.374308 -0.023671  0.263621  0.181035 -0.000087  0.135363 -0.069848 -0.069544 -0.064453 -0.027770 -0.008397 -0.260915 -0.206180 -0.182765  0.003450  0.716855  0.903026  1.000000  0.191132  0.581535  0.182403  0.065305  0.698810  0.339897 -0.021455 -0.134378 -0.016089  0.530182 -0.184533 -0.033720 -0.056864 -0.111095 -0.270420  0.255495  0.018435  0.031034 -0.070531    -0.203962\n",
       "mvar28       0.660464 -0.152629 -0.311696 -0.168538 -0.119783  0.309238  0.144767  0.405040  0.332080  0.237102 -0.111182  0.140584  0.151399 -0.003639  0.113146 -0.106357 -0.110717 -0.109416 -0.085168 -0.079764 -0.322668 -0.213918 -0.173115 -0.083514  0.163016  0.180070  0.191132  1.000000  0.101430 -0.007124 -0.006130  0.201425  0.144261 -0.213780 -0.165713 -0.200772  0.126099 -0.122172 -0.132069 -0.079974 -0.038972 -0.473193  0.211597  0.042089 -0.102659 -0.148859    -0.220259\n",
       "mvar29       0.373299 -0.153542 -0.069196 -0.058533 -0.052614  0.225762  0.235749  0.351275  0.419360  0.325775 -0.011745  0.211871  0.149588  0.003485  0.129573 -0.033966 -0.030536 -0.027625 -0.000776  0.017093 -0.212007 -0.157067 -0.131954 -0.002729  0.637094  0.643467  0.581535  0.101430  1.000000  0.228166  0.229254  0.616197  0.413399  0.004739 -0.073329 -0.011060  0.482506 -0.112326 -0.011838 -0.023481 -0.091255 -0.308342  0.236194  0.014575  0.056823 -0.061359    -0.209512\n",
       "mvar30       0.091241 -0.088066 -0.005887 -0.037572 -0.017778  0.056194  0.075879  0.078683  0.119694  0.099162  0.014661  0.063974  0.036372  0.003668  0.039157 -0.034261 -0.034212 -0.033300 -0.027030 -0.020079 -0.056478 -0.058088 -0.046064  0.015613  0.187979  0.187151  0.182403 -0.007124  0.228166  1.000000  0.060931  0.187074  0.132388 -0.022483 -0.045031 -0.038958  0.195150 -0.118730 -0.023776 -0.009600 -0.086337 -0.045648  0.010533  0.026881  0.055816 -0.051049    -0.088764\n",
       "mvar31       0.074459 -0.025938  0.003419 -0.000853  0.019544  0.032575  0.033331  0.038846  0.045493  0.047323  0.019086  0.044985  0.020484  0.005208  0.025125 -0.000271 -0.000480 -0.000172  0.023068  0.025703 -0.019507 -0.017719 -0.016129  0.011279  0.074833  0.065537  0.065305 -0.006130  0.229254  0.060931  1.000000  0.067737  0.052643  0.010407 -0.024742 -0.006892  0.077928 -0.057277  0.004775  0.015884 -0.024589 -0.064818  0.040076  0.055698  0.026974 -0.006533    -0.064825\n",
       "mvar32       0.432739 -0.151759 -0.111922 -0.101510 -0.087713  0.162134  0.258701  0.453863  0.696259  0.414759 -0.040207  0.356762  0.202099 -0.000869  0.152796 -0.024960 -0.024494 -0.020751  0.062341  0.079908 -0.263446 -0.213847 -0.188471  0.010264  0.600296  0.684857  0.698810  0.201425  0.616197  0.187074  0.067737  1.000000  0.324232 -0.013339 -0.098081  0.031071  0.870176 -0.064546 -0.036645 -0.067578 -0.110273 -0.338380  0.427259 -0.035483  0.012815 -0.095225    -0.217618\n",
       "mvar33       0.274166 -0.126813 -0.103181 -0.072950 -0.064957  0.157500  0.181391  0.207085  0.253942  0.234848 -0.045480  0.091179  0.085205  0.004650  0.065601 -0.035154 -0.031894 -0.029187 -0.017872 -0.002676 -0.149660 -0.121844 -0.103721 -0.017110  0.334823  0.359309  0.339897  0.144261  0.413399  0.132388  0.052643  0.324232  1.000000 -0.010572 -0.057634 -0.067833  0.257426 -0.123428 -0.014719 -0.013296 -0.051891 -0.196492  0.118174  0.048296  0.047306 -0.074289    -0.140643\n",
       "mvar34      -0.241621  0.068516  0.096305  0.098656  0.017808 -0.090964 -0.006413 -0.116649 -0.065639 -0.016487 -0.003600  0.026930 -0.027346 -0.002953 -0.023514  0.285844  0.327764  0.327781  0.249427  0.251679  0.200533  0.175125  0.140278  0.033570 -0.026541 -0.013022 -0.021455 -0.213780  0.004739 -0.022483  0.010407 -0.013339 -0.010572  1.000000  0.339062  0.165374 -0.015327  0.095968  0.640239  0.024920 -0.026985 -0.009342 -0.012284 -0.091473  0.066719  0.047340     0.152558\n",
       "mvar35      -0.275538  0.098702  0.139943  0.056339  0.027257 -0.080174 -0.052073 -0.109115 -0.092259 -0.073864  0.009196 -0.037558 -0.040335  0.001659 -0.045270  0.264110  0.267198  0.265002  0.156492  0.149977  0.222457  0.235821  0.189578  0.081787 -0.151635 -0.122690 -0.134378 -0.165713 -0.073329 -0.045031 -0.024742 -0.098081 -0.057634  0.339062  1.000000  0.115748 -0.099040  0.160893  0.214265  0.030233  0.020190  0.115815 -0.070022 -0.050804  0.008621  0.069351     0.183194\n",
       "mvar36      -0.247504  0.157460  0.370368  0.144380  0.238016 -0.161491 -0.040171 -0.141650 -0.033682 -0.005355  0.204270  0.165483 -0.016966 -0.005553 -0.092417  0.186561  0.218350  0.219234  0.389575  0.391973  0.196601  0.181737  0.147108  0.066458 -0.094151 -0.010353 -0.016089 -0.200772 -0.011060 -0.038958 -0.006892  0.031071 -0.067833  0.165374  0.115748  1.000000  0.025414  0.567960  0.127581  0.104753 -0.026591  0.084019  0.433294 -0.436436  0.039047  0.134060     0.167260\n",
       "mvar37       0.354730 -0.133834 -0.059843 -0.083194 -0.071406  0.122953  0.207731  0.359472  0.675585  0.342225 -0.015090  0.278888  0.159354 -0.001003  0.119991 -0.037800 -0.037048 -0.033094  0.034192  0.049251 -0.223027 -0.198223 -0.175396  0.020941  0.386206  0.530314  0.530182  0.126099  0.482506  0.195150  0.077928  0.870176  0.257426 -0.015327 -0.099040  0.025414  1.000000 -0.045607 -0.033764 -0.069766 -0.098190 -0.285644  0.382414 -0.014084  0.026972 -0.078978    -0.208157\n",
       "mvar38      -0.169846  0.292163  0.115334  0.065211  0.034754 -0.160320 -0.070082 -0.092813  0.025187 -0.035202  0.119386  0.061366 -0.021741 -0.004393 -0.079982  0.149713  0.179506  0.178141  0.296717  0.290778  0.117289  0.106557  0.087748  0.012337 -0.307111 -0.171745 -0.184533 -0.122172 -0.112326 -0.118730 -0.057277 -0.064546 -0.123428  0.095968  0.160893  0.567960 -0.045607  1.000000  0.062353  0.044918  0.089232  0.008361  0.432942 -0.266445 -0.035280  0.068073     0.151345\n",
       "mvar39      -0.221394  0.054500  0.111829  0.111786  0.048034 -0.063900 -0.010221 -0.085849 -0.060676 -0.021480  0.012509 -0.005767 -0.029312 -0.001965 -0.029596  0.227894  0.257854  0.257707  0.147198  0.147476  0.150667  0.139333  0.116769  0.028173 -0.031409 -0.029486 -0.033720 -0.132069 -0.011838 -0.023776  0.004775 -0.036645 -0.014719  0.640239  0.214265  0.127581 -0.033764  0.062353  1.000000  0.040485 -0.008123  0.049175 -0.046403 -0.065034  0.105196  0.087992     0.133283\n",
       "mvar40      -0.142478  0.048748  0.119495  0.056148  0.097982 -0.042801 -0.033467 -0.066272 -0.070979 -0.068118  0.037817 -0.071851 -0.029231  0.000211 -0.031207  0.015623  0.015753  0.015685 -0.007268 -0.009555  0.052140  0.046172  0.038255  0.017697 -0.053020 -0.055868 -0.056864 -0.079974 -0.023481 -0.009600  0.015884 -0.067578 -0.013296  0.024920  0.030233  0.104753 -0.069766  0.044918  0.040485  1.000000  0.032473  0.113904 -0.051984 -0.057196  0.009579  0.053857     0.080534\n",
       "mvar41      -0.116909  0.080145  0.028185 -0.006371  0.025131 -0.040819 -0.087158 -0.077451 -0.097457 -0.136946  0.017839 -0.082254 -0.047965 -0.000112 -0.055378  0.009422  0.009107  0.008347 -0.013023 -0.017146  0.043238  0.049635  0.050573  0.000748 -0.103011 -0.108993 -0.111095 -0.038972 -0.091255 -0.086337 -0.024589 -0.110273 -0.051891 -0.026985  0.020190 -0.026591 -0.098190  0.089232 -0.008123  0.032473  1.000000  0.095050 -0.082355  0.041007 -0.013482  0.003077     0.072854\n",
       "mvar42      -0.698481  0.130698  0.433876  0.211323  0.236858 -0.221284 -0.177534 -0.335091 -0.359113 -0.296217  0.204368 -0.263226 -0.167998  0.003209 -0.144195 -0.028395 -0.035366 -0.038520 -0.177348 -0.189862  0.224702  0.161221  0.127144  0.062631 -0.223481 -0.284449 -0.270420 -0.473193 -0.308342 -0.045648 -0.064818 -0.338380 -0.196492 -0.009342  0.115815  0.084019 -0.285644  0.008361  0.049175  0.113904  0.095050  1.000000 -0.537763  0.126094  0.053715  0.201812     0.325019\n",
       "mvar43       0.432683  0.021429 -0.243478 -0.129453 -0.131708  0.022749  0.130197  0.242800  0.460809  0.312703 -0.115304  0.358437  0.151016 -0.005764  0.049157  0.087803  0.112221  0.114633  0.370443  0.381490 -0.117240 -0.093595 -0.082070 -0.047366  0.071462  0.275448  0.255495  0.211597  0.236194  0.010533  0.040076  0.427259  0.118174 -0.012284 -0.070022  0.433294  0.382414  0.432942 -0.046403 -0.051984 -0.082355 -0.537763  1.000000 -0.369716 -0.064666 -0.120456    -0.168029\n",
       "mvar44       0.008976 -0.089621 -0.012192  0.003141 -0.054259  0.109521  0.031780  0.049789 -0.012852 -0.016528  0.020811 -0.220895 -0.034873  0.004351  0.045750 -0.165451 -0.175386 -0.176983 -0.310236 -0.315182 -0.149035 -0.149875 -0.128118  0.000074  0.069956  0.012102  0.018435  0.042089  0.014575  0.026881  0.055698 -0.035483  0.048296 -0.091473 -0.050804 -0.436436 -0.014084 -0.266445 -0.065034 -0.057196  0.041007  0.126094 -0.369716  1.000000  0.046534  0.003476    -0.056074\n",
       "mvar45      -0.128967  0.002842  0.117407  0.057840 -0.004505 -0.038043  0.014031 -0.058665 -0.036389 -0.001456  0.035552 -0.025688 -0.024339 -0.001926  0.005575  0.016017  0.015438  0.016329 -0.002499 -0.000735  0.052839  0.018453  0.011790  0.047393  0.054588  0.034948  0.031034 -0.102659  0.056823  0.055816  0.026974  0.012815  0.047306  0.066719  0.008621  0.039047  0.026972 -0.035280  0.105196  0.009579 -0.013482  0.053715 -0.064666  0.046534  1.000000  0.054552     0.042685\n",
       "mvar46      -0.252594  0.087440  0.336369  0.894530  0.086406 -0.064866 -0.044518 -0.095564 -0.099353 -0.070006  0.072442 -0.070912 -0.049876 -0.001183 -0.051564  0.014641  0.012281  0.011682 -0.033072 -0.036666  0.087332  0.058734  0.043297  0.034351 -0.068361 -0.072943 -0.070531 -0.148859 -0.061359 -0.051049 -0.006533 -0.095225 -0.074289  0.047340  0.069351  0.134060 -0.078978  0.068073  0.087992  0.053857  0.003077  0.201812 -0.120456  0.003476  0.054552  1.000000     0.141195\n",
       "default_ind -0.404865  0.228661  0.194331  0.140994  0.088262 -0.165279 -0.115823 -0.222252 -0.201922 -0.171549  0.076630 -0.069526 -0.094293  0.006686 -0.103745  0.187542  0.191107  0.190354  0.133316  0.126589  0.266044  0.240052  0.210584  0.041257 -0.211500 -0.207597 -0.203962 -0.220259 -0.209512 -0.088764 -0.064825 -0.217618 -0.140643  0.152558  0.183194  0.167260 -0.208157  0.151345  0.133283  0.080534  0.072854  0.325019 -0.168029 -0.056074  0.042685  0.141195     1.000000"
      ]
     },
     "execution_count": 12,
     "metadata": {},
     "output_type": "execute_result"
    }
   ],
   "source": [
    "data.corr()"
   ]
  },
  {
   "cell_type": "markdown",
   "metadata": {},
   "source": [
    "## Skewed Feature engineering"
   ]
  },
  {
   "cell_type": "code",
   "execution_count": 12,
   "metadata": {
    "collapsed": true
   },
   "outputs": [],
   "source": [
    "numeric_feats = list(data.dtypes[data.dtypes != \"object\"].index)\n",
    "numeric_feats.remove('default_ind')"
   ]
  },
  {
   "cell_type": "code",
   "execution_count": null,
   "metadata": {
    "collapsed": true
   },
   "outputs": [],
   "source": [
    "skewed_feats = data[numeric_feats].apply(lambda x: skew(x.dropna())).sort_values(ascending=False)\n",
    "print(\"\\nSkew in numerical features: \\n\")\n",
    "skewness = pd.DataFrame({'Skew' :skewed_feats})\n",
    "skewness"
   ]
  },
  {
   "cell_type": "code",
   "execution_count": 14,
   "metadata": {},
   "outputs": [
    {
     "name": "stdout",
     "output_type": "stream",
     "text": [
      "There are 46 skewed numerical features to Box Cox transform\n"
     ]
    }
   ],
   "source": [
    "skewness = skewness[abs(skewness) > 0.75]\n",
    "print(\"There are {} skewed numerical features to Box Cox transform\".format(skewness.shape[0]))\n",
    "\n",
    "from scipy.special import boxcox1p\n",
    "skewed_features = skewness.index\n",
    "lam = 0.15\n",
    "for feat in skewed_features:\n",
    "    #data[feat] += 1\n",
    "    data[feat] = boxcox1p(data[feat], lam)"
   ]
  },
  {
   "cell_type": "markdown",
   "metadata": {},
   "source": [
    "## Replace values in mvar47"
   ]
  },
  {
   "cell_type": "code",
   "execution_count": 15,
   "metadata": {
    "collapsed": true
   },
   "outputs": [],
   "source": [
    "# C=0  L=1\n",
    "\n",
    "data['mvar47'].replace(to_replace='C', value=0, inplace=True)\n",
    "data['mvar47'].replace(to_replace='L', value=1, inplace=True)"
   ]
  },
  {
   "cell_type": "markdown",
   "metadata": {},
   "source": [
    "## Scale the data"
   ]
  },
  {
   "cell_type": "code",
   "execution_count": 16,
   "metadata": {
    "collapsed": true
   },
   "outputs": [],
   "source": [
    "feature = data.columns[:-1]\n",
    "target = data.columns[-1]\n",
    "X = data[feature]\n",
    "y = data[target]"
   ]
  },
  {
   "cell_type": "code",
   "execution_count": 17,
   "metadata": {
    "collapsed": true
   },
   "outputs": [],
   "source": [
    "sc = StandardScaler()\n",
    "X = sc.fit_transform(X)"
   ]
  },
  {
   "cell_type": "markdown",
   "metadata": {},
   "source": [
    "# Principal Component Analysis"
   ]
  },
  {
   "cell_type": "code",
   "execution_count": 18,
   "metadata": {
    "collapsed": true
   },
   "outputs": [],
   "source": [
    "pca = PCA(n_components=2, random_state=1)\n",
    "principal_components = pca.fit_transform(X)"
   ]
  },
  {
   "cell_type": "code",
   "execution_count": 405,
   "metadata": {},
   "outputs": [
    {
     "data": {
      "text/plain": [
       "<matplotlib.collections.PathCollection at 0x153e260b8>"
      ]
     },
     "execution_count": 405,
     "metadata": {},
     "output_type": "execute_result"
    },
    {
     "data": {
      "image/png": "[encoded data removed]",
      "text/plain": [
       "<matplotlib.figure.Figure at 0x1273f59e8>"
      ]
     },
     "metadata": {},
     "output_type": "display_data"
    }
   ],
   "source": [
    "sc = StandardScaler()\n",
    "X = sc.fit_transform(X)\n",
    "\n",
    "plt.scatter(principal_components[:,0],principal_components[:,1], c = y)\n",
    "plt.title(\"Distribution of training dataset after PCA\")\n"
   ]
  },
  {
   "cell_type": "markdown",
   "metadata": {},
   "source": [
    "### DBSCAN to get noise points"
   ]
  },
  {
   "cell_type": "code",
   "execution_count": null,
   "metadata": {
    "collapsed": true
   },
   "outputs": [],
   "source": [
    "# db = DBSCAN(eps=0.5, min_samples=5,n_jobs=2).fit(principal_components)\n",
    "# labels = db.labels_\n",
    "# n_clusters = len(set(labels)) - (1 if -1 in labels else 0)\n",
    "\n",
    "print(n_clusters)"
   ]
  },
  {
   "cell_type": "markdown",
   "metadata": {},
   "source": [
    "## Removing Noise manually"
   ]
  },
  {
   "cell_type": "code",
   "execution_count": 406,
   "metadata": {},
   "outputs": [
    {
     "data": {
      "text/plain": [
       "21"
      ]
     },
     "execution_count": 406,
     "metadata": {},
     "output_type": "execute_result"
    }
   ],
   "source": [
    "principal_components = pd.DataFrame(principal_components)\n",
    "drop_index = principal_components[(principal_components[principal_components.columns[0]] > 10) | (principal_components[principal_components.columns[1]]>25) | (principal_components[principal_components.columns[0]]<-9) | (4*principal_components[principal_components.columns[0]] + 5*principal_components[principal_components.columns[1]]>90 ) ].index\n",
    "# drop_index = principal_components[(principal_components[principal_components.columns[1]] > 14) | (4*principal_components[principal_components.columns[0]] + principal_components[principal_components.columns[1]]>43)].index\n",
    "len(drop_index)"
   ]
  },
  {
   "cell_type": "markdown",
   "metadata": {},
   "source": [
    "## Drop those outliers"
   ]
  },
  {
   "cell_type": "code",
   "execution_count": 407,
   "metadata": {
    "collapsed": true
   },
   "outputs": [],
   "source": [
    "data.drop(drop_index, axis=0, inplace=True)\n",
    "feature = data.columns[:-1]\n",
    "target = data.columns[-1]\n",
    "X = data[feature]\n",
    "y = data[target]"
   ]
  },
  {
   "cell_type": "code",
   "execution_count": 408,
   "metadata": {},
   "outputs": [
    {
     "data": {
      "text/plain": [
       "<matplotlib.collections.PathCollection at 0x129915390>"
      ]
     },
     "execution_count": 408,
     "metadata": {},
     "output_type": "execute_result"
    },
    {
     "data": {
      "image/png": "[encoded data removed]",
      "text/plain": [
       "<matplotlib.figure.Figure at 0x12adb09e8>"
      ]
     },
     "metadata": {},
     "output_type": "display_data"
    }
   ],
   "source": [
    "principal_components.drop(drop_index, axis=0, inplace=True)\n",
    "principal_components = principal_components.as_matrix()\n",
    "plt.scatter(principal_components[:,0],principal_components[:,1], c = y)"
   ]
  },
  {
   "cell_type": "markdown",
   "metadata": {},
   "source": [
    "## Leaderboard Dataset"
   ]
  },
  {
   "cell_type": "code",
   "execution_count": 409,
   "metadata": {
    "collapsed": true
   },
   "outputs": [],
   "source": [
    "lead_data = pd.read_csv('Leaderboard_dataset.csv')"
   ]
  },
  {
   "cell_type": "code",
   "execution_count": 410,
   "metadata": {
    "collapsed": true
   },
   "outputs": [],
   "source": [
    "lead_cols = ['application_key']+ list(data.columns)[:-1]\n",
    "lead_data = lead_data[lead_cols]"
   ]
  },
  {
   "cell_type": "code",
   "execution_count": 411,
   "metadata": {},
   "outputs": [
    {
     "name": "stdout",
     "output_type": "stream",
     "text": [
      "\n"
     ]
    }
   ],
   "source": [
    "lead_data.fillna(value=lead_data.median(axis=0), inplace=True)\n",
    "print(\"\")"
   ]
  },
  {
   "cell_type": "markdown",
   "metadata": {},
   "source": [
    "## Skewness Removal"
   ]
  },
  {
   "cell_type": "code",
   "execution_count": 412,
   "metadata": {
    "collapsed": true
   },
   "outputs": [],
   "source": [
    "numeric_feats1 = list(lead_data.dtypes[lead_data.dtypes != \"object\"].index)\n",
    "# numeric_feats1.remove('mvar47')\n",
    "numeric_feats1.remove('application_key')"
   ]
  },
  {
   "cell_type": "code",
   "execution_count": 413,
   "metadata": {},
   "outputs": [
    {
     "name": "stdout",
     "output_type": "stream",
     "text": [
      "\n",
      "Skew in numerical features: \n",
      "\n"
     ]
    },
    {
     "data": {
      "text/html": [
       "<div>\n",
       "<style>\n",
       "    .dataframe thead tr:only-child th {\n",
       "        text-align: right;\n",
       "    }\n",
       "\n",
       "    .dataframe thead th {\n",
       "        text-align: left;\n",
       "    }\n",
       "\n",
       "    .dataframe tbody tr th {\n",
       "        vertical-align: top;\n",
       "    }\n",
       "</style>\n",
       "<table border=\"1\" class=\"dataframe\">\n",
       "  <thead>\n",
       "    <tr style=\"text-align: right;\">\n",
       "      <th></th>\n",
       "      <th>Skew</th>\n",
       "    </tr>\n",
       "  </thead>\n",
       "  <tbody>\n",
       "    <tr>\n",
       "      <th>mvar14</th>\n",
       "      <td>153.271851</td>\n",
       "    </tr>\n",
       "    <tr>\n",
       "      <th>mvar11</th>\n",
       "      <td>78.962244</td>\n",
       "    </tr>\n",
       "    <tr>\n",
       "      <th>mvar7</th>\n",
       "      <td>53.248164</td>\n",
       "    </tr>\n",
       "    <tr>\n",
       "      <th>mvar24</th>\n",
       "      <td>38.179394</td>\n",
       "    </tr>\n",
       "    <tr>\n",
       "      <th>mvar10</th>\n",
       "      <td>24.884558</td>\n",
       "    </tr>\n",
       "    <tr>\n",
       "      <th>mvar13</th>\n",
       "      <td>17.941039</td>\n",
       "    </tr>\n",
       "    <tr>\n",
       "      <th>mvar39</th>\n",
       "      <td>14.499382</td>\n",
       "    </tr>\n",
       "    <tr>\n",
       "      <th>mvar5</th>\n",
       "      <td>10.480217</td>\n",
       "    </tr>\n",
       "    <tr>\n",
       "      <th>mvar45</th>\n",
       "      <td>9.444150</td>\n",
       "    </tr>\n",
       "    <tr>\n",
       "      <th>mvar34</th>\n",
       "      <td>6.349059</td>\n",
       "    </tr>\n",
       "    <tr>\n",
       "      <th>mvar15</th>\n",
       "      <td>5.939228</td>\n",
       "    </tr>\n",
       "    <tr>\n",
       "      <th>mvar6</th>\n",
       "      <td>5.461646</td>\n",
       "    </tr>\n",
       "    <tr>\n",
       "      <th>mvar35</th>\n",
       "      <td>5.461221</td>\n",
       "    </tr>\n",
       "    <tr>\n",
       "      <th>mvar8</th>\n",
       "      <td>4.976685</td>\n",
       "    </tr>\n",
       "    <tr>\n",
       "      <th>mvar4</th>\n",
       "      <td>4.764164</td>\n",
       "    </tr>\n",
       "    <tr>\n",
       "      <th>mvar46</th>\n",
       "      <td>4.616750</td>\n",
       "    </tr>\n",
       "    <tr>\n",
       "      <th>mvar12</th>\n",
       "      <td>4.586016</td>\n",
       "    </tr>\n",
       "    <tr>\n",
       "      <th>mvar17</th>\n",
       "      <td>4.496160</td>\n",
       "    </tr>\n",
       "    <tr>\n",
       "      <th>mvar16</th>\n",
       "      <td>4.473376</td>\n",
       "    </tr>\n",
       "    <tr>\n",
       "      <th>mvar18</th>\n",
       "      <td>4.451571</td>\n",
       "    </tr>\n",
       "    <tr>\n",
       "      <th>mvar2</th>\n",
       "      <td>4.377510</td>\n",
       "    </tr>\n",
       "    <tr>\n",
       "      <th>mvar9</th>\n",
       "      <td>3.972731</td>\n",
       "    </tr>\n",
       "    <tr>\n",
       "      <th>mvar3</th>\n",
       "      <td>3.900042</td>\n",
       "    </tr>\n",
       "    <tr>\n",
       "      <th>mvar19</th>\n",
       "      <td>3.021608</td>\n",
       "    </tr>\n",
       "    <tr>\n",
       "      <th>mvar20</th>\n",
       "      <td>2.921646</td>\n",
       "    </tr>\n",
       "    <tr>\n",
       "      <th>mvar36</th>\n",
       "      <td>2.620678</td>\n",
       "    </tr>\n",
       "    <tr>\n",
       "      <th>mvar38</th>\n",
       "      <td>2.400293</td>\n",
       "    </tr>\n",
       "    <tr>\n",
       "      <th>mvar37</th>\n",
       "      <td>2.397261</td>\n",
       "    </tr>\n",
       "    <tr>\n",
       "      <th>mvar32</th>\n",
       "      <td>2.335063</td>\n",
       "    </tr>\n",
       "    <tr>\n",
       "      <th>mvar22</th>\n",
       "      <td>2.083762</td>\n",
       "    </tr>\n",
       "    <tr>\n",
       "      <th>mvar25</th>\n",
       "      <td>2.009685</td>\n",
       "    </tr>\n",
       "    <tr>\n",
       "      <th>mvar40</th>\n",
       "      <td>1.937066</td>\n",
       "    </tr>\n",
       "    <tr>\n",
       "      <th>mvar26</th>\n",
       "      <td>1.666776</td>\n",
       "    </tr>\n",
       "    <tr>\n",
       "      <th>mvar33</th>\n",
       "      <td>1.662452</td>\n",
       "    </tr>\n",
       "    <tr>\n",
       "      <th>mvar27</th>\n",
       "      <td>1.662160</td>\n",
       "    </tr>\n",
       "    <tr>\n",
       "      <th>mvar31</th>\n",
       "      <td>1.583050</td>\n",
       "    </tr>\n",
       "    <tr>\n",
       "      <th>mvar43</th>\n",
       "      <td>1.579785</td>\n",
       "    </tr>\n",
       "    <tr>\n",
       "      <th>mvar23</th>\n",
       "      <td>1.290251</td>\n",
       "    </tr>\n",
       "    <tr>\n",
       "      <th>mvar42</th>\n",
       "      <td>1.254733</td>\n",
       "    </tr>\n",
       "    <tr>\n",
       "      <th>mvar28</th>\n",
       "      <td>0.966202</td>\n",
       "    </tr>\n",
       "    <tr>\n",
       "      <th>mvar29</th>\n",
       "      <td>0.955300</td>\n",
       "    </tr>\n",
       "    <tr>\n",
       "      <th>mvar21</th>\n",
       "      <td>0.716184</td>\n",
       "    </tr>\n",
       "    <tr>\n",
       "      <th>mvar1</th>\n",
       "      <td>0.126218</td>\n",
       "    </tr>\n",
       "    <tr>\n",
       "      <th>mvar30</th>\n",
       "      <td>-0.161177</td>\n",
       "    </tr>\n",
       "    <tr>\n",
       "      <th>mvar44</th>\n",
       "      <td>-0.471239</td>\n",
       "    </tr>\n",
       "    <tr>\n",
       "      <th>mvar41</th>\n",
       "      <td>-2.555064</td>\n",
       "    </tr>\n",
       "  </tbody>\n",
       "</table>\n",
       "</div>"
      ],
      "text/plain": [
       "              Skew\n",
       "mvar14  153.271851\n",
       "mvar11   78.962244\n",
       "mvar7    53.248164\n",
       "mvar24   38.179394\n",
       "mvar10   24.884558\n",
       "mvar13   17.941039\n",
       "mvar39   14.499382\n",
       "mvar5    10.480217\n",
       "mvar45    9.444150\n",
       "mvar34    6.349059\n",
       "mvar15    5.939228\n",
       "mvar6     5.461646\n",
       "mvar35    5.461221\n",
       "mvar8     4.976685\n",
       "mvar4     4.764164\n",
       "mvar46    4.616750\n",
       "mvar12    4.586016\n",
       "mvar17    4.496160\n",
       "mvar16    4.473376\n",
       "mvar18    4.451571\n",
       "mvar2     4.377510\n",
       "mvar9     3.972731\n",
       "mvar3     3.900042\n",
       "mvar19    3.021608\n",
       "mvar20    2.921646\n",
       "mvar36    2.620678\n",
       "mvar38    2.400293\n",
       "mvar37    2.397261\n",
       "mvar32    2.335063\n",
       "mvar22    2.083762\n",
       "mvar25    2.009685\n",
       "mvar40    1.937066\n",
       "mvar26    1.666776\n",
       "mvar33    1.662452\n",
       "mvar27    1.662160\n",
       "mvar31    1.583050\n",
       "mvar43    1.579785\n",
       "mvar23    1.290251\n",
       "mvar42    1.254733\n",
       "mvar28    0.966202\n",
       "mvar29    0.955300\n",
       "mvar21    0.716184\n",
       "mvar1     0.126218\n",
       "mvar30   -0.161177\n",
       "mvar44   -0.471239\n",
       "mvar41   -2.555064"
      ]
     },
     "execution_count": 413,
     "metadata": {},
     "output_type": "execute_result"
    }
   ],
   "source": [
    "skewed_feats1 = lead_data[numeric_feats1].apply(lambda x: skew(x.dropna())).sort_values(ascending=False)\n",
    "print(\"\\nSkew in numerical features: \\n\")\n",
    "skewness1 = pd.DataFrame({'Skew' :skewed_feats1})\n",
    "skewness1"
   ]
  },
  {
   "cell_type": "code",
   "execution_count": 414,
   "metadata": {},
   "outputs": [
    {
     "name": "stdout",
     "output_type": "stream",
     "text": [
      "There are 46 skewed numerical features to Box Cox transform\n"
     ]
    }
   ],
   "source": [
    "skewness = skewness[abs(skewness) > 0.75]\n",
    "print(\"There are {} skewed numerical features to Box Cox transform\".format(skewness.shape[0]))\n",
    "\n",
    "from scipy.special import boxcox1p\n",
    "skewed_features = skewness.index\n",
    "lam = 0.15\n",
    "for feat in skewed_features:\n",
    "    #data[feat] += 1\n",
    "    lead_data[feat] = boxcox1p(lead_data[feat], lam)"
   ]
  },
  {
   "cell_type": "code",
   "execution_count": 415,
   "metadata": {
    "collapsed": true
   },
   "outputs": [],
   "source": [
    "lead_data['mvar47'].replace(to_replace='C', value=0, inplace=True)\n",
    "lead_data['mvar47'].replace(to_replace='L', value=1, inplace=True)"
   ]
  },
  {
   "cell_type": "markdown",
   "metadata": {},
   "source": [
    "## PCA on Leaderboard dataset"
   ]
  },
  {
   "cell_type": "code",
   "execution_count": 416,
   "metadata": {
    "collapsed": true
   },
   "outputs": [],
   "source": [
    "sc1 = StandardScaler()\n",
    "lead_X = sc1.fit_transform(lead_data)"
   ]
  },
  {
   "cell_type": "code",
   "execution_count": 417,
   "metadata": {
    "collapsed": true
   },
   "outputs": [],
   "source": [
    "pca1 = PCA(n_components=2, random_state=1)\n",
    "principal_components1 = pca1.fit_transform(lead_X)"
   ]
  },
  {
   "cell_type": "code",
   "execution_count": 418,
   "metadata": {
    "scrolled": true
   },
   "outputs": [
    {
     "data": {
      "text/plain": [
       "<matplotlib.collections.PathCollection at 0x12a879748>"
      ]
     },
     "execution_count": 418,
     "metadata": {},
     "output_type": "execute_result"
    },
    {
     "data": {
      "image/png": "[encoded data removed]",
      "text/plain": [
       "<matplotlib.figure.Figure at 0x12a84b5c0>"
      ]
     },
     "metadata": {},
     "output_type": "display_data"
    }
   ],
   "source": [
    "plt.scatter(principal_components1[:,0],principal_components1[:,1])"
   ]
  },
  {
   "cell_type": "markdown",
   "metadata": {},
   "source": [
    "## Removing Noise datapoints and saving them in rem_points"
   ]
  },
  {
   "cell_type": "code",
   "execution_count": 373,
   "metadata": {},
   "outputs": [
    {
     "data": {
      "text/plain": [
       "59"
      ]
     },
     "execution_count": 373,
     "metadata": {},
     "output_type": "execute_result"
    }
   ],
   "source": [
    "principal_components1 = pd.DataFrame(principal_components1)\n",
    "drop_index1 = principal_components1[(principal_components1[principal_components1.columns[0]] > 12) | (principal_components1[principal_components1.columns[1]]>13) | (principal_components1[principal_components1.columns[0]] < -6.5) | (17*principal_components1[principal_components1.columns[0]] + 19*principal_components1[principal_components1.columns[1]]> 275 ) ].index\n",
    "# drop_index1 = principal_components1[(principal_components1[principal_components1.columns[0]] > 9) | (principal_components1[principal_components1.columns[1]]>10) | (6*principal_components1[principal_components1.columns[0]] - 5*principal_components1[principal_components1.columns[1]]< -55 )].index\n",
    "len(drop_index1)"
   ]
  },
  {
   "cell_type": "code",
   "execution_count": 374,
   "metadata": {},
   "outputs": [
    {
     "name": "stdout",
     "output_type": "stream",
     "text": [
      "(24941, 36)\n"
     ]
    }
   ],
   "source": [
    "rem_points = lead_data.iloc[drop_index1]\n",
    "lead_data.drop(drop_index1, axis=0, inplace=True)\n",
    "print(lead_data.shape)"
   ]
  },
  {
   "cell_type": "code",
   "execution_count": 375,
   "metadata": {},
   "outputs": [
    {
     "data": {
      "text/plain": [
       "<matplotlib.collections.PathCollection at 0x126e939b0>"
      ]
     },
     "execution_count": 375,
     "metadata": {},
     "output_type": "execute_result"
    },
    {
     "data": {
      "image/png": "[encoded data removed]",
      "text/plain": [
       "<matplotlib.figure.Figure at 0x13325fac8>"
      ]
     },
     "metadata": {},
     "output_type": "display_data"
    }
   ],
   "source": [
    "principal_components1.drop(drop_index1, axis=0, inplace=True)\n",
    "principal_components1 = principal_components1.as_matrix()\n",
    "plt.scatter(principal_components1[:,0],principal_components1[:,1])"
   ]
  },
  {
   "cell_type": "markdown",
   "metadata": {},
   "source": [
    "# Scale and train_test_split"
   ]
  },
  {
   "cell_type": "code",
   "execution_count": 376,
   "metadata": {
    "collapsed": true
   },
   "outputs": [],
   "source": [
    "sc = StandardScaler()\n",
    "X = sc.fit_transform(X)"
   ]
  },
  {
   "cell_type": "code",
   "execution_count": 377,
   "metadata": {
    "collapsed": true
   },
   "outputs": [],
   "source": [
    "sc = StandardScaler()\n",
    "X = sc.fit_transform(X)"
   ]
  },
  {
   "cell_type": "code",
   "execution_count": 378,
   "metadata": {
    "collapsed": true
   },
   "outputs": [],
   "source": [
    "X_train, X_test, y_train, y_test = train_test_split(X, y, test_size=0.3, random_state=1)"
   ]
  },
  {
   "cell_type": "markdown",
   "metadata": {},
   "source": [
    "## Models"
   ]
  },
  {
   "cell_type": "code",
   "execution_count": 379,
   "metadata": {
    "collapsed": true
   },
   "outputs": [],
   "source": [
    "random = RandomForestClassifier(n_estimators=200, verbose=1, n_jobs=-1, oob_score=True, random_state=1)\n",
    "gboost = GradientBoostingClassifier(n_estimators=3000, loss='huber', max_features='sqrt', min_samples_leaf=15, random_state=1)\n",
    "xgboost = XGBClassifier()"
   ]
  },
  {
   "cell_type": "code",
   "execution_count": 380,
   "metadata": {},
   "outputs": [
    {
     "name": "stdout",
     "output_type": "stream",
     "text": [
      "0.8116203472172608\n",
      "0.8087518232965201\n"
     ]
    },
    {
     "name": "stderr",
     "output_type": "stream",
     "text": [
      "/anaconda/lib/python3.6/site-packages/sklearn/preprocessing/label.py:171: DeprecationWarning: The truth value of an empty array is ambiguous. Returning False, but in future this will result in an error. Use `array.size > 0` to check that an array is not empty.\n",
      "  if diff:\n",
      "/anaconda/lib/python3.6/site-packages/sklearn/preprocessing/label.py:171: DeprecationWarning: The truth value of an empty array is ambiguous. Returning False, but in future this will result in an error. Use `array.size > 0` to check that an array is not empty.\n",
      "  if diff:\n"
     ]
    }
   ],
   "source": [
    "xgboost.fit(X, y)\n",
    "train_score = xgboost.score(X_train, y_train)\n",
    "test_score = xgboost.score(X_test, y_test)\n",
    "\n",
    "print(train_score)\n",
    "print(test_score)"
   ]
  },
  {
   "cell_type": "markdown",
   "metadata": {},
   "source": [
    "## Gradient Boost"
   ]
  },
  {
   "cell_type": "code",
   "execution_count": 257,
   "metadata": {},
   "outputs": [
    {
     "name": "stdout",
     "output_type": "stream",
     "text": [
      "      Iter       Train Loss   Remaining Time \n",
      "         1           0.8439            2.62m\n",
      "         2           0.8276            2.49m\n",
      "         3           0.8143            2.44m\n",
      "         4           0.8020            2.46m\n",
      "         5           0.7892            2.54m\n",
      "         6           0.7791            2.50m\n",
      "         7           0.7724            2.73m\n",
      "         8           0.7644            2.83m\n",
      "         9           0.7574            2.91m\n",
      "        10           0.7516            2.88m\n",
      "        20           0.7098            2.77m\n",
      "        30           0.6925            2.98m\n",
      "        40           0.6836            2.76m\n",
      "        50           0.6784            2.91m\n",
      "        60           0.6750            2.91m\n",
      "        70           0.6728            2.81m\n",
      "        80           0.6710            2.73m\n",
      "        90           0.6695            2.69m\n",
      "       100           0.6684            2.61m\n",
      "       200           0.6595            2.69m\n",
      "       300           0.6534            2.68m\n",
      "       400           0.6484            2.65m\n",
      "       500           0.6436            2.54m\n",
      "       600           0.6392            2.47m\n",
      "       700           0.6347            2.35m\n",
      "       800           0.6306            2.19m\n",
      "       900           0.6267            2.08m\n",
      "      1000           0.6232            2.08m\n",
      "      2000           0.5912           58.99s\n",
      "      3000           0.5640            0.00s\n"
     ]
    },
    {
     "data": {
      "text/plain": [
       "GradientBoostingClassifier(criterion='friedman_mse', init=None,\n",
       "              learning_rate=0.1, loss='exponential', max_depth=3,\n",
       "              max_features='sqrt', max_leaf_nodes=None,\n",
       "              min_impurity_split=1e-07, min_samples_leaf=15,\n",
       "              min_samples_split=2, min_weight_fraction_leaf=0.0,\n",
       "              n_estimators=3000, presort='auto', random_state=1,\n",
       "              subsample=1.0, verbose=1, warm_start=False)"
      ]
     },
     "execution_count": 257,
     "metadata": {},
     "output_type": "execute_result"
    }
   ],
   "source": [
    "gboost = GradientBoostingClassifier(n_estimators=3000, verbose=1, loss='exponential', max_features='sqrt', min_samples_leaf=15, random_state=1)\n",
    "gboost.fit(X, y)"
   ]
  },
  {
   "cell_type": "code",
   "execution_count": 258,
   "metadata": {},
   "outputs": [
    {
     "name": "stdout",
     "output_type": "stream",
     "text": [
      "0.7973392857142857\n",
      "0.794625\n"
     ]
    }
   ],
   "source": [
    "print(gboost.score(X_train, y_train))\n",
    "print(gboost.score(X_test, y_test))"
   ]
  },
  {
   "cell_type": "markdown",
   "metadata": {},
   "source": [
    "## K-Means"
   ]
  },
  {
   "cell_type": "code",
   "execution_count": null,
   "metadata": {
    "collapsed": true
   },
   "outputs": [],
   "source": [
    "kmeans = KMeans(n_clusters=2, n_init=20, max_iter=500, precompute_distances=True, verbose=True, random_state=1, n_jobs=-1, algorithm=\"elkan\")\n",
    "kmeans.fit(X)"
   ]
  },
  {
   "cell_type": "code",
   "execution_count": null,
   "metadata": {
    "collapsed": true
   },
   "outputs": [],
   "source": [
    "correct = 0\n",
    "pred = kmeans.predict(X_train)\n",
    "for i in range(len(X)):\n",
    "    if pred[0] == y_train[i]\n",
    "        correct++\n",
    "\n",
    "print(correct/len(X))"
   ]
  },
  {
   "cell_type": "markdown",
   "metadata": {},
   "source": [
    "## AdaBoost"
   ]
  },
  {
   "cell_type": "code",
   "execution_count": null,
   "metadata": {
    "collapsed": true
   },
   "outputs": [],
   "source": [
    "ada = AdaBoostClassifier(n_estimators=50,\n",
    "                         learning_rate=0.5,\n",
    "                         random_state=1)\n",
    "adaboost = ada.fit(X,y)\n",
    "pred = adaboost.predict_proba(X_train)\n",
    "print(adaboost.score(pred, y_train))"
   ]
  },
  {
   "cell_type": "markdown",
   "metadata": {
    "collapsed": true
   },
   "source": [
    "## Grid Search LightGBM"
   ]
  },
  {
   "cell_type": "code",
   "execution_count": 234,
   "metadata": {},
   "outputs": [
    {
     "name": "stdout",
     "output_type": "stream",
     "text": [
      "Fitting 5 folds for each of 1 candidates, totalling 5 fits\n"
     ]
    },
    {
     "name": "stderr",
     "output_type": "stream",
     "text": [
      "[Parallel(n_jobs=1)]: Done   5 out of   5 | elapsed:   25.2s finished\n"
     ]
    },
    {
     "data": {
      "text/plain": [
       "GridSearchCV(cv=5, error_score='raise',\n",
       "       estimator=LGBMClassifier(boosting_type='gbdt', colsample_bytree=1.0, learning_rate=0.1,\n",
       "        max_bin=255, max_depth=-1, min_child_samples=10,\n",
       "        min_child_weight=5, min_split_gain=0.01, n_estimators=10,\n",
       "        n_jobs=-1, num_leaves=31, objective=None, random_state=0,\n",
       "        reg_alpha=0.0, reg_lambda=0.0, silent=True, subsample=1.0,\n",
       "        subsample_for_bin=50000, subsample_freq=1, verbose=1),\n",
       "       fit_params={}, iid=True, n_jobs=1,\n",
       "       param_grid={'n_estimators': [300], 'num_leaves': [10], 'colsample_bytree': [0.8], 'max_depth': [10], 'reg_lambda': [0.01]},\n",
       "       pre_dispatch='2*n_jobs', refit=True, return_train_score=True,\n",
       "       scoring='roc_auc', verbose=1)"
      ]
     },
     "execution_count": 234,
     "metadata": {},
     "output_type": "execute_result"
    }
   ],
   "source": [
    "model = lgb.LGBMClassifier(n_jobs=-1, verbose=1, subsample=1.0, min_split_gain=.01)\n",
    "param_grid = {'n_estimators':[300],\n",
    "             'num_leaves':[10],\n",
    "              'colsample_bytree': [0.8],\n",
    "              'max_depth': [10],\n",
    "              'reg_lambda': [0.01]}\n",
    "\n",
    "\n",
    "\n",
    "CV_lgb = GridSearchCV(estimator=model, param_grid=param_grid,scoring='roc_auc', cv= 5, verbose=1)\n",
    "CV_lgb.fit(X, y)"
   ]
  },
  {
   "cell_type": "code",
   "execution_count": 235,
   "metadata": {},
   "outputs": [
    {
     "name": "stdout",
     "output_type": "stream",
     "text": [
      "0.8411680195053124\n",
      "0.8398107700722195\n"
     ]
    }
   ],
   "source": [
    "print(CV_lgb.score(X_train, y_train))\n",
    "print(CV_lgb.score(X_test, y_test))"
   ]
  },
  {
   "cell_type": "code",
   "execution_count": 236,
   "metadata": {},
   "outputs": [
    {
     "data": {
      "text/plain": [
       "{'colsample_bytree': 0.8,\n",
       " 'max_depth': 10,\n",
       " 'n_estimators': 300,\n",
       " 'num_leaves': 10,\n",
       " 'reg_lambda': 0.01}"
      ]
     },
     "execution_count": 236,
     "metadata": {},
     "output_type": "execute_result"
    }
   ],
   "source": [
    "CV_lgb.best_params_"
   ]
  },
  {
   "cell_type": "markdown",
   "metadata": {},
   "source": [
    "# SVM"
   ]
  },
  {
   "cell_type": "code",
   "execution_count": null,
   "metadata": {
    "collapsed": true
   },
   "outputs": [],
   "source": [
    "clf = SVC(probability=True, verbose=True, class_weight={0: 75, 1: 25})\n",
    "clf.fit(X,y)\n",
    "\n",
    "print(clf.score(X_train, y_train))\n",
    "print(clf.score(X_test, y_test))"
   ]
  },
  {
   "cell_type": "markdown",
   "metadata": {
    "collapsed": true
   },
   "source": [
    "# Neural network"
   ]
  },
  {
   "cell_type": "code",
   "execution_count": 429,
   "metadata": {
    "collapsed": true
   },
   "outputs": [],
   "source": [
    "# Importing the Keras libraries and packages\n",
    "import keras\n",
    "from keras.models import Sequential\n",
    "from keras.layers import Dense"
   ]
  },
  {
   "cell_type": "code",
   "execution_count": 440,
   "metadata": {},
   "outputs": [
    {
     "name": "stderr",
     "output_type": "stream",
     "text": [
      "/anaconda/lib/python3.6/site-packages/ipykernel_launcher.py:3: UserWarning: Update your `Dense` call to the Keras 2 API: `Dense(activation=\"relu\", input_dim=35, units=10, kernel_initializer=\"uniform\")`\n",
      "  This is separate from the ipykernel package so we can avoid doing imports until\n",
      "/anaconda/lib/python3.6/site-packages/ipykernel_launcher.py:5: UserWarning: Update your `Dense` call to the Keras 2 API: `Dense(activation=\"relu\", units=10, kernel_initializer=\"uniform\")`\n",
      "  \"\"\"\n",
      "/anaconda/lib/python3.6/site-packages/ipykernel_launcher.py:7: UserWarning: Update your `Dense` call to the Keras 2 API: `Dense(activation=\"sigmoid\", units=1, kernel_initializer=\"uniform\")`\n",
      "  import sys\n"
     ]
    }
   ],
   "source": [
    "# Importing the Keras libraries and packages\n",
    "import keras\n",
    "from keras.models import Sequential\n",
    "from keras.layers import Dense\n",
    "classifier = Sequential()\n",
    "# Adding the input layer and the first hidden layer\n",
    "classifier.add(Dense(output_dim = 200, init = 'uniform', activation = 'relu', input_dim = 35))\n",
    "# Adding the third hidden layer\n",
    "classifier.add(Dense(output_dim = 150, init = 'uniform', activation = 'relu'))\n",
    "# Adding the fourth hidden layer\n",
    "classifier.add(Dense(output_dim = 100, init = 'uniform', activation = 'relu'))\n",
    "# Adding the fifth hidden layer\n",
    "classifier.add(Dense(output_dim = 50, init = 'uniform', activation = 'relu'))\n",
    "# Adding the second hidden layer\n",
    "classifier.add(Dense(output_dim = 25, init = 'uniform', activation = 'relu'))\n",
    "# Adding the output layer\n",
    "classifier.add(Dense(output_dim = 1, init = 'uniform', activation = 'sigmoid'))\n",
    "classifier.compile(optimizer = 'adam', loss = 'binary_crossentropy', metrics = ['accuracy'])\n",
    "classifier.fit(X_train, y_train, batch_size = 10, nb_epoch = 10)"
   ]
  },
  {
   "cell_type": "code",
   "execution_count": 441,
   "metadata": {
    "collapsed": true,
    "scrolled": true
   },
   "outputs": [],
   "source": [
    "classifier.compile(optimizer = 'adam', loss = 'binary_crossentropy', metrics = ['accuracy'])"
   ]
  },
  {
   "cell_type": "code",
   "execution_count": null,
   "metadata": {
    "collapsed": true
   },
   "outputs": [],
   "source": [
    "mlp = MLPClassifier(verbose=True, early_stopping=True, random_state=1)\n",
    "param_grid = {'hidden_layer_sizes': [()]}"
   ]
  },
  {
   "cell_type": "code",
   "execution_count": 442,
   "metadata": {},
   "outputs": [
    {
     "name": "stderr",
     "output_type": "stream",
     "text": [
      "/anaconda/lib/python3.6/site-packages/keras/models.py:848: UserWarning: The `nb_epoch` argument in `fit` has been renamed `epochs`.\n",
      "  warnings.warn('The `nb_epoch` argument in `fit` '\n"
     ]
    },
    {
     "name": "stdout",
     "output_type": "stream",
     "text": [
      "Epoch 1/10\n",
      "55812/55812 [==============================] - 16s - loss: 0.4389 - acc: 0.7861    \n",
      "Epoch 2/10\n",
      "55812/55812 [==============================] - 16s - loss: 0.4258 - acc: 0.7976    \n",
      "Epoch 3/10\n",
      "55812/55812 [==============================] - 16s - loss: 0.4240 - acc: 0.7982    \n",
      "Epoch 4/10\n",
      "55812/55812 [==============================] - 16s - loss: 0.4228 - acc: 0.7999    \n",
      "Epoch 5/10\n",
      "55812/55812 [==============================] - 16s - loss: 0.4221 - acc: 0.8001    \n",
      "Epoch 6/10\n",
      "55812/55812 [==============================] - 17s - loss: 0.4214 - acc: 0.8012    \n",
      "Epoch 7/10\n",
      "55812/55812 [==============================] - 16s - loss: 0.4208 - acc: 0.8004    \n",
      "Epoch 8/10\n",
      "55812/55812 [==============================] - 16s - loss: 0.4206 - acc: 0.8009    \n",
      "Epoch 9/10\n",
      "55812/55812 [==============================] - 16s - loss: 0.4201 - acc: 0.8016    \n",
      "Epoch 10/10\n",
      "55812/55812 [==============================] - 16s - loss: 0.4197 - acc: 0.8010    \n"
     ]
    },
    {
     "data": {
      "text/plain": [
       "<keras.callbacks.History at 0x138fce7b8>"
      ]
     },
     "execution_count": 442,
     "metadata": {},
     "output_type": "execute_result"
    }
   ],
   "source": [
    "classifier.fit(X_train, y_train, batch_size = 10, nb_epoch = 10)"
   ]
  },
  {
   "cell_type": "code",
   "execution_count": 443,
   "metadata": {
    "collapsed": true
   },
   "outputs": [],
   "source": [
    "y_pred = classifier.predict(X_test)\n",
    "y_pred = (y_pred > 0.5)"
   ]
  },
  {
   "cell_type": "code",
   "execution_count": 444,
   "metadata": {},
   "outputs": [
    {
     "data": {
      "text/plain": [
       "array([[16996,  1044],\n",
       "       [ 3688,  2192]])"
      ]
     },
     "execution_count": 444,
     "metadata": {},
     "output_type": "execute_result"
    }
   ],
   "source": [
    "from sklearn.metrics import confusion_matrix\n",
    "cm = confusion_matrix(y_test, y_pred)\n",
    "cm"
   ]
  },
  {
   "cell_type": "code",
   "execution_count": 445,
   "metadata": {
    "collapsed": true
   },
   "outputs": [],
   "source": [
    "X_lead = lead_data[lead_data.columns[1:]]\n",
    "X_lead = X_lead.as_matrix()\n",
    "X_lead = sc.fit_transform(X_lead)\n",
    "# X_lead = pca.transform(X_lead)"
   ]
  },
  {
   "cell_type": "code",
   "execution_count": 446,
   "metadata": {
    "collapsed": true
   },
   "outputs": [],
   "source": [
    "predictions = classifier.predict(X_lead)"
   ]
  },
  {
   "cell_type": "code",
   "execution_count": 447,
   "metadata": {
    "collapsed": true
   },
   "outputs": [],
   "source": [
    "sub = pd.DataFrame()\n",
    "sub['app_id'] = lead_data['application_key']\n",
    "sub['pred'] = predictions\n",
    "# app_data.head()\n",
    "sub.sort_values(by=['pred'],ascending=True, inplace=True)\n",
    "app_data = pd.DataFrame()\n",
    "app_data['app_id'] = rem_points['application_key']\n",
    "app_data['pred'] = list(np.zeros(app_data.shape[0], dtype=np.int64))\n",
    "sub['pred'] = [1 if x >=0.50 else 0 for x in sub['pred']]\n",
    "frames = [sub, app_data]\n",
    "sub = pd.concat(frames)\n",
    "sub = sub.as_matrix().astype(np.int64)"
   ]
  },
  {
   "cell_type": "code",
   "execution_count": 448,
   "metadata": {
    "collapsed": true
   },
   "outputs": [],
   "source": [
    "np.savetxt('Etching_coders_IITMadras_243.csv',sub,fmt='%5d', delimiter=\",\")"
   ]
  },
  {
   "cell_type": "markdown",
   "metadata": {},
   "source": [
    "## Grid search CV Random forest"
   ]
  },
  {
   "cell_type": "code",
   "execution_count": null,
   "metadata": {
    "collapsed": true
   },
   "outputs": [],
   "source": [
    "rf = RandomForestClassifier(n_jobs=4, oob_score=False, verbose=1, random_state=1)\n",
    "param_grid = {'criterion': [\"gini\", \"entropy\"],\n",
    "              'max_features': [\"auto\", \"sqrt\", \"log2\"],\n",
    "              'n_estimators':[200],\n",
    "             'min_samples_leaf':[1, 5, 10],\n",
    "             'min_samples_split':[2,5,10],\n",
    "             'max_depth':[5,10,15,20]}\n",
    "\n",
    "\n",
    "\n",
    "CV_rf = GridSearchCV(estimator=rf, param_grid=param_grid,scoring='roc_auc', cv= 3, verbose=1)\n",
    "CV_rf.fit(X_train, y_train)"
   ]
  },
  {
   "cell_type": "code",
   "execution_count": null,
   "metadata": {
    "collapsed": true
   },
   "outputs": [],
   "source": [
    "train_score = CV_rf.score(X_train, y_train)\n",
    "test_score = CV_rf.score(X_test, y_test)\n",
    "\n",
    "print(train_score)\n",
    "print(test_score)"
   ]
  },
  {
   "cell_type": "code",
   "execution_count": null,
   "metadata": {
    "collapsed": true
   },
   "outputs": [],
   "source": [
    "CV_rf.best_params_"
   ]
  },
  {
   "cell_type": "code",
   "execution_count": null,
   "metadata": {
    "collapsed": true
   },
   "outputs": [],
   "source": [
    "random.fit(X_train, y_train)\n",
    "\n",
    "train_score = random.score(X_train, y_train)\n",
    "test_score = random.score(X_test, y_test)\n",
    "oob_score = random.oob_score_\n",
    "\n",
    "print(train_score)\n",
    "print(test_score)\n",
    "print(oob_score)"
   ]
  },
  {
   "cell_type": "markdown",
   "metadata": {},
   "source": [
    "## Grid Search CV XGboost"
   ]
  },
  {
   "cell_type": "code",
   "execution_count": 312,
   "metadata": {
    "collapsed": true
   },
   "outputs": [],
   "source": [
    "######### This is for 910000 ############\n",
    "param_grid1 = {'n_estimators': [200],\n",
    "              'learning_rate': [0.2],\n",
    "             'gamma': [1.5],\n",
    "              'reg_lambda': [30]\n",
    "             }\n",
    "# drop_index = principal_components[(principal_components[principal_components.columns[0]] > 10) | (principal_components[principal_components.columns[1]]>25) | (principal_components[principal_components.columns[0]]<-9) | (4*principal_components[principal_components.columns[0]] + 5*principal_components[principal_components.columns[1]]>90 ) ].index"
   ]
  },
  {
   "cell_type": "code",
   "execution_count": 313,
   "metadata": {},
   "outputs": [
    {
     "name": "stdout",
     "output_type": "stream",
     "text": [
      "Fitting 5 folds for each of 1 candidates, totalling 5 fits\n"
     ]
    },
    {
     "name": "stderr",
     "output_type": "stream",
     "text": [
      "[Parallel(n_jobs=1)]: Done   5 out of   5 | elapsed:  2.4min finished\n"
     ]
    },
    {
     "data": {
      "text/plain": [
       "GridSearchCV(cv=5, error_score='raise',\n",
       "       estimator=XGBClassifier(base_score=0.5, booster='gbtree', colsample_bylevel=1,\n",
       "       colsample_bytree=1, gamma=0, learning_rate=0.1, max_delta_step=0,\n",
       "       max_depth=3, min_child_weight=1, missing=None, n_estimators=100,\n",
       "       n_jobs=-1, nthread=None, objective='binary:logistic',\n",
       "       random_state=1, reg_alpha=0, reg_lambda=1, scale_pos_weight=1,\n",
       "       seed=None, silent=False, subsample=1),\n",
       "       fit_params={}, iid=True, n_jobs=1,\n",
       "       param_grid={'n_estimators': [200], 'learning_rate': [0.2], 'gamma': [1.5], 'reg_lambda': [30]},\n",
       "       pre_dispatch='2*n_jobs', refit=True, return_train_score=True,\n",
       "       scoring='roc_auc', verbose=1)"
      ]
     },
     "execution_count": 313,
     "metadata": {},
     "output_type": "execute_result"
    }
   ],
   "source": [
    "xgb = XGBClassifier(n_jobs=-1, silent=False, random_state=1)\n",
    "# 'learning_rate':[0.01, 0.05, 0.1, 0.2],\n",
    "param_grid = {'n_estimators': [200],\n",
    "              'learning_rate': [0.2],\n",
    "              'gamma': [1.5],\n",
    "              'reg_lambda': [30]\n",
    "             }\n",
    "\n",
    "\n",
    "\n",
    "CV_xgb = GridSearchCV(estimator=xgb, param_grid=param_grid,scoring='roc_auc', cv= 5, verbose=1)\n",
    "CV_xgb.fit(X, y)"
   ]
  },
  {
   "cell_type": "code",
   "execution_count": 314,
   "metadata": {},
   "outputs": [
    {
     "name": "stdout",
     "output_type": "stream",
     "text": [
      "0.8531912592984565\n",
      "0.8533719894087276\n"
     ]
    }
   ],
   "source": [
    "train_score = CV_xgb.score(X_train, y_train)\n",
    "test_score = CV_xgb.score(X_test, y_test)\n",
    "\n",
    "print(train_score)\n",
    "print(test_score)"
   ]
  },
  {
   "cell_type": "code",
   "execution_count": 239,
   "metadata": {},
   "outputs": [
    {
     "data": {
      "text/plain": [
       "{'gamma': 1.5, 'learning_rate': 0.2, 'n_estimators': 200, 'reg_lambda': 30}"
      ]
     },
     "execution_count": 239,
     "metadata": {},
     "output_type": "execute_result"
    }
   ],
   "source": [
    "CV_xgb.best_params_"
   ]
  },
  {
   "cell_type": "code",
   "execution_count": null,
   "metadata": {
    "collapsed": true
   },
   "outputs": [],
   "source": [
    "new_boost = XGBClassifier(n_estimators=200,learning_rate=0.2, gamma=1.5,silent=False,reg_lambda=30, random_state=1, n_jobs=-1)\n",
    "new_boost.fit(X, y)\n",
    "\n",
    "train_score = new_boost.score(X_train, y_train)\n",
    "test_score = new_boost.score(X_test, y_test)\n",
    "\n",
    "print(train_score)\n",
    "print(test_score)"
   ]
  },
  {
   "cell_type": "markdown",
   "metadata": {},
   "source": [
    "## Using LeaderBoard_dataset as training dataset"
   ]
  },
  {
   "cell_type": "code",
   "execution_count": null,
   "metadata": {
    "collapsed": true
   },
   "outputs": [],
   "source": [
    "X_lead = lead_data[lead_data.columns[1:]]\n",
    "X_lead = X_lead.as_matrix()"
   ]
  },
  {
   "cell_type": "code",
   "execution_count": null,
   "metadata": {
    "collapsed": true
   },
   "outputs": [],
   "source": [
    "X_lead = sc.transform(X_lead)\n",
    "# X_lead = pca.transform(X_lead)"
   ]
  },
  {
   "cell_type": "code",
   "execution_count": null,
   "metadata": {
    "collapsed": true
   },
   "outputs": [],
   "source": [
    "# predictions = new_boost.predict_proba(X_lead)\n",
    "predictions = CV_xgb.predict_proba(X_lead)\n",
    "predictions.shape"
   ]
  },
  {
   "cell_type": "code",
   "execution_count": null,
   "metadata": {
    "collapsed": true
   },
   "outputs": [],
   "source": [
    "predictions = predictions[:,1]"
   ]
  },
  {
   "cell_type": "code",
   "execution_count": null,
   "metadata": {
    "collapsed": true
   },
   "outputs": [],
   "source": [
    "sub = pd.DataFrame()\n",
    "sub['app_id'] = lead_data['application_key']\n",
    "sub['pred'] = pd.Series(predictions)"
   ]
  },
  {
   "cell_type": "code",
   "execution_count": null,
   "metadata": {
    "collapsed": true
   },
   "outputs": [],
   "source": [
    "sub['pred'] = [1 if x >=0.50 else 0 for x in sub['pred']]"
   ]
  },
  {
   "cell_type": "code",
   "execution_count": null,
   "metadata": {
    "collapsed": true
   },
   "outputs": [],
   "source": [
    "new_lead_data = lead_data.copy()\n",
    "new_lead_data['default_ind'] = sub['pred']\n",
    "new_lead_data.head(2)"
   ]
  },
  {
   "cell_type": "code",
   "execution_count": null,
   "metadata": {
    "collapsed": true
   },
   "outputs": [],
   "source": [
    "new_lead_data.columns = ['application_key'] + list(data.columns)"
   ]
  },
  {
   "cell_type": "code",
   "execution_count": null,
   "metadata": {
    "collapsed": true
   },
   "outputs": [],
   "source": [
    "new_lead_data.drop(['application_key'], axis=1, inplace=True)\n"
   ]
  },
  {
   "cell_type": "code",
   "execution_count": null,
   "metadata": {
    "collapsed": true
   },
   "outputs": [],
   "source": [
    "new_lead_data.index = list(range(80000,105000))\n",
    "frame = [data, new_lead_data]\n",
    "new_train_data = pd.concat(frame)\n",
    "# new_train_data = new_lead_data\n",
    "print(new_train_data.shape)\n",
    "new_train_data.tail()"
   ]
  },
  {
   "cell_type": "markdown",
   "metadata": {},
   "source": [
    "# Training on the new dataset"
   ]
  },
  {
   "cell_type": "code",
   "execution_count": null,
   "metadata": {
    "collapsed": true
   },
   "outputs": [],
   "source": [
    "feature = new_train_data.columns[:-1]\n",
    "target = new_train_data.columns[-1]\n",
    "X = new_train_data[feature]\n",
    "y = new_train_data[target]\n",
    "# X = X.as_matrix()\n",
    "# y = y.as_matrix()"
   ]
  },
  {
   "cell_type": "code",
   "execution_count": null,
   "metadata": {
    "collapsed": true
   },
   "outputs": [],
   "source": [
    "X.shape"
   ]
  },
  {
   "cell_type": "code",
   "execution_count": null,
   "metadata": {
    "collapsed": true
   },
   "outputs": [],
   "source": [
    "print(type(X))"
   ]
  },
  {
   "cell_type": "code",
   "execution_count": null,
   "metadata": {
    "collapsed": true
   },
   "outputs": [],
   "source": [
    "sc = StandardScaler()\n",
    "X = sc.fit_transform(X)"
   ]
  },
  {
   "cell_type": "code",
   "execution_count": null,
   "metadata": {
    "collapsed": true
   },
   "outputs": [],
   "source": [
    "xgb = XGBClassifier(n_jobs=-1, silent=False, random_state=1)\n",
    "# 'learning_rate':[0.01, 0.05, 0.1, 0.2],\n",
    "param_grid = {'n_estimators': [200],\n",
    "              'learning_rate': [0.2],\n",
    "              'gamma': [1.5],\n",
    "              'reg_lambda': [30]\n",
    "             }\n",
    "\n",
    "\n",
    "\n",
    "CV_xgb = GridSearchCV(estimator=xgb, param_grid=param_grid,scoring='roc_auc', cv= 3, verbose=1)\n",
    "CV_xgb.fit(X, y)"
   ]
  },
  {
   "cell_type": "code",
   "execution_count": null,
   "metadata": {
    "collapsed": true
   },
   "outputs": [],
   "source": [
    "X_lat = data[feature]\n",
    "y_lat = data[target]"
   ]
  },
  {
   "cell_type": "code",
   "execution_count": null,
   "metadata": {
    "collapsed": true
   },
   "outputs": [],
   "source": [
    "X_train, X_test, y_train, y_test = train_test_split(X_lat, y_lat, test_size=0.3, random_state=1)"
   ]
  },
  {
   "cell_type": "code",
   "execution_count": null,
   "metadata": {
    "collapsed": true
   },
   "outputs": [],
   "source": [
    "X_lat.shape"
   ]
  },
  {
   "cell_type": "code",
   "execution_count": null,
   "metadata": {
    "collapsed": true
   },
   "outputs": [],
   "source": [
    "y_test.shape"
   ]
  },
  {
   "cell_type": "code",
   "execution_count": null,
   "metadata": {
    "collapsed": true
   },
   "outputs": [],
   "source": [
    "train_score = CV_xgb.score(X_train, y_train)\n",
    "test_score = CV_xgb.score(X_test, y_test)\n",
    "\n",
    "print(train_score)\n",
    "print(test_score)"
   ]
  },
  {
   "cell_type": "markdown",
   "metadata": {
    "collapsed": true
   },
   "source": [
    "# Leaderboard dataset"
   ]
  },
  {
   "cell_type": "code",
   "execution_count": 381,
   "metadata": {
    "collapsed": true
   },
   "outputs": [],
   "source": [
    "X_lead = lead_data[lead_data.columns[1:]]\n",
    "X_lead = X_lead.as_matrix()"
   ]
  },
  {
   "cell_type": "code",
   "execution_count": 382,
   "metadata": {
    "collapsed": true
   },
   "outputs": [],
   "source": [
    "X_lead = sc.fit_transform(X_lead)\n",
    "# X_lead = pca.transform(X_lead)"
   ]
  },
  {
   "cell_type": "code",
   "execution_count": 383,
   "metadata": {},
   "outputs": [
    {
     "data": {
      "text/plain": [
       "(24941, 2)"
      ]
     },
     "execution_count": 383,
     "metadata": {},
     "output_type": "execute_result"
    }
   ],
   "source": [
    "# predictions = new_boost.predict_proba(X_lead)\n",
    "predictions = xgboost.predict_proba(X_lead)\n",
    "predictions.shape"
   ]
  },
  {
   "cell_type": "markdown",
   "metadata": {},
   "source": [
    "## Submission part"
   ]
  },
  {
   "cell_type": "code",
   "execution_count": 384,
   "metadata": {
    "collapsed": true
   },
   "outputs": [],
   "source": [
    "predictions = predictions[:,1]"
   ]
  },
  {
   "cell_type": "code",
   "execution_count": 385,
   "metadata": {
    "collapsed": true
   },
   "outputs": [],
   "source": [
    "sub = pd.DataFrame()\n",
    "sub['app_id'] = lead_data['application_key']\n",
    "sub['pred'] = pd.Series(predictions)"
   ]
  },
  {
   "cell_type": "code",
   "execution_count": 386,
   "metadata": {
    "collapsed": true
   },
   "outputs": [],
   "source": [
    "sub.sort_values(by=['pred'],ascending=True, inplace=True)"
   ]
  },
  {
   "cell_type": "code",
   "execution_count": 387,
   "metadata": {
    "collapsed": true,
    "scrolled": true
   },
   "outputs": [],
   "source": [
    "app_data = pd.DataFrame()\n",
    "app_data['app_id'] = rem_points['application_key']\n",
    "app_data['pred'] = list(np.zeros(app_data.shape[0], dtype=np.int64))\n",
    "# app_data.head()"
   ]
  },
  {
   "cell_type": "code",
   "execution_count": 388,
   "metadata": {
    "collapsed": true
   },
   "outputs": [],
   "source": [
    "sub['pred'] = [1 if x >=0.50 else 0 for x in sub['pred']]"
   ]
  },
  {
   "cell_type": "code",
   "execution_count": 389,
   "metadata": {
    "collapsed": true
   },
   "outputs": [],
   "source": [
    "frames = [sub, app_data]\n",
    "sub = pd.concat(frames)\n",
    "# sub = sub.as_matrix().astype(np.int64)"
   ]
  },
  {
   "cell_type": "code",
   "execution_count": 390,
   "metadata": {
    "collapsed": true
   },
   "outputs": [],
   "source": [
    "np.savetxt('Etching_coders_IITMadras_279.csv',sub,fmt='%5d', delimiter=\",\")"
   ]
  },
  {
   "cell_type": "code",
   "execution_count": null,
   "metadata": {
    "collapsed": true
   },
   "outputs": [],
   "source": [
    "sub.to_csv('Etching_coders_IITMadras_109.csv',header=False,index=False)"
   ]
  },
  {
   "cell_type": "code",
   "execution_count": null,
   "metadata": {
    "collapsed": true
   },
   "outputs": [],
   "source": [
    "print(type(sub['pred'].iloc[0]))"
   ]
  },
  {
   "cell_type": "markdown",
   "metadata": {},
   "source": [
    "### Reordering"
   ]
  },
  {
   "cell_type": "code",
   "execution_count": null,
   "metadata": {
    "collapsed": true
   },
   "outputs": [],
   "source": [
    "filtered = sub[sub['pred']>=0.95]\n",
    "print(filtered.shape)\n",
    "filtered.head()"
   ]
  },
  {
   "cell_type": "code",
   "execution_count": null,
   "metadata": {
    "collapsed": true
   },
   "outputs": [],
   "source": [
    "drop_indices = list(filtered.index)\n",
    "sub.drop(drop_indices, axis=0, inplace=True)"
   ]
  },
  {
   "cell_type": "code",
   "execution_count": null,
   "metadata": {
    "collapsed": true
   },
   "outputs": [],
   "source": [
    "frames = [filtered, sub]\n",
    "result = pd.concat(frames)"
   ]
  },
  {
   "cell_type": "code",
   "execution_count": null,
   "metadata": {
    "collapsed": true
   },
   "outputs": [],
   "source": [
    "result['pred'] = [1 if x >=0.50 else 0 for x in result['pred']]"
   ]
  },
  {
   "cell_type": "code",
   "execution_count": null,
   "metadata": {
    "collapsed": true
   },
   "outputs": [],
   "source": [
    "result.to_csv(path_or_buf='Etching_coders_IITMadras_64.csv',header=False,index=False)"
   ]
  },
  {
   "cell_type": "code",
   "execution_count": null,
   "metadata": {
    "collapsed": true
   },
   "outputs": [],
   "source": [
    "result.shape"
   ]
  },
  {
   "cell_type": "markdown",
   "metadata": {
    "collapsed": true
   },
   "source": [
    "## Outlier detection"
   ]
  },
  {
   "cell_type": "code",
   "execution_count": null,
   "metadata": {
    "collapsed": true
   },
   "outputs": [],
   "source": [
    "for cols in lead_data.columns:\n",
    "    iq = lead_data[cols].quantile(q=0.75) - lead_data[cols].quantile(q=0.25)\n",
    "    up_limit = lead_data[cols].quantile(q=0.75) + 1.5*iq\n",
    "    lead_data[lead_data[cols]>up_limit] = lead_data[cols].quantile(q=0.5)\n",
    "    \n",
    "lead_data.describe()"
   ]
  }
 ],
 "metadata": {
  "kernelspec": {
   "display_name": "Python 3",
   "language": "python",
   "name": "python3"
  },
  "language_info": {
   "codemirror_mode": {
    "name": "ipython",
    "version": 3
   },
   "file_extension": ".py",
   "mimetype": "text/x-python",
   "name": "python",
   "nbconvert_exporter": "python",
   "pygments_lexer": "ipython3",
   "version": "3.6.1"
  }
 },
 "nbformat": 4,
 "nbformat_minor": 2
}
